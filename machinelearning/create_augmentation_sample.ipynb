{
  "nbformat": 4,
  "nbformat_minor": 0,
  "metadata": {
    "colab": {
      "name": "create_augmentation_sample.ipynb",
      "provenance": [],
      "collapsed_sections": []
    },
    "kernelspec": {
      "name": "python3",
      "display_name": "Python 3"
    },
    "language_info": {
      "name": "python"
    },
    "accelerator": "GPU",
    "gpuClass": "standard"
  },
  "cells": [
    {
      "cell_type": "markdown",
      "source": [
        "## CREATE AUGMENTATION SAMPLE\n"
      ],
      "metadata": {
        "id": "bb_fPpJ4vl-3"
      }
    },
    {
      "cell_type": "code",
      "execution_count": 1,
      "metadata": {
        "colab": {
          "base_uri": "https://localhost:8080/"
        },
        "id": "Y1Rdsh0bCbrz",
        "outputId": "f871192c-967b-43bb-b85d-e2e626378ac9"
      },
      "outputs": [
        {
          "output_type": "stream",
          "name": "stdout",
          "text": [
            "Mounted at /content/drive\n"
          ]
        }
      ],
      "source": [
        "from google.colab import drive\n",
        "drive.mount('/content/drive')"
      ]
    },
    {
      "cell_type": "code",
      "source": [
        "from __future__ import print_function\n",
        "%matplotlib inline\n",
        "import argparse\n",
        "import os\n",
        "import random\n",
        "import numpy as np\n",
        "import pandas as pd\n",
        "import matplotlib.pyplot as plt\n",
        "import seaborn as sns\n",
        "from tabulate import tabulate\n",
        "from sklearn.model_selection import train_test_split\n",
        "from collections import Counter\n",
        "from tqdm import tqdm_notebook as tqdm\n",
        "from sklearn.preprocessing import LabelEncoder\n",
        "from PIL import Image\n",
        "import torch\n",
        "import torch.nn as nn\n",
        "import torch.nn.functional as F\n",
        "import torch.nn.parallel\n",
        "import torch.backends.cudnn as cudnn\n",
        "import torch.optim as optim\n",
        "import torch.utils.data\n",
        "import torchvision.datasets as dset\n",
        "import torchvision.transforms as transforms\n",
        "import torchvision.utils as vutils\n",
        "from torch.utils.data.sampler import SubsetRandomSampler\n",
        "from torch.utils.data import Dataset\n",
        "import torchvision\n",
        "from torchvision import datasets, transforms, models"
      ],
      "metadata": {
        "id": "yDbTc2w3-8HB"
      },
      "execution_count": 2,
      "outputs": []
    },
    {
      "cell_type": "code",
      "source": [
        "path = os.path.abspath('/content/drive/MyDrive/Colab Notebooks')\n",
        "os.chdir(path)\n",
        "print(path)"
      ],
      "metadata": {
        "colab": {
          "base_uri": "https://localhost:8080/"
        },
        "id": "iqNkDaBbENTp",
        "outputId": "fbda86fc-a41f-48ed-c703-8353dfa1d65d"
      },
      "execution_count": 3,
      "outputs": [
        {
          "output_type": "stream",
          "name": "stdout",
          "text": [
            "/content/drive/MyDrive/Colab Notebooks\n"
          ]
        }
      ]
    },
    {
      "cell_type": "code",
      "source": [
        "SEED =  12321\n",
        "def seed_everything(seed):\n",
        "    random.seed(seed)\n",
        "    os.environ['PYTHONHASHSEED'] = str(seed)\n",
        "    np.random.seed(seed)\n",
        "    torch.manual_seed(seed)\n",
        "    torch.cuda.manual_seed(seed)\n",
        "    torch.backends.cudnn.deterministic = True\n",
        "    torch.backends.cudnn.benchmark = True\n",
        "\n",
        "seed_everything(SEED)"
      ],
      "metadata": {
        "id": "icb6dcwdHPCv"
      },
      "execution_count": 4,
      "outputs": []
    },
    {
      "cell_type": "markdown",
      "source": [
        "### Helper functions"
      ],
      "metadata": {
        "id": "MNyI_XNvFz5Y"
      }
    },
    {
      "cell_type": "code",
      "source": [
        "def plot_histogram(data, plot_properties):\n",
        "  \"\"\" Generic function to plot a histogram.\n",
        "      param: data- is an 1D array of data\n",
        "      param: plot_properties- a dictionary of properties like:\n",
        "      {\"title\":\"\",\"xlabel\":\"\",\"ylabel\":\"\"}\n",
        "  \"\"\"\n",
        "  plt.figure(figsize=(10, 6))\n",
        "  plt.hist(data)\n",
        "  plt.grid(False)\n",
        "  plt.title(plot_properties[\"title\"])\n",
        "  plt.xlabel(plot_properties[\"xlabel\"])\n",
        "  plt.ylabel(plot_properties[\"ylabel\"])\n",
        "  plt.show()\n",
        "\n",
        "\n",
        "def plot_box(data, plot_properties):\n",
        "  \"\"\" Generic function to plot a box plot.\n",
        "      param: data- is an 1D array of data\n",
        "      param: plot_properties- a dictionary of properties like:\n",
        "      {\"title\":\"\",\"xlabel\":\"\",\"ylabel\":\"\"}\n",
        "  \"\"\"\n",
        "  plt.figure(figsize=(10, 6))\n",
        "  plt.boxplot(data)\n",
        "  plt.grid(False)\n",
        "  plt.title(plot_properties[\"title\"])\n",
        "  plt.xlabel(plot_properties[\"xlabel\"])\n",
        "  plt.ylabel(plot_properties[\"ylabel\"])\n",
        "  plt.show()\n",
        "    \n",
        "def plot_count(data,plot_properties):\n",
        "    \"\"\" Generic for a count plot.\n",
        "      param: data- is an 1D array of data\n",
        "      param: plot_properties- a dictionary of properties like:\n",
        "      {\"title\":\"\",\"xlabel\":\"\",\"ylabel\":\"\", \"x\":\"\"}\n",
        "    \"\"\"\n",
        "    plt.figure(figsize=(10, 6))\n",
        "    chart = sns.countplot(data,x=plot_properties['x'],palette='Set2')\n",
        "    chart.set_xticklabels(chart.get_xticklabels(), \n",
        "                      rotation=45, horizontalalignment='right')\n",
        "    plt.title(plot_properties[\"title\"])\n",
        "    plt.xlabel(plot_properties[\"xlabel\"])\n",
        "    plt.ylabel(plot_properties[\"ylabel\"])\n",
        "    plt.show()\n",
        "\n",
        "def exploring_new_dataset(dataset):\n",
        "  \"\"\" This function performs the role of\n",
        "      displaying the common information about a dataset\n",
        "  \"\"\"\n",
        "  print(\"Sample length\",len(dataset))\n",
        "  print(dataset.groupby('target').image_name.count())\n",
        "  plot_count(dataset.benign_malignant, \n",
        "               {\"title\":\"IMAGES BY GROUND TRUTH\",\n",
        "                \"xlabel\":\"TARGET\",\"ylabel\":\"NUMBER OF IMAGES\",\"x\":\"target\"})\n"
      ],
      "metadata": {
        "id": "NLXxNjqpim9B"
      },
      "execution_count": 5,
      "outputs": []
    },
    {
      "cell_type": "code",
      "source": [
        "def get_sample_from_df(sample,n):\n",
        "    for i in list(range(n,0, -1)):\n",
        "        if len(sample)>=i:\n",
        "            return sample.sample(n=i, random_state=SEED).index[:i]\n",
        "        \n",
        "    return [];\n",
        "\n",
        "\n",
        "def sample_by_patient(dataset,num_sample=1):\n",
        "  \"\"\" Get patient id as category\n",
        "   Prepare two datasets:\n",
        "   for each patient_id\n",
        "       select get records\n",
        "         if malignant\n",
        "           sample num_sample\n",
        "         elif benign\n",
        "           sample num_sample\"\"\"\n",
        "  unique_patient_id = dataset.patient_id.cat.categories\n",
        "  malignant_df = dataset[dataset['target'] == 1]\n",
        "  benign_df = dataset[dataset['target'] == 0]\n",
        "  sample_indices = []\n",
        "  #samples per patient\n",
        "  for  patient_id in unique_patient_id:\n",
        "      patient_sample = malignant_df[malignant_df['patient_id']==patient_id]\n",
        "      if len(patient_sample):\n",
        "          sample_indices.extend(get_sample_from_df(patient_sample,num_sample))\n",
        "      else:\n",
        "          patient_sample = benign_df[benign_df['patient_id']==patient_id]\n",
        "          sample_indices.extend(get_sample_from_df(patient_sample,num_sample))\n",
        "\n",
        "  return dataset.loc[sample_indices]\n",
        "\n",
        "def perform_sampling(dataset,sampling_type=\"\", patient_group_sample=1):\n",
        "  \"\"\"function to perform sampling based on\n",
        "     the sampling type provided.\n",
        "     Return train, test dataset\n",
        "  \"\"\"\n",
        "  train = None\n",
        "  test = None\n",
        "  if sampling_type==\"PATIENT_GROUP\":\n",
        "    sample=sample_by_patient(dataset,patient_group_sample)\n",
        "    train, test = train_test_split(sample, test_size=0.2, shuffle=True, random_state=SEED)\n",
        "  else:\n",
        "    # default train_test split by 8:2\n",
        "    train, test = train_test_split(dataset, test_size=0.2, shuffle=True, random_state=SEED)\n",
        "\n",
        "  return train,test;   \n"
      ],
      "metadata": {
        "id": "mpRzqnDiF2wd"
      },
      "execution_count": 6,
      "outputs": []
    },
    {
      "cell_type": "code",
      "source": [
        "def set_image_file_name(row,base_path):\n",
        "    \"\"\"We create the image file name\"\"\"\n",
        "    file = row[\"image_name\"]+\".jpg\"\n",
        "    file_path = os.path.join(base_path, file)\n",
        "    return file_path if os.path.exists(file_path) else np.nan\n",
        "\n",
        "def create_benign_malignant_column(row):\n",
        "    \"\"\"Create benign and malignant classes from HAM10000\"\"\"\n",
        "    if(row['dx']==\"mel\"):\n",
        "      return \"malignant\"\n",
        "    if(row['dx']==\"bkl\"):\n",
        "      return \"malignant\"\n",
        "    if(row['dx']==\"bcc\"):\n",
        "      return \"malignant\"     \n",
        "    elif row['dx']==\"nv\":\n",
        "      return \"benign\"\n",
        "    else:    \n",
        "     return np.nan    "
      ],
      "metadata": {
        "id": "b0NwBBvgECyN"
      },
      "execution_count": 7,
      "outputs": []
    },
    {
      "cell_type": "markdown",
      "source": [
        "### Load the dataset\n",
        "We load the train.csv dataset csv. Then perform the following:\n",
        "\n",
        "\n"
      ],
      "metadata": {
        "id": "lUdkXrHkEZZl"
      }
    },
    {
      "cell_type": "code",
      "source": [
        "isic_siim_df = pd.read_csv(\"aug_sample.csv\")\n",
        "isic_siim_df.head()"
      ],
      "metadata": {
        "colab": {
          "base_uri": "https://localhost:8080/",
          "height": 206
        },
        "id": "ukU-bFqLERhX",
        "outputId": "16a71114-39a2-43fa-a130-8b7e4c817eb0"
      },
      "execution_count": 8,
      "outputs": [
        {
          "output_type": "execute_result",
          "data": {
            "text/plain": [
              "             image_name benign_malignant  target                    images\n",
              "0  aug/AUG_ISIC_0030659        malignant       1  aug/AUG_ISIC_0030659.jpg\n",
              "1  aug/AUG_ISIC_0029193        malignant       1  aug/AUG_ISIC_0029193.jpg\n",
              "2  aug/AUG_ISIC_0032358        malignant       1  aug/AUG_ISIC_0032358.jpg\n",
              "3  aug/AUG_ISIC_0024701        malignant       1  aug/AUG_ISIC_0024701.jpg\n",
              "4  aug/AUG_ISIC_0031945        malignant       1  aug/AUG_ISIC_0031945.jpg"
            ],
            "text/html": [
              "\n",
              "  <div id=\"df-7827fe82-d972-4fee-92e2-062d40448ce6\">\n",
              "    <div class=\"colab-df-container\">\n",
              "      <div>\n",
              "<style scoped>\n",
              "    .dataframe tbody tr th:only-of-type {\n",
              "        vertical-align: middle;\n",
              "    }\n",
              "\n",
              "    .dataframe tbody tr th {\n",
              "        vertical-align: top;\n",
              "    }\n",
              "\n",
              "    .dataframe thead th {\n",
              "        text-align: right;\n",
              "    }\n",
              "</style>\n",
              "<table border=\"1\" class=\"dataframe\">\n",
              "  <thead>\n",
              "    <tr style=\"text-align: right;\">\n",
              "      <th></th>\n",
              "      <th>image_name</th>\n",
              "      <th>benign_malignant</th>\n",
              "      <th>target</th>\n",
              "      <th>images</th>\n",
              "    </tr>\n",
              "  </thead>\n",
              "  <tbody>\n",
              "    <tr>\n",
              "      <th>0</th>\n",
              "      <td>aug/AUG_ISIC_0030659</td>\n",
              "      <td>malignant</td>\n",
              "      <td>1</td>\n",
              "      <td>aug/AUG_ISIC_0030659.jpg</td>\n",
              "    </tr>\n",
              "    <tr>\n",
              "      <th>1</th>\n",
              "      <td>aug/AUG_ISIC_0029193</td>\n",
              "      <td>malignant</td>\n",
              "      <td>1</td>\n",
              "      <td>aug/AUG_ISIC_0029193.jpg</td>\n",
              "    </tr>\n",
              "    <tr>\n",
              "      <th>2</th>\n",
              "      <td>aug/AUG_ISIC_0032358</td>\n",
              "      <td>malignant</td>\n",
              "      <td>1</td>\n",
              "      <td>aug/AUG_ISIC_0032358.jpg</td>\n",
              "    </tr>\n",
              "    <tr>\n",
              "      <th>3</th>\n",
              "      <td>aug/AUG_ISIC_0024701</td>\n",
              "      <td>malignant</td>\n",
              "      <td>1</td>\n",
              "      <td>aug/AUG_ISIC_0024701.jpg</td>\n",
              "    </tr>\n",
              "    <tr>\n",
              "      <th>4</th>\n",
              "      <td>aug/AUG_ISIC_0031945</td>\n",
              "      <td>malignant</td>\n",
              "      <td>1</td>\n",
              "      <td>aug/AUG_ISIC_0031945.jpg</td>\n",
              "    </tr>\n",
              "  </tbody>\n",
              "</table>\n",
              "</div>\n",
              "      <button class=\"colab-df-convert\" onclick=\"convertToInteractive('df-7827fe82-d972-4fee-92e2-062d40448ce6')\"\n",
              "              title=\"Convert this dataframe to an interactive table.\"\n",
              "              style=\"display:none;\">\n",
              "        \n",
              "  <svg xmlns=\"http://www.w3.org/2000/svg\" height=\"24px\"viewBox=\"0 0 24 24\"\n",
              "       width=\"24px\">\n",
              "    <path d=\"M0 0h24v24H0V0z\" fill=\"none\"/>\n",
              "    <path d=\"M18.56 5.44l.94 2.06.94-2.06 2.06-.94-2.06-.94-.94-2.06-.94 2.06-2.06.94zm-11 1L8.5 8.5l.94-2.06 2.06-.94-2.06-.94L8.5 2.5l-.94 2.06-2.06.94zm10 10l.94 2.06.94-2.06 2.06-.94-2.06-.94-.94-2.06-.94 2.06-2.06.94z\"/><path d=\"M17.41 7.96l-1.37-1.37c-.4-.4-.92-.59-1.43-.59-.52 0-1.04.2-1.43.59L10.3 9.45l-7.72 7.72c-.78.78-.78 2.05 0 2.83L4 21.41c.39.39.9.59 1.41.59.51 0 1.02-.2 1.41-.59l7.78-7.78 2.81-2.81c.8-.78.8-2.07 0-2.86zM5.41 20L4 18.59l7.72-7.72 1.47 1.35L5.41 20z\"/>\n",
              "  </svg>\n",
              "      </button>\n",
              "      \n",
              "  <style>\n",
              "    .colab-df-container {\n",
              "      display:flex;\n",
              "      flex-wrap:wrap;\n",
              "      gap: 12px;\n",
              "    }\n",
              "\n",
              "    .colab-df-convert {\n",
              "      background-color: #E8F0FE;\n",
              "      border: none;\n",
              "      border-radius: 50%;\n",
              "      cursor: pointer;\n",
              "      display: none;\n",
              "      fill: #1967D2;\n",
              "      height: 32px;\n",
              "      padding: 0 0 0 0;\n",
              "      width: 32px;\n",
              "    }\n",
              "\n",
              "    .colab-df-convert:hover {\n",
              "      background-color: #E2EBFA;\n",
              "      box-shadow: 0px 1px 2px rgba(60, 64, 67, 0.3), 0px 1px 3px 1px rgba(60, 64, 67, 0.15);\n",
              "      fill: #174EA6;\n",
              "    }\n",
              "\n",
              "    [theme=dark] .colab-df-convert {\n",
              "      background-color: #3B4455;\n",
              "      fill: #D2E3FC;\n",
              "    }\n",
              "\n",
              "    [theme=dark] .colab-df-convert:hover {\n",
              "      background-color: #434B5C;\n",
              "      box-shadow: 0px 1px 3px 1px rgba(0, 0, 0, 0.15);\n",
              "      filter: drop-shadow(0px 1px 2px rgba(0, 0, 0, 0.3));\n",
              "      fill: #FFFFFF;\n",
              "    }\n",
              "  </style>\n",
              "\n",
              "      <script>\n",
              "        const buttonEl =\n",
              "          document.querySelector('#df-7827fe82-d972-4fee-92e2-062d40448ce6 button.colab-df-convert');\n",
              "        buttonEl.style.display =\n",
              "          google.colab.kernel.accessAllowed ? 'block' : 'none';\n",
              "\n",
              "        async function convertToInteractive(key) {\n",
              "          const element = document.querySelector('#df-7827fe82-d972-4fee-92e2-062d40448ce6');\n",
              "          const dataTable =\n",
              "            await google.colab.kernel.invokeFunction('convertToInteractive',\n",
              "                                                     [key], {});\n",
              "          if (!dataTable) return;\n",
              "\n",
              "          const docLinkHtml = 'Like what you see? Visit the ' +\n",
              "            '<a target=\"_blank\" href=https://colab.research.google.com/notebooks/data_table.ipynb>data table notebook</a>'\n",
              "            + ' to learn more about interactive tables.';\n",
              "          element.innerHTML = '';\n",
              "          dataTable['output_type'] = 'display_data';\n",
              "          await google.colab.output.renderOutput(dataTable, element);\n",
              "          const docLink = document.createElement('div');\n",
              "          docLink.innerHTML = docLinkHtml;\n",
              "          element.appendChild(docLink);\n",
              "        }\n",
              "      </script>\n",
              "    </div>\n",
              "  </div>\n",
              "  "
            ]
          },
          "metadata": {},
          "execution_count": 8
        }
      ]
    },
    {
      "cell_type": "markdown",
      "source": [
        "### Preprocessing of the dataset\n"
      ],
      "metadata": {
        "id": "GhKZ0QboFnDH"
      }
    },
    {
      "cell_type": "code",
      "source": [
        "print(\"The number of rows and columne in train.csv: {}\".format(isic_siim_df.shape))\n",
        "print(isic_siim_df.columns)\n",
        "print(\"\\nDATA TYPES\\n\")\n",
        "print(isic_siim_df.dtypes)\n",
        "print(\"\\n=================================================\\n\")\n",
        "print(\"\\nCOLUMN COUNT\\n\")\n",
        "print(isic_siim_df.count())\n",
        "print(\"\\nNULL COUNT\\n\")\n",
        "print(isic_siim_df.isnull().sum())\n",
        "# isic_siim_df.dropna(axis=0, inplace=True)"
      ],
      "metadata": {
        "colab": {
          "base_uri": "https://localhost:8080/"
        },
        "id": "V-22KCfDFsiJ",
        "outputId": "44da6822-0e8f-455f-ec00-5fa80af082de"
      },
      "execution_count": 9,
      "outputs": [
        {
          "output_type": "stream",
          "name": "stdout",
          "text": [
            "The number of rows and columne in train.csv: (11000, 4)\n",
            "Index(['image_name', 'benign_malignant', 'target', 'images'], dtype='object')\n",
            "\n",
            "DATA TYPES\n",
            "\n",
            "image_name          object\n",
            "benign_malignant    object\n",
            "target               int64\n",
            "images              object\n",
            "dtype: object\n",
            "\n",
            "=================================================\n",
            "\n",
            "\n",
            "COLUMN COUNT\n",
            "\n",
            "image_name          11000\n",
            "benign_malignant    11000\n",
            "target              11000\n",
            "images              11000\n",
            "dtype: int64\n",
            "\n",
            "NULL COUNT\n",
            "\n",
            "image_name          0\n",
            "benign_malignant    0\n",
            "target              0\n",
            "images              0\n",
            "dtype: int64\n"
          ]
        }
      ]
    },
    {
      "cell_type": "code",
      "source": [
        "isic_siim_df = isic_siim_df.astype({'benign_malignant':'category',\n",
        "                             'target':'category'})"
      ],
      "metadata": {
        "id": "acLJWMeOG-E0"
      },
      "execution_count": 10,
      "outputs": []
    },
    {
      "cell_type": "code",
      "source": [
        "exploring_new_dataset(isic_siim_df)"
      ],
      "metadata": {
        "colab": {
          "base_uri": "https://localhost:8080/",
          "height": 578
        },
        "id": "K5E7Y9nNmuUf",
        "outputId": "1b6bae81-4ba9-4d3a-eec9-9a2ac8388f70"
      },
      "execution_count": 11,
      "outputs": [
        {
          "output_type": "stream",
          "name": "stdout",
          "text": [
            "Sample length 11000\n",
            "target\n",
            "0    7700\n",
            "1    3300\n",
            "Name: image_name, dtype: int64\n"
          ]
        },
        {
          "output_type": "stream",
          "name": "stderr",
          "text": [
            "/usr/local/lib/python3.7/dist-packages/seaborn/_decorators.py:43: FutureWarning: Pass the following variable as a keyword arg: x. From version 0.12, the only valid positional argument will be `data`, and passing other arguments without an explicit keyword will result in an error or misinterpretation.\n",
            "  FutureWarning\n"
          ]
        },
        {
          "output_type": "display_data",
          "data": {
            "text/plain": [
              "<Figure size 720x432 with 1 Axes>"
            ],
            "image/png": "[encoded data removed]"
          },
          "metadata": {
            "needs_background": "light"
          }
        }
      ]
    },
    {
      "cell_type": "code",
      "source": [
        "train, test = perform_sampling(isic_siim_df)"
      ],
      "metadata": {
        "id": "fMWtOm9izqzT"
      },
      "execution_count": 13,
      "outputs": []
    },
    {
      "cell_type": "markdown",
      "source": [
        "**Train datasets**"
      ],
      "metadata": {
        "id": "eu11j5pBh0AC"
      }
    },
    {
      "cell_type": "code",
      "source": [
        "print('\\nISIC SIIM TRAIN SET\\n')\n",
        "exploring_new_dataset(train)"
      ],
      "metadata": {
        "id": "p0GTDaonh7og",
        "colab": {
          "base_uri": "https://localhost:8080/",
          "height": 576
        },
        "outputId": "e065bdc7-ec00-4f85-914e-a432943f2950"
      },
      "execution_count": 14,
      "outputs": [
        {
          "output_type": "stream",
          "name": "stdout",
          "text": [
            "\n",
            "ISIC SIIM TRAIN SET\n",
            "\n",
            "Sample length 8800\n",
            "target\n",
            "0    6174\n",
            "1    2626\n",
            "Name: image_name, dtype: int64\n"
          ]
        },
        {
          "output_type": "display_data",
          "data": {
            "text/plain": [
              "<Figure size 720x432 with 1 Axes>"
            ],
            "image/png": "[encoded data removed]"
          },
          "metadata": {
            "needs_background": "light"
          }
        }
      ]
    },
    {
      "cell_type": "markdown",
      "source": [
        "**Test dataset**"
      ],
      "metadata": {
        "id": "p6MsEGb_h8Ya"
      }
    },
    {
      "cell_type": "code",
      "source": [
        "print('\\nISIC SIIM TEST SET\\n')\n",
        "exploring_new_dataset(test)"
      ],
      "metadata": {
        "id": "IENXhneLh_qn",
        "colab": {
          "base_uri": "https://localhost:8080/",
          "height": 576
        },
        "outputId": "12a79efc-044b-4be1-bc41-3df83f380ed9"
      },
      "execution_count": 15,
      "outputs": [
        {
          "output_type": "stream",
          "name": "stdout",
          "text": [
            "\n",
            "ISIC SIIM TEST SET\n",
            "\n",
            "Sample length 2200\n",
            "target\n",
            "0    1526\n",
            "1     674\n",
            "Name: image_name, dtype: int64\n"
          ]
        },
        {
          "output_type": "display_data",
          "data": {
            "text/plain": [
              "<Figure size 720x432 with 1 Axes>"
            ],
            "image/png": "[encoded data removed]"
          },
          "metadata": {
            "needs_background": "light"
          }
        }
      ]
    },
    {
      "cell_type": "markdown",
      "source": [
        "### Export to csv"
      ],
      "metadata": {
        "id": "0kFYb6KPLmoQ"
      }
    },
    {
      "cell_type": "code",
      "source": [
        "train.to_csv('aug_train_sample.csv',index=False)"
      ],
      "metadata": {
        "id": "btSAR86uLqDk"
      },
      "execution_count": 16,
      "outputs": []
    },
    {
      "cell_type": "code",
      "source": [
        "test.to_csv('aug_test_sample.csv',index=False)"
      ],
      "metadata": {
        "id": "ePjzBxPK4MaT"
      },
      "execution_count": 17,
      "outputs": []
    }
  ]
}