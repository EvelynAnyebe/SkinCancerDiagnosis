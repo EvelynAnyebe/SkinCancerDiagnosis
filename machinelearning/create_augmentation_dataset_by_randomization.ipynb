{
  "nbformat": 4,
  "nbformat_minor": 0,
  "metadata": {
    "colab": {
      "provenance": [],
      "collapsed_sections": []
    },
    "kernelspec": {
      "name": "python3",
      "display_name": "Python 3"
    },
    "language_info": {
      "name": "python"
    }
  },
  "cells": [
    {
      "cell_type": "markdown",
      "source": [
        "# AUGMENTING THE IMAGES TO SIMULATE REAL LIFE EXAMPLES"
      ],
      "metadata": {
        "id": "4bU4j3D2O6I_"
      }
    },
    {
      "cell_type": "code",
      "execution_count": null,
      "metadata": {
        "colab": {
          "base_uri": "https://localhost:8080/"
        },
        "id": "Y1Rdsh0bCbrz",
        "outputId": "58be606a-10cd-4cdc-a064-ffd255abfd8c"
      },
      "outputs": [
        {
          "output_type": "stream",
          "name": "stdout",
          "text": [
            "Drive already mounted at /content/drive; to attempt to forcibly remount, call drive.mount(\"/content/drive\", force_remount=True).\n"
          ]
        }
      ],
      "source": [
        "from google.colab import drive\n",
        "drive.mount('/content/drive')"
      ]
    },
    {
      "cell_type": "code",
      "source": [
        "import numpy as np\n",
        "import pandas as pd\n",
        "import matplotlib.pyplot as plt\n",
        "%matplotlib inline\n",
        "import seaborn as sns\n",
        "import os\n",
        "import random\n",
        "from tabulate import tabulate\n",
        "from sklearn.model_selection import train_test_split\n",
        "from collections import Counter"
      ],
      "metadata": {
        "id": "LyJef9F-CqhO"
      },
      "execution_count": null,
      "outputs": []
    },
    {
      "cell_type": "code",
      "source": [
        "from __future__ import print_function\n",
        "import argparse\n",
        "import torch\n",
        "import torch.nn as nn\n",
        "import torch.nn.parallel\n",
        "import torch.backends.cudnn as cudnn\n",
        "import torch.optim as optim\n",
        "import torch.utils.data\n",
        "import torchvision.transforms as transforms\n",
        "import torchvision.utils as vutils\n",
        "import torch.nn.functional as F\n",
        "from torch.utils.data.sampler import SubsetRandomSampler\n",
        "from torch.utils.data import Dataset\n",
        "import torchvision\n",
        "from torchvision import datasets, transforms, models\n",
        "from tqdm import tqdm_notebook as tqdm\n",
        "from sklearn.preprocessing import LabelEncoder\n",
        "from PIL import Image, ImageEnhance, ImageFilter\n",
        "from scipy.ndimage.interpolation import zoom"
      ],
      "metadata": {
        "id": "yDbTc2w3-8HB"
      },
      "execution_count": null,
      "outputs": []
    },
    {
      "cell_type": "code",
      "source": [
        "path = os.path.abspath('/content/drive/MyDrive/Colab Notebooks')\n",
        "os.chdir(path)\n",
        "print(path)"
      ],
      "metadata": {
        "colab": {
          "base_uri": "https://localhost:8080/"
        },
        "id": "frQKuVDtPYiC",
        "outputId": "d6473677-4291-416c-a677-3579b025dd90"
      },
      "execution_count": null,
      "outputs": [
        {
          "output_type": "stream",
          "name": "stdout",
          "text": [
            "/content/drive/MyDrive/Colab Notebooks\n"
          ]
        }
      ]
    },
    {
      "cell_type": "code",
      "source": [
        "BASE_PATH = 'jpeg'\n",
        "print(BASE_PATH)"
      ],
      "metadata": {
        "colab": {
          "base_uri": "https://localhost:8080/"
        },
        "id": "XxpihBZoCUaW",
        "outputId": "93d32b8d-514b-439c-ae8d-2418d6c9e456"
      },
      "execution_count": null,
      "outputs": [
        {
          "output_type": "stream",
          "name": "stdout",
          "text": [
            "jpeg\n"
          ]
        }
      ]
    },
    {
      "cell_type": "markdown",
      "source": [
        "### Load the dataset"
      ],
      "metadata": {
        "id": "nBWNPBE0O31d"
      }
    },
    {
      "cell_type": "code",
      "source": [
        "train_df = pd.read_csv(os.path.join(path,\"train_sample.csv\"))\n",
        "train_df.head()"
      ],
      "metadata": {
        "colab": {
          "base_uri": "https://localhost:8080/",
          "height": 206
        },
        "id": "-MsG96sPPUOM",
        "outputId": "6872c1b4-df45-4dc4-dd1a-774d5a6ebe4e"
      },
      "execution_count": null,
      "outputs": [
        {
          "output_type": "execute_result",
          "data": {
            "text/plain": [
              "   index    image_name benign_malignant  target                       images\n",
              "0  23431  ISIC_7122402           benign       0  jpeg/train/ISIC_7122402.jpg\n",
              "1  13596  ISIC_4170698        malignant       1  jpeg/train/ISIC_4170698.jpg\n",
              "2  25592  ISIC_7765038           benign       0  jpeg/train/ISIC_7765038.jpg\n",
              "3  23708  ISIC_7196094           benign       0  jpeg/train/ISIC_7196094.jpg\n",
              "4  31532  ISIC_9528732           benign       0  jpeg/train/ISIC_9528732.jpg"
            ],
            "text/html": [
              "\n",
              "  <div id=\"df-a6157373-1cf1-4168-95e5-f508dbd5a351\">\n",
              "    <div class=\"colab-df-container\">\n",
              "      <div>\n",
              "<style scoped>\n",
              "    .dataframe tbody tr th:only-of-type {\n",
              "        vertical-align: middle;\n",
              "    }\n",
              "\n",
              "    .dataframe tbody tr th {\n",
              "        vertical-align: top;\n",
              "    }\n",
              "\n",
              "    .dataframe thead th {\n",
              "        text-align: right;\n",
              "    }\n",
              "</style>\n",
              "<table border=\"1\" class=\"dataframe\">\n",
              "  <thead>\n",
              "    <tr style=\"text-align: right;\">\n",
              "      <th></th>\n",
              "      <th>index</th>\n",
              "      <th>image_name</th>\n",
              "      <th>benign_malignant</th>\n",
              "      <th>target</th>\n",
              "      <th>images</th>\n",
              "    </tr>\n",
              "  </thead>\n",
              "  <tbody>\n",
              "    <tr>\n",
              "      <th>0</th>\n",
              "      <td>23431</td>\n",
              "      <td>ISIC_7122402</td>\n",
              "      <td>benign</td>\n",
              "      <td>0</td>\n",
              "      <td>jpeg/train/ISIC_7122402.jpg</td>\n",
              "    </tr>\n",
              "    <tr>\n",
              "      <th>1</th>\n",
              "      <td>13596</td>\n",
              "      <td>ISIC_4170698</td>\n",
              "      <td>malignant</td>\n",
              "      <td>1</td>\n",
              "      <td>jpeg/train/ISIC_4170698.jpg</td>\n",
              "    </tr>\n",
              "    <tr>\n",
              "      <th>2</th>\n",
              "      <td>25592</td>\n",
              "      <td>ISIC_7765038</td>\n",
              "      <td>benign</td>\n",
              "      <td>0</td>\n",
              "      <td>jpeg/train/ISIC_7765038.jpg</td>\n",
              "    </tr>\n",
              "    <tr>\n",
              "      <th>3</th>\n",
              "      <td>23708</td>\n",
              "      <td>ISIC_7196094</td>\n",
              "      <td>benign</td>\n",
              "      <td>0</td>\n",
              "      <td>jpeg/train/ISIC_7196094.jpg</td>\n",
              "    </tr>\n",
              "    <tr>\n",
              "      <th>4</th>\n",
              "      <td>31532</td>\n",
              "      <td>ISIC_9528732</td>\n",
              "      <td>benign</td>\n",
              "      <td>0</td>\n",
              "      <td>jpeg/train/ISIC_9528732.jpg</td>\n",
              "    </tr>\n",
              "  </tbody>\n",
              "</table>\n",
              "</div>\n",
              "      <button class=\"colab-df-convert\" onclick=\"convertToInteractive('df-a6157373-1cf1-4168-95e5-f508dbd5a351')\"\n",
              "              title=\"Convert this dataframe to an interactive table.\"\n",
              "              style=\"display:none;\">\n",
              "        \n",
              "  <svg xmlns=\"http://www.w3.org/2000/svg\" height=\"24px\"viewBox=\"0 0 24 24\"\n",
              "       width=\"24px\">\n",
              "    <path d=\"M0 0h24v24H0V0z\" fill=\"none\"/>\n",
              "    <path d=\"M18.56 5.44l.94 2.06.94-2.06 2.06-.94-2.06-.94-.94-2.06-.94 2.06-2.06.94zm-11 1L8.5 8.5l.94-2.06 2.06-.94-2.06-.94L8.5 2.5l-.94 2.06-2.06.94zm10 10l.94 2.06.94-2.06 2.06-.94-2.06-.94-.94-2.06-.94 2.06-2.06.94z\"/><path d=\"M17.41 7.96l-1.37-1.37c-.4-.4-.92-.59-1.43-.59-.52 0-1.04.2-1.43.59L10.3 9.45l-7.72 7.72c-.78.78-.78 2.05 0 2.83L4 21.41c.39.39.9.59 1.41.59.51 0 1.02-.2 1.41-.59l7.78-7.78 2.81-2.81c.8-.78.8-2.07 0-2.86zM5.41 20L4 18.59l7.72-7.72 1.47 1.35L5.41 20z\"/>\n",
              "  </svg>\n",
              "      </button>\n",
              "      \n",
              "  <style>\n",
              "    .colab-df-container {\n",
              "      display:flex;\n",
              "      flex-wrap:wrap;\n",
              "      gap: 12px;\n",
              "    }\n",
              "\n",
              "    .colab-df-convert {\n",
              "      background-color: #E8F0FE;\n",
              "      border: none;\n",
              "      border-radius: 50%;\n",
              "      cursor: pointer;\n",
              "      display: none;\n",
              "      fill: #1967D2;\n",
              "      height: 32px;\n",
              "      padding: 0 0 0 0;\n",
              "      width: 32px;\n",
              "    }\n",
              "\n",
              "    .colab-df-convert:hover {\n",
              "      background-color: #E2EBFA;\n",
              "      box-shadow: 0px 1px 2px rgba(60, 64, 67, 0.3), 0px 1px 3px 1px rgba(60, 64, 67, 0.15);\n",
              "      fill: #174EA6;\n",
              "    }\n",
              "\n",
              "    [theme=dark] .colab-df-convert {\n",
              "      background-color: #3B4455;\n",
              "      fill: #D2E3FC;\n",
              "    }\n",
              "\n",
              "    [theme=dark] .colab-df-convert:hover {\n",
              "      background-color: #434B5C;\n",
              "      box-shadow: 0px 1px 3px 1px rgba(0, 0, 0, 0.15);\n",
              "      filter: drop-shadow(0px 1px 2px rgba(0, 0, 0, 0.3));\n",
              "      fill: #FFFFFF;\n",
              "    }\n",
              "  </style>\n",
              "\n",
              "      <script>\n",
              "        const buttonEl =\n",
              "          document.querySelector('#df-a6157373-1cf1-4168-95e5-f508dbd5a351 button.colab-df-convert');\n",
              "        buttonEl.style.display =\n",
              "          google.colab.kernel.accessAllowed ? 'block' : 'none';\n",
              "\n",
              "        async function convertToInteractive(key) {\n",
              "          const element = document.querySelector('#df-a6157373-1cf1-4168-95e5-f508dbd5a351');\n",
              "          const dataTable =\n",
              "            await google.colab.kernel.invokeFunction('convertToInteractive',\n",
              "                                                     [key], {});\n",
              "          if (!dataTable) return;\n",
              "\n",
              "          const docLinkHtml = 'Like what you see? Visit the ' +\n",
              "            '<a target=\"_blank\" href=https://colab.research.google.com/notebooks/data_table.ipynb>data table notebook</a>'\n",
              "            + ' to learn more about interactive tables.';\n",
              "          element.innerHTML = '';\n",
              "          dataTable['output_type'] = 'display_data';\n",
              "          await google.colab.output.renderOutput(dataTable, element);\n",
              "          const docLink = document.createElement('div');\n",
              "          docLink.innerHTML = docLinkHtml;\n",
              "          element.appendChild(docLink);\n",
              "        }\n",
              "      </script>\n",
              "    </div>\n",
              "  </div>\n",
              "  "
            ]
          },
          "metadata": {},
          "execution_count": 110
        }
      ]
    },
    {
      "cell_type": "code",
      "source": [
        "test = pd.read_csv(os.path.join(path,\"test_sample.csv\"))\n",
        "test.head()"
      ],
      "metadata": {
        "colab": {
          "base_uri": "https://localhost:8080/",
          "height": 206
        },
        "id": "WNmqOC_6_Ev1",
        "outputId": "b0676e8c-c642-4e69-af03-8634a372b872"
      },
      "execution_count": null,
      "outputs": [
        {
          "output_type": "execute_result",
          "data": {
            "text/plain": [
              "   index    image_name benign_malignant  target                       images\n",
              "0  12917  ISIC_3975660           benign       0  jpeg/train/ISIC_3975660.jpg\n",
              "1  31076  ISIC_9390275           benign       0  jpeg/train/ISIC_9390275.jpg\n",
              "2  24601  ISIC_7466678        malignant       1  jpeg/train/ISIC_7466678.jpg\n",
              "3  22916  ISIC_6966001        malignant       1  jpeg/train/ISIC_6966001.jpg\n",
              "4  12676  ISIC_3906195           benign       0  jpeg/train/ISIC_3906195.jpg"
            ],
            "text/html": [
              "\n",
              "  <div id=\"df-2e1ae6ff-712c-42b6-8faa-d3b382c99667\">\n",
              "    <div class=\"colab-df-container\">\n",
              "      <div>\n",
              "<style scoped>\n",
              "    .dataframe tbody tr th:only-of-type {\n",
              "        vertical-align: middle;\n",
              "    }\n",
              "\n",
              "    .dataframe tbody tr th {\n",
              "        vertical-align: top;\n",
              "    }\n",
              "\n",
              "    .dataframe thead th {\n",
              "        text-align: right;\n",
              "    }\n",
              "</style>\n",
              "<table border=\"1\" class=\"dataframe\">\n",
              "  <thead>\n",
              "    <tr style=\"text-align: right;\">\n",
              "      <th></th>\n",
              "      <th>index</th>\n",
              "      <th>image_name</th>\n",
              "      <th>benign_malignant</th>\n",
              "      <th>target</th>\n",
              "      <th>images</th>\n",
              "    </tr>\n",
              "  </thead>\n",
              "  <tbody>\n",
              "    <tr>\n",
              "      <th>0</th>\n",
              "      <td>12917</td>\n",
              "      <td>ISIC_3975660</td>\n",
              "      <td>benign</td>\n",
              "      <td>0</td>\n",
              "      <td>jpeg/train/ISIC_3975660.jpg</td>\n",
              "    </tr>\n",
              "    <tr>\n",
              "      <th>1</th>\n",
              "      <td>31076</td>\n",
              "      <td>ISIC_9390275</td>\n",
              "      <td>benign</td>\n",
              "      <td>0</td>\n",
              "      <td>jpeg/train/ISIC_9390275.jpg</td>\n",
              "    </tr>\n",
              "    <tr>\n",
              "      <th>2</th>\n",
              "      <td>24601</td>\n",
              "      <td>ISIC_7466678</td>\n",
              "      <td>malignant</td>\n",
              "      <td>1</td>\n",
              "      <td>jpeg/train/ISIC_7466678.jpg</td>\n",
              "    </tr>\n",
              "    <tr>\n",
              "      <th>3</th>\n",
              "      <td>22916</td>\n",
              "      <td>ISIC_6966001</td>\n",
              "      <td>malignant</td>\n",
              "      <td>1</td>\n",
              "      <td>jpeg/train/ISIC_6966001.jpg</td>\n",
              "    </tr>\n",
              "    <tr>\n",
              "      <th>4</th>\n",
              "      <td>12676</td>\n",
              "      <td>ISIC_3906195</td>\n",
              "      <td>benign</td>\n",
              "      <td>0</td>\n",
              "      <td>jpeg/train/ISIC_3906195.jpg</td>\n",
              "    </tr>\n",
              "  </tbody>\n",
              "</table>\n",
              "</div>\n",
              "      <button class=\"colab-df-convert\" onclick=\"convertToInteractive('df-2e1ae6ff-712c-42b6-8faa-d3b382c99667')\"\n",
              "              title=\"Convert this dataframe to an interactive table.\"\n",
              "              style=\"display:none;\">\n",
              "        \n",
              "  <svg xmlns=\"http://www.w3.org/2000/svg\" height=\"24px\"viewBox=\"0 0 24 24\"\n",
              "       width=\"24px\">\n",
              "    <path d=\"M0 0h24v24H0V0z\" fill=\"none\"/>\n",
              "    <path d=\"M18.56 5.44l.94 2.06.94-2.06 2.06-.94-2.06-.94-.94-2.06-.94 2.06-2.06.94zm-11 1L8.5 8.5l.94-2.06 2.06-.94-2.06-.94L8.5 2.5l-.94 2.06-2.06.94zm10 10l.94 2.06.94-2.06 2.06-.94-2.06-.94-.94-2.06-.94 2.06-2.06.94z\"/><path d=\"M17.41 7.96l-1.37-1.37c-.4-.4-.92-.59-1.43-.59-.52 0-1.04.2-1.43.59L10.3 9.45l-7.72 7.72c-.78.78-.78 2.05 0 2.83L4 21.41c.39.39.9.59 1.41.59.51 0 1.02-.2 1.41-.59l7.78-7.78 2.81-2.81c.8-.78.8-2.07 0-2.86zM5.41 20L4 18.59l7.72-7.72 1.47 1.35L5.41 20z\"/>\n",
              "  </svg>\n",
              "      </button>\n",
              "      \n",
              "  <style>\n",
              "    .colab-df-container {\n",
              "      display:flex;\n",
              "      flex-wrap:wrap;\n",
              "      gap: 12px;\n",
              "    }\n",
              "\n",
              "    .colab-df-convert {\n",
              "      background-color: #E8F0FE;\n",
              "      border: none;\n",
              "      border-radius: 50%;\n",
              "      cursor: pointer;\n",
              "      display: none;\n",
              "      fill: #1967D2;\n",
              "      height: 32px;\n",
              "      padding: 0 0 0 0;\n",
              "      width: 32px;\n",
              "    }\n",
              "\n",
              "    .colab-df-convert:hover {\n",
              "      background-color: #E2EBFA;\n",
              "      box-shadow: 0px 1px 2px rgba(60, 64, 67, 0.3), 0px 1px 3px 1px rgba(60, 64, 67, 0.15);\n",
              "      fill: #174EA6;\n",
              "    }\n",
              "\n",
              "    [theme=dark] .colab-df-convert {\n",
              "      background-color: #3B4455;\n",
              "      fill: #D2E3FC;\n",
              "    }\n",
              "\n",
              "    [theme=dark] .colab-df-convert:hover {\n",
              "      background-color: #434B5C;\n",
              "      box-shadow: 0px 1px 3px 1px rgba(0, 0, 0, 0.15);\n",
              "      filter: drop-shadow(0px 1px 2px rgba(0, 0, 0, 0.3));\n",
              "      fill: #FFFFFF;\n",
              "    }\n",
              "  </style>\n",
              "\n",
              "      <script>\n",
              "        const buttonEl =\n",
              "          document.querySelector('#df-2e1ae6ff-712c-42b6-8faa-d3b382c99667 button.colab-df-convert');\n",
              "        buttonEl.style.display =\n",
              "          google.colab.kernel.accessAllowed ? 'block' : 'none';\n",
              "\n",
              "        async function convertToInteractive(key) {\n",
              "          const element = document.querySelector('#df-2e1ae6ff-712c-42b6-8faa-d3b382c99667');\n",
              "          const dataTable =\n",
              "            await google.colab.kernel.invokeFunction('convertToInteractive',\n",
              "                                                     [key], {});\n",
              "          if (!dataTable) return;\n",
              "\n",
              "          const docLinkHtml = 'Like what you see? Visit the ' +\n",
              "            '<a target=\"_blank\" href=https://colab.research.google.com/notebooks/data_table.ipynb>data table notebook</a>'\n",
              "            + ' to learn more about interactive tables.';\n",
              "          element.innerHTML = '';\n",
              "          dataTable['output_type'] = 'display_data';\n",
              "          await google.colab.output.renderOutput(dataTable, element);\n",
              "          const docLink = document.createElement('div');\n",
              "          docLink.innerHTML = docLinkHtml;\n",
              "          element.appendChild(docLink);\n",
              "        }\n",
              "      </script>\n",
              "    </div>\n",
              "  </div>\n",
              "  "
            ]
          },
          "metadata": {},
          "execution_count": 111
        }
      ]
    },
    {
      "cell_type": "code",
      "source": [
        "df = pd.concat([train_df,test], ignore_index=True)\n",
        "df = df[['image_name','benign_malignant','target','images']]\n",
        "df.shape"
      ],
      "metadata": {
        "colab": {
          "base_uri": "https://localhost:8080/"
        },
        "id": "PRWXnbg__Ibh",
        "outputId": "7ed0ab23-f912-4bb4-d5e7-b53fdb48634f"
      },
      "execution_count": null,
      "outputs": [
        {
          "output_type": "execute_result",
          "data": {
            "text/plain": [
              "(11487, 4)"
            ]
          },
          "metadata": {},
          "execution_count": 112
        }
      ]
    },
    {
      "cell_type": "code",
      "source": [
        "df.head()"
      ],
      "metadata": {
        "colab": {
          "base_uri": "https://localhost:8080/",
          "height": 206
        },
        "id": "RKkClC6qCpK1",
        "outputId": "6d7e481b-1a17-41ed-ea9b-3950f0d47124"
      },
      "execution_count": null,
      "outputs": [
        {
          "output_type": "execute_result",
          "data": {
            "text/plain": [
              "     image_name benign_malignant  target                       images\n",
              "0  ISIC_7122402           benign       0  jpeg/train/ISIC_7122402.jpg\n",
              "1  ISIC_4170698        malignant       1  jpeg/train/ISIC_4170698.jpg\n",
              "2  ISIC_7765038           benign       0  jpeg/train/ISIC_7765038.jpg\n",
              "3  ISIC_7196094           benign       0  jpeg/train/ISIC_7196094.jpg\n",
              "4  ISIC_9528732           benign       0  jpeg/train/ISIC_9528732.jpg"
            ],
            "text/html": [
              "\n",
              "  <div id=\"df-36d9ab92-053f-4e66-b41c-0e43f4b43bfe\">\n",
              "    <div class=\"colab-df-container\">\n",
              "      <div>\n",
              "<style scoped>\n",
              "    .dataframe tbody tr th:only-of-type {\n",
              "        vertical-align: middle;\n",
              "    }\n",
              "\n",
              "    .dataframe tbody tr th {\n",
              "        vertical-align: top;\n",
              "    }\n",
              "\n",
              "    .dataframe thead th {\n",
              "        text-align: right;\n",
              "    }\n",
              "</style>\n",
              "<table border=\"1\" class=\"dataframe\">\n",
              "  <thead>\n",
              "    <tr style=\"text-align: right;\">\n",
              "      <th></th>\n",
              "      <th>image_name</th>\n",
              "      <th>benign_malignant</th>\n",
              "      <th>target</th>\n",
              "      <th>images</th>\n",
              "    </tr>\n",
              "  </thead>\n",
              "  <tbody>\n",
              "    <tr>\n",
              "      <th>0</th>\n",
              "      <td>ISIC_7122402</td>\n",
              "      <td>benign</td>\n",
              "      <td>0</td>\n",
              "      <td>jpeg/train/ISIC_7122402.jpg</td>\n",
              "    </tr>\n",
              "    <tr>\n",
              "      <th>1</th>\n",
              "      <td>ISIC_4170698</td>\n",
              "      <td>malignant</td>\n",
              "      <td>1</td>\n",
              "      <td>jpeg/train/ISIC_4170698.jpg</td>\n",
              "    </tr>\n",
              "    <tr>\n",
              "      <th>2</th>\n",
              "      <td>ISIC_7765038</td>\n",
              "      <td>benign</td>\n",
              "      <td>0</td>\n",
              "      <td>jpeg/train/ISIC_7765038.jpg</td>\n",
              "    </tr>\n",
              "    <tr>\n",
              "      <th>3</th>\n",
              "      <td>ISIC_7196094</td>\n",
              "      <td>benign</td>\n",
              "      <td>0</td>\n",
              "      <td>jpeg/train/ISIC_7196094.jpg</td>\n",
              "    </tr>\n",
              "    <tr>\n",
              "      <th>4</th>\n",
              "      <td>ISIC_9528732</td>\n",
              "      <td>benign</td>\n",
              "      <td>0</td>\n",
              "      <td>jpeg/train/ISIC_9528732.jpg</td>\n",
              "    </tr>\n",
              "  </tbody>\n",
              "</table>\n",
              "</div>\n",
              "      <button class=\"colab-df-convert\" onclick=\"convertToInteractive('df-36d9ab92-053f-4e66-b41c-0e43f4b43bfe')\"\n",
              "              title=\"Convert this dataframe to an interactive table.\"\n",
              "              style=\"display:none;\">\n",
              "        \n",
              "  <svg xmlns=\"http://www.w3.org/2000/svg\" height=\"24px\"viewBox=\"0 0 24 24\"\n",
              "       width=\"24px\">\n",
              "    <path d=\"M0 0h24v24H0V0z\" fill=\"none\"/>\n",
              "    <path d=\"M18.56 5.44l.94 2.06.94-2.06 2.06-.94-2.06-.94-.94-2.06-.94 2.06-2.06.94zm-11 1L8.5 8.5l.94-2.06 2.06-.94-2.06-.94L8.5 2.5l-.94 2.06-2.06.94zm10 10l.94 2.06.94-2.06 2.06-.94-2.06-.94-.94-2.06-.94 2.06-2.06.94z\"/><path d=\"M17.41 7.96l-1.37-1.37c-.4-.4-.92-.59-1.43-.59-.52 0-1.04.2-1.43.59L10.3 9.45l-7.72 7.72c-.78.78-.78 2.05 0 2.83L4 21.41c.39.39.9.59 1.41.59.51 0 1.02-.2 1.41-.59l7.78-7.78 2.81-2.81c.8-.78.8-2.07 0-2.86zM5.41 20L4 18.59l7.72-7.72 1.47 1.35L5.41 20z\"/>\n",
              "  </svg>\n",
              "      </button>\n",
              "      \n",
              "  <style>\n",
              "    .colab-df-container {\n",
              "      display:flex;\n",
              "      flex-wrap:wrap;\n",
              "      gap: 12px;\n",
              "    }\n",
              "\n",
              "    .colab-df-convert {\n",
              "      background-color: #E8F0FE;\n",
              "      border: none;\n",
              "      border-radius: 50%;\n",
              "      cursor: pointer;\n",
              "      display: none;\n",
              "      fill: #1967D2;\n",
              "      height: 32px;\n",
              "      padding: 0 0 0 0;\n",
              "      width: 32px;\n",
              "    }\n",
              "\n",
              "    .colab-df-convert:hover {\n",
              "      background-color: #E2EBFA;\n",
              "      box-shadow: 0px 1px 2px rgba(60, 64, 67, 0.3), 0px 1px 3px 1px rgba(60, 64, 67, 0.15);\n",
              "      fill: #174EA6;\n",
              "    }\n",
              "\n",
              "    [theme=dark] .colab-df-convert {\n",
              "      background-color: #3B4455;\n",
              "      fill: #D2E3FC;\n",
              "    }\n",
              "\n",
              "    [theme=dark] .colab-df-convert:hover {\n",
              "      background-color: #434B5C;\n",
              "      box-shadow: 0px 1px 3px 1px rgba(0, 0, 0, 0.15);\n",
              "      filter: drop-shadow(0px 1px 2px rgba(0, 0, 0, 0.3));\n",
              "      fill: #FFFFFF;\n",
              "    }\n",
              "  </style>\n",
              "\n",
              "      <script>\n",
              "        const buttonEl =\n",
              "          document.querySelector('#df-36d9ab92-053f-4e66-b41c-0e43f4b43bfe button.colab-df-convert');\n",
              "        buttonEl.style.display =\n",
              "          google.colab.kernel.accessAllowed ? 'block' : 'none';\n",
              "\n",
              "        async function convertToInteractive(key) {\n",
              "          const element = document.querySelector('#df-36d9ab92-053f-4e66-b41c-0e43f4b43bfe');\n",
              "          const dataTable =\n",
              "            await google.colab.kernel.invokeFunction('convertToInteractive',\n",
              "                                                     [key], {});\n",
              "          if (!dataTable) return;\n",
              "\n",
              "          const docLinkHtml = 'Like what you see? Visit the ' +\n",
              "            '<a target=\"_blank\" href=https://colab.research.google.com/notebooks/data_table.ipynb>data table notebook</a>'\n",
              "            + ' to learn more about interactive tables.';\n",
              "          element.innerHTML = '';\n",
              "          dataTable['output_type'] = 'display_data';\n",
              "          await google.colab.output.renderOutput(dataTable, element);\n",
              "          const docLink = document.createElement('div');\n",
              "          docLink.innerHTML = docLinkHtml;\n",
              "          element.appendChild(docLink);\n",
              "        }\n",
              "      </script>\n",
              "    </div>\n",
              "  </div>\n",
              "  "
            ]
          },
          "metadata": {},
          "execution_count": 113
        }
      ]
    },
    {
      "cell_type": "code",
      "source": [
        "print(\"The number of rows and columne in train.csv: {}\".format(df.shape))\n",
        "print(df.columns)\n",
        "print(\"\\nDATA TYPES\\n\")\n",
        "print(df.dtypes)\n",
        "print(\"\\n=================================================\\n\")\n",
        "print(\"\\nCOLUMN COUNT\\n\")\n",
        "print(df.count())\n",
        "print(\"\\nNULL COUNT\\n\")\n",
        "print(df.isnull().sum())\n",
        "# df.dropna(axis=0, inplace=True)"
      ],
      "metadata": {
        "colab": {
          "base_uri": "https://localhost:8080/"
        },
        "id": "65OD9MIiPsVp",
        "outputId": "85382837-679d-4531-f423-2598a9d68d80"
      },
      "execution_count": null,
      "outputs": [
        {
          "output_type": "stream",
          "name": "stdout",
          "text": [
            "The number of rows and columne in train.csv: (11487, 4)\n",
            "Index(['image_name', 'benign_malignant', 'target', 'images'], dtype='object')\n",
            "\n",
            "DATA TYPES\n",
            "\n",
            "image_name          object\n",
            "benign_malignant    object\n",
            "target               int64\n",
            "images              object\n",
            "dtype: object\n",
            "\n",
            "=================================================\n",
            "\n",
            "\n",
            "COLUMN COUNT\n",
            "\n",
            "image_name          11487\n",
            "benign_malignant    11487\n",
            "target              11487\n",
            "images              11487\n",
            "dtype: int64\n",
            "\n",
            "NULL COUNT\n",
            "\n",
            "image_name          0\n",
            "benign_malignant    0\n",
            "target              0\n",
            "images              0\n",
            "dtype: int64\n"
          ]
        }
      ]
    },
    {
      "cell_type": "code",
      "source": [
        "# Passed a dictionary to astype() function\n",
        "df = df.astype({ 'benign_malignant':'category','target':'category'})"
      ],
      "metadata": {
        "id": "acLJWMeOG-E0"
      },
      "execution_count": null,
      "outputs": []
    },
    {
      "cell_type": "markdown",
      "source": [
        "After preprocessing"
      ],
      "metadata": {
        "id": "G8gntHlIG0J0"
      }
    },
    {
      "cell_type": "code",
      "source": [
        "print(\"The number of rows and columne in train.csv: {}\".format(df.shape))"
      ],
      "metadata": {
        "colab": {
          "base_uri": "https://localhost:8080/"
        },
        "id": "QYjtngifGL9P",
        "outputId": "ab1709d6-b884-474f-bcad-0a5b73de8ce1"
      },
      "execution_count": null,
      "outputs": [
        {
          "output_type": "stream",
          "name": "stdout",
          "text": [
            "The number of rows and columne in train.csv: (11487, 4)\n"
          ]
        }
      ]
    },
    {
      "cell_type": "markdown",
      "source": [
        "### Malignant data\n",
        "This will enable sample of both malignant and benign equally"
      ],
      "metadata": {
        "id": "b0PJY22h-hf3"
      }
    },
    {
      "cell_type": "code",
      "source": [
        "malignant_df = df[df['target'] == 1]\n",
        "malignant_df.head()"
      ],
      "metadata": {
        "id": "VEyeYMxw_Nyl",
        "colab": {
          "base_uri": "https://localhost:8080/",
          "height": 206
        },
        "outputId": "7e9e4083-ae04-401f-874f-98ecc89e3325"
      },
      "execution_count": null,
      "outputs": [
        {
          "output_type": "execute_result",
          "data": {
            "text/plain": [
              "      image_name benign_malignant target                       images\n",
              "1   ISIC_4170698        malignant      1  jpeg/train/ISIC_4170698.jpg\n",
              "6   ISIC_7205745        malignant      1  jpeg/train/ISIC_7205745.jpg\n",
              "7   ISIC_4425657        malignant      1  jpeg/train/ISIC_4425657.jpg\n",
              "9   ISIC_6496370        malignant      1  jpeg/train/ISIC_6496370.jpg\n",
              "11  ISIC_1200192        malignant      1  jpeg/train/ISIC_1200192.jpg"
            ],
            "text/html": [
              "\n",
              "  <div id=\"df-ae358a3b-7e16-4f19-948f-47eb22f92174\">\n",
              "    <div class=\"colab-df-container\">\n",
              "      <div>\n",
              "<style scoped>\n",
              "    .dataframe tbody tr th:only-of-type {\n",
              "        vertical-align: middle;\n",
              "    }\n",
              "\n",
              "    .dataframe tbody tr th {\n",
              "        vertical-align: top;\n",
              "    }\n",
              "\n",
              "    .dataframe thead th {\n",
              "        text-align: right;\n",
              "    }\n",
              "</style>\n",
              "<table border=\"1\" class=\"dataframe\">\n",
              "  <thead>\n",
              "    <tr style=\"text-align: right;\">\n",
              "      <th></th>\n",
              "      <th>image_name</th>\n",
              "      <th>benign_malignant</th>\n",
              "      <th>target</th>\n",
              "      <th>images</th>\n",
              "    </tr>\n",
              "  </thead>\n",
              "  <tbody>\n",
              "    <tr>\n",
              "      <th>1</th>\n",
              "      <td>ISIC_4170698</td>\n",
              "      <td>malignant</td>\n",
              "      <td>1</td>\n",
              "      <td>jpeg/train/ISIC_4170698.jpg</td>\n",
              "    </tr>\n",
              "    <tr>\n",
              "      <th>6</th>\n",
              "      <td>ISIC_7205745</td>\n",
              "      <td>malignant</td>\n",
              "      <td>1</td>\n",
              "      <td>jpeg/train/ISIC_7205745.jpg</td>\n",
              "    </tr>\n",
              "    <tr>\n",
              "      <th>7</th>\n",
              "      <td>ISIC_4425657</td>\n",
              "      <td>malignant</td>\n",
              "      <td>1</td>\n",
              "      <td>jpeg/train/ISIC_4425657.jpg</td>\n",
              "    </tr>\n",
              "    <tr>\n",
              "      <th>9</th>\n",
              "      <td>ISIC_6496370</td>\n",
              "      <td>malignant</td>\n",
              "      <td>1</td>\n",
              "      <td>jpeg/train/ISIC_6496370.jpg</td>\n",
              "    </tr>\n",
              "    <tr>\n",
              "      <th>11</th>\n",
              "      <td>ISIC_1200192</td>\n",
              "      <td>malignant</td>\n",
              "      <td>1</td>\n",
              "      <td>jpeg/train/ISIC_1200192.jpg</td>\n",
              "    </tr>\n",
              "  </tbody>\n",
              "</table>\n",
              "</div>\n",
              "      <button class=\"colab-df-convert\" onclick=\"convertToInteractive('df-ae358a3b-7e16-4f19-948f-47eb22f92174')\"\n",
              "              title=\"Convert this dataframe to an interactive table.\"\n",
              "              style=\"display:none;\">\n",
              "        \n",
              "  <svg xmlns=\"http://www.w3.org/2000/svg\" height=\"24px\"viewBox=\"0 0 24 24\"\n",
              "       width=\"24px\">\n",
              "    <path d=\"M0 0h24v24H0V0z\" fill=\"none\"/>\n",
              "    <path d=\"M18.56 5.44l.94 2.06.94-2.06 2.06-.94-2.06-.94-.94-2.06-.94 2.06-2.06.94zm-11 1L8.5 8.5l.94-2.06 2.06-.94-2.06-.94L8.5 2.5l-.94 2.06-2.06.94zm10 10l.94 2.06.94-2.06 2.06-.94-2.06-.94-.94-2.06-.94 2.06-2.06.94z\"/><path d=\"M17.41 7.96l-1.37-1.37c-.4-.4-.92-.59-1.43-.59-.52 0-1.04.2-1.43.59L10.3 9.45l-7.72 7.72c-.78.78-.78 2.05 0 2.83L4 21.41c.39.39.9.59 1.41.59.51 0 1.02-.2 1.41-.59l7.78-7.78 2.81-2.81c.8-.78.8-2.07 0-2.86zM5.41 20L4 18.59l7.72-7.72 1.47 1.35L5.41 20z\"/>\n",
              "  </svg>\n",
              "      </button>\n",
              "      \n",
              "  <style>\n",
              "    .colab-df-container {\n",
              "      display:flex;\n",
              "      flex-wrap:wrap;\n",
              "      gap: 12px;\n",
              "    }\n",
              "\n",
              "    .colab-df-convert {\n",
              "      background-color: #E8F0FE;\n",
              "      border: none;\n",
              "      border-radius: 50%;\n",
              "      cursor: pointer;\n",
              "      display: none;\n",
              "      fill: #1967D2;\n",
              "      height: 32px;\n",
              "      padding: 0 0 0 0;\n",
              "      width: 32px;\n",
              "    }\n",
              "\n",
              "    .colab-df-convert:hover {\n",
              "      background-color: #E2EBFA;\n",
              "      box-shadow: 0px 1px 2px rgba(60, 64, 67, 0.3), 0px 1px 3px 1px rgba(60, 64, 67, 0.15);\n",
              "      fill: #174EA6;\n",
              "    }\n",
              "\n",
              "    [theme=dark] .colab-df-convert {\n",
              "      background-color: #3B4455;\n",
              "      fill: #D2E3FC;\n",
              "    }\n",
              "\n",
              "    [theme=dark] .colab-df-convert:hover {\n",
              "      background-color: #434B5C;\n",
              "      box-shadow: 0px 1px 3px 1px rgba(0, 0, 0, 0.15);\n",
              "      filter: drop-shadow(0px 1px 2px rgba(0, 0, 0, 0.3));\n",
              "      fill: #FFFFFF;\n",
              "    }\n",
              "  </style>\n",
              "\n",
              "      <script>\n",
              "        const buttonEl =\n",
              "          document.querySelector('#df-ae358a3b-7e16-4f19-948f-47eb22f92174 button.colab-df-convert');\n",
              "        buttonEl.style.display =\n",
              "          google.colab.kernel.accessAllowed ? 'block' : 'none';\n",
              "\n",
              "        async function convertToInteractive(key) {\n",
              "          const element = document.querySelector('#df-ae358a3b-7e16-4f19-948f-47eb22f92174');\n",
              "          const dataTable =\n",
              "            await google.colab.kernel.invokeFunction('convertToInteractive',\n",
              "                                                     [key], {});\n",
              "          if (!dataTable) return;\n",
              "\n",
              "          const docLinkHtml = 'Like what you see? Visit the ' +\n",
              "            '<a target=\"_blank\" href=https://colab.research.google.com/notebooks/data_table.ipynb>data table notebook</a>'\n",
              "            + ' to learn more about interactive tables.';\n",
              "          element.innerHTML = '';\n",
              "          dataTable['output_type'] = 'display_data';\n",
              "          await google.colab.output.renderOutput(dataTable, element);\n",
              "          const docLink = document.createElement('div');\n",
              "          docLink.innerHTML = docLinkHtml;\n",
              "          element.appendChild(docLink);\n",
              "        }\n",
              "      </script>\n",
              "    </div>\n",
              "  </div>\n",
              "  "
            ]
          },
          "metadata": {},
          "execution_count": 117
        }
      ]
    },
    {
      "cell_type": "markdown",
      "source": [
        "### Benign data\n",
        "This will allow sample of benign seperately"
      ],
      "metadata": {
        "id": "icOHKEah_URJ"
      }
    },
    {
      "cell_type": "code",
      "source": [
        "benign_df = df[df['target'] == 0]\n",
        "benign_df.head()"
      ],
      "metadata": {
        "id": "xXhkphkY_bPt",
        "colab": {
          "base_uri": "https://localhost:8080/",
          "height": 206
        },
        "outputId": "d15cf0c1-4583-4331-8268-249cec520376"
      },
      "execution_count": null,
      "outputs": [
        {
          "output_type": "execute_result",
          "data": {
            "text/plain": [
              "     image_name benign_malignant target                       images\n",
              "0  ISIC_7122402           benign      0  jpeg/train/ISIC_7122402.jpg\n",
              "2  ISIC_7765038           benign      0  jpeg/train/ISIC_7765038.jpg\n",
              "3  ISIC_7196094           benign      0  jpeg/train/ISIC_7196094.jpg\n",
              "4  ISIC_9528732           benign      0  jpeg/train/ISIC_9528732.jpg\n",
              "5  ISIC_5367506           benign      0  jpeg/train/ISIC_5367506.jpg"
            ],
            "text/html": [
              "\n",
              "  <div id=\"df-95620365-4794-42bf-8fd8-1da68598e415\">\n",
              "    <div class=\"colab-df-container\">\n",
              "      <div>\n",
              "<style scoped>\n",
              "    .dataframe tbody tr th:only-of-type {\n",
              "        vertical-align: middle;\n",
              "    }\n",
              "\n",
              "    .dataframe tbody tr th {\n",
              "        vertical-align: top;\n",
              "    }\n",
              "\n",
              "    .dataframe thead th {\n",
              "        text-align: right;\n",
              "    }\n",
              "</style>\n",
              "<table border=\"1\" class=\"dataframe\">\n",
              "  <thead>\n",
              "    <tr style=\"text-align: right;\">\n",
              "      <th></th>\n",
              "      <th>image_name</th>\n",
              "      <th>benign_malignant</th>\n",
              "      <th>target</th>\n",
              "      <th>images</th>\n",
              "    </tr>\n",
              "  </thead>\n",
              "  <tbody>\n",
              "    <tr>\n",
              "      <th>0</th>\n",
              "      <td>ISIC_7122402</td>\n",
              "      <td>benign</td>\n",
              "      <td>0</td>\n",
              "      <td>jpeg/train/ISIC_7122402.jpg</td>\n",
              "    </tr>\n",
              "    <tr>\n",
              "      <th>2</th>\n",
              "      <td>ISIC_7765038</td>\n",
              "      <td>benign</td>\n",
              "      <td>0</td>\n",
              "      <td>jpeg/train/ISIC_7765038.jpg</td>\n",
              "    </tr>\n",
              "    <tr>\n",
              "      <th>3</th>\n",
              "      <td>ISIC_7196094</td>\n",
              "      <td>benign</td>\n",
              "      <td>0</td>\n",
              "      <td>jpeg/train/ISIC_7196094.jpg</td>\n",
              "    </tr>\n",
              "    <tr>\n",
              "      <th>4</th>\n",
              "      <td>ISIC_9528732</td>\n",
              "      <td>benign</td>\n",
              "      <td>0</td>\n",
              "      <td>jpeg/train/ISIC_9528732.jpg</td>\n",
              "    </tr>\n",
              "    <tr>\n",
              "      <th>5</th>\n",
              "      <td>ISIC_5367506</td>\n",
              "      <td>benign</td>\n",
              "      <td>0</td>\n",
              "      <td>jpeg/train/ISIC_5367506.jpg</td>\n",
              "    </tr>\n",
              "  </tbody>\n",
              "</table>\n",
              "</div>\n",
              "      <button class=\"colab-df-convert\" onclick=\"convertToInteractive('df-95620365-4794-42bf-8fd8-1da68598e415')\"\n",
              "              title=\"Convert this dataframe to an interactive table.\"\n",
              "              style=\"display:none;\">\n",
              "        \n",
              "  <svg xmlns=\"http://www.w3.org/2000/svg\" height=\"24px\"viewBox=\"0 0 24 24\"\n",
              "       width=\"24px\">\n",
              "    <path d=\"M0 0h24v24H0V0z\" fill=\"none\"/>\n",
              "    <path d=\"M18.56 5.44l.94 2.06.94-2.06 2.06-.94-2.06-.94-.94-2.06-.94 2.06-2.06.94zm-11 1L8.5 8.5l.94-2.06 2.06-.94-2.06-.94L8.5 2.5l-.94 2.06-2.06.94zm10 10l.94 2.06.94-2.06 2.06-.94-2.06-.94-.94-2.06-.94 2.06-2.06.94z\"/><path d=\"M17.41 7.96l-1.37-1.37c-.4-.4-.92-.59-1.43-.59-.52 0-1.04.2-1.43.59L10.3 9.45l-7.72 7.72c-.78.78-.78 2.05 0 2.83L4 21.41c.39.39.9.59 1.41.59.51 0 1.02-.2 1.41-.59l7.78-7.78 2.81-2.81c.8-.78.8-2.07 0-2.86zM5.41 20L4 18.59l7.72-7.72 1.47 1.35L5.41 20z\"/>\n",
              "  </svg>\n",
              "      </button>\n",
              "      \n",
              "  <style>\n",
              "    .colab-df-container {\n",
              "      display:flex;\n",
              "      flex-wrap:wrap;\n",
              "      gap: 12px;\n",
              "    }\n",
              "\n",
              "    .colab-df-convert {\n",
              "      background-color: #E8F0FE;\n",
              "      border: none;\n",
              "      border-radius: 50%;\n",
              "      cursor: pointer;\n",
              "      display: none;\n",
              "      fill: #1967D2;\n",
              "      height: 32px;\n",
              "      padding: 0 0 0 0;\n",
              "      width: 32px;\n",
              "    }\n",
              "\n",
              "    .colab-df-convert:hover {\n",
              "      background-color: #E2EBFA;\n",
              "      box-shadow: 0px 1px 2px rgba(60, 64, 67, 0.3), 0px 1px 3px 1px rgba(60, 64, 67, 0.15);\n",
              "      fill: #174EA6;\n",
              "    }\n",
              "\n",
              "    [theme=dark] .colab-df-convert {\n",
              "      background-color: #3B4455;\n",
              "      fill: #D2E3FC;\n",
              "    }\n",
              "\n",
              "    [theme=dark] .colab-df-convert:hover {\n",
              "      background-color: #434B5C;\n",
              "      box-shadow: 0px 1px 3px 1px rgba(0, 0, 0, 0.15);\n",
              "      filter: drop-shadow(0px 1px 2px rgba(0, 0, 0, 0.3));\n",
              "      fill: #FFFFFF;\n",
              "    }\n",
              "  </style>\n",
              "\n",
              "      <script>\n",
              "        const buttonEl =\n",
              "          document.querySelector('#df-95620365-4794-42bf-8fd8-1da68598e415 button.colab-df-convert');\n",
              "        buttonEl.style.display =\n",
              "          google.colab.kernel.accessAllowed ? 'block' : 'none';\n",
              "\n",
              "        async function convertToInteractive(key) {\n",
              "          const element = document.querySelector('#df-95620365-4794-42bf-8fd8-1da68598e415');\n",
              "          const dataTable =\n",
              "            await google.colab.kernel.invokeFunction('convertToInteractive',\n",
              "                                                     [key], {});\n",
              "          if (!dataTable) return;\n",
              "\n",
              "          const docLinkHtml = 'Like what you see? Visit the ' +\n",
              "            '<a target=\"_blank\" href=https://colab.research.google.com/notebooks/data_table.ipynb>data table notebook</a>'\n",
              "            + ' to learn more about interactive tables.';\n",
              "          element.innerHTML = '';\n",
              "          dataTable['output_type'] = 'display_data';\n",
              "          await google.colab.output.renderOutput(dataTable, element);\n",
              "          const docLink = document.createElement('div');\n",
              "          docLink.innerHTML = docLinkHtml;\n",
              "          element.appendChild(docLink);\n",
              "        }\n",
              "      </script>\n",
              "    </div>\n",
              "  </div>\n",
              "  "
            ]
          },
          "metadata": {},
          "execution_count": 118
        }
      ]
    },
    {
      "cell_type": "code",
      "source": [
        "SEED = 12321\n",
        "# Seed everything\n",
        "def seed_everything(seed):\n",
        "    random.seed(seed)\n",
        "    os.environ['PYTHONHASHSEED'] = str(seed)\n",
        "    np.random.seed(seed)\n",
        "    torch.manual_seed(seed)\n",
        "    torch.cuda.manual_seed(seed)\n",
        "    torch.backends.cudnn.deterministic = True\n",
        "    torch.backends.cudnn.benchmark = True\n",
        "\n",
        "seed_everything(SEED)"
      ],
      "metadata": {
        "id": "icb6dcwdHPCv"
      },
      "execution_count": null,
      "outputs": []
    },
    {
      "cell_type": "markdown",
      "source": [
        "### Helper functions"
      ],
      "metadata": {
        "id": "MNyI_XNvFz5Y"
      }
    },
    {
      "cell_type": "code",
      "source": [
        "def plot_histogram(data, plot_properties):\n",
        "  \"\"\" Generic function to plot a histogram.\n",
        "      param: data- is an 1D array of data\n",
        "      param: plot_properties- a dictionary of properties like:\n",
        "      {\"title\":\"\",\"xlabel\":\"\",\"ylabel\":\"\"}\n",
        "  \"\"\"\n",
        "  plt.figure(figsize=(10, 6))\n",
        "  plt.hist(data)\n",
        "  plt.grid(False)\n",
        "  plt.title(plot_properties[\"title\"])\n",
        "  plt.xlabel(plot_properties[\"xlabel\"])\n",
        "  plt.ylabel(plot_properties[\"ylabel\"])\n",
        "  plt.show()\n",
        "\n",
        "\n",
        "def plot_box(data, plot_properties):\n",
        "  \"\"\" Generic function to plot a box plot.\n",
        "      param: data- is an 1D array of data\n",
        "      param: plot_properties- a dictionary of properties like:\n",
        "      {\"title\":\"\",\"xlabel\":\"\",\"ylabel\":\"\"}\n",
        "  \"\"\"\n",
        "  plt.figure(figsize=(10, 6))\n",
        "  plt.boxplot(data)\n",
        "  plt.grid(False)\n",
        "  plt.title(plot_properties[\"title\"])\n",
        "  plt.xlabel(plot_properties[\"xlabel\"])\n",
        "  plt.ylabel(plot_properties[\"ylabel\"])\n",
        "  plt.show()\n",
        "    \n",
        "def plot_count(data,plot_properties):\n",
        "    \"\"\" Generic for a count plot.\n",
        "      param: data- is an 1D array of data\n",
        "      param: plot_properties- a dictionary of properties like:\n",
        "      {\"title\":\"\",\"xlabel\":\"\",\"ylabel\":\"\", \"x\":\"\"}\n",
        "    \"\"\"\n",
        "    plt.figure(figsize=(10, 6))\n",
        "    chart = sns.countplot(data,x=plot_properties['x'],palette='Set2')\n",
        "    chart.set_xticklabels(chart.get_xticklabels(), \n",
        "                      rotation=45, horizontalalignment='right')\n",
        "    plt.title(plot_properties[\"title\"])\n",
        "    plt.xlabel(plot_properties[\"xlabel\"])\n",
        "    plt.ylabel(plot_properties[\"ylabel\"])\n",
        "    plt.show()\n",
        "\n",
        "def exploring_new_dataset(dataset):\n",
        "  \"\"\" This function performs the role of\n",
        "      displaying the common information about a dataset\n",
        "  \"\"\"\n",
        "  print(\"Sample length\",len(dataset))\n",
        "  print(dataset.groupby('benign_malignant').image_name.count())\n",
        "  plot_count(dataset.benign_malignant, \n",
        "               {\"title\":\"IMAGES BY GROUND TRUTH\",\n",
        "                \"xlabel\":\"BENIGN_MALIGNANT\",\"ylabel\":\"NUMBER OF IMAGES\",\"x\":\"benign_malignant\"})"
      ],
      "metadata": {
        "id": "NLXxNjqpim9B"
      },
      "execution_count": null,
      "outputs": []
    },
    {
      "cell_type": "code",
      "source": [
        "def get_sample_from_df(sample,n):\n",
        "    for i in list(range(1,n+1)): \n",
        "        if sample.size>=i: \n",
        "            return sample.sample(n=i, random_state=SEED).index[0]\n",
        "        return [];\n",
        "\n",
        "\n",
        "def sample_by_patient(dataset,num_sample=1):\n",
        "  \"\"\" Get patient id as category\n",
        "   Prepare two datasets:\n",
        "   for each patient_id\n",
        "       select get records\n",
        "         if malignant\n",
        "           sample num_sample\n",
        "         elif benign\n",
        "           sample num_sample\"\"\"\n",
        "  unique_patient_id = dataset.patient_id.cat.categories\n",
        "  malignant_df = dataset[dataset['target'] == 1]\n",
        "\n",
        "  benign_df = dataset[dataset['target'] == 0]\n",
        "  sample_indices = []\n",
        "  #samples per patient\n",
        "  for  patient_id in unique_patient_id:\n",
        "      patient_sample = malignant_df[malignant_df['patient_id']==patient_id]\n",
        "      if patient_sample.size:\n",
        "          sample_indices.append(get_sample_from_df(patient_sample,num_sample))\n",
        "      else:\n",
        "          patient_sample = benign_df[benign_df['patient_id']==patient_id]\n",
        "          sample_indices.append(get_sample_from_df(patient_sample,num_sample))\n",
        "\n",
        "  return dataset.loc[sample_indices]\n",
        "\n",
        "def perform_sampling(dataset,sampling_type=\"\", patient_group_sample=1):\n",
        "  \"\"\"function to perform sampling based on\n",
        "     the sampling type provided.\n",
        "     Return train, test dataset\n",
        "  \"\"\"\n",
        "  train = None\n",
        "  test = None\n",
        "  if sampling_type==\"PATIENT_GROUP\":\n",
        "    sample=sample_by_patient(dataset,patient_group_sample)\n",
        "    train, test = train_test_split(sample, test_size=0.2, shuffle=True, random_state=SEED)\n",
        "  else:\n",
        "    # default train_test split by 8:2\n",
        "    train, test = train_test_split(dataset, test_size=0.2, shuffle=True, random_state=SEED)\n",
        "\n",
        "  return train,test; \n",
        "\n",
        "def set_image_file_name(row):\n",
        "    \"\"\"We create the image file name\"\"\"\n",
        "    file = row[\"image_name\"]+\".jpg\"\n",
        "    return file if os.path.exists(os.path.join(BASE_PATH, file)) else np.nan    \n"
      ],
      "metadata": {
        "id": "mpRzqnDiF2wd"
      },
      "execution_count": null,
      "outputs": []
    },
    {
      "cell_type": "markdown",
      "source": [
        "### Perform augmentation\n",
        "\n",
        "To simulate real life images from smart phones we perfom the following on the dataset.\n",
        "\n",
        "1. Changing lighting conditions by randomly sampling from a range of lighting values.\n",
        "2. Resize the images by randomly sampling from a list of sizes.\n",
        "3. We zoom the images by randomly sampling zoom factor\n",
        "4. We rotate the image by randomly sampling from a list of rotations\n",
        "5. We blur the image with random noise\n",
        "\n",
        "A combination of all the augmentation is done for each image and save in `aug` folder."
      ],
      "metadata": {
        "id": "LmduUTmUBS_i"
      }
    },
    {
      "cell_type": "code",
      "source": [
        "device = torch.device(\"cuda:0\" if torch.cuda.is_available() else \"cpu\")\n",
        "print(\" Device is {}\".format(device))"
      ],
      "metadata": {
        "colab": {
          "base_uri": "https://localhost:8080/"
        },
        "id": "2bQcSJyPBXaF",
        "outputId": "58c1092f-aea5-450d-9e9d-24bb074e63c2"
      },
      "execution_count": null,
      "outputs": [
        {
          "output_type": "stream",
          "name": "stdout",
          "text": [
            " Device is cpu\n"
          ]
        }
      ]
    },
    {
      "cell_type": "code",
      "source": [
        "def augmentation_sampler():\n",
        "  scale = random.sample([(4032,3024),(3088,2320),(2576,1932),(1280,960),(2340,1080)],1)\n",
        "  rotations = list(range(90))\n",
        "  rotation = random.sample(rotations,1)\n",
        "  max_zoom = random.random()*0.3\n",
        "  brightness_level = random.random()*2\n",
        "  blur_value = random.sample([0,1,2,3,4,5,6,7,8,9,10],1)\n",
        "  return {\"scale\": scale, \"angle\": rotation, \"zoom_factor\": max_zoom, \"brightness\": brightness_level, \"blur\": blur_value}\n",
        "  # print(f\"SCALE: {scale}, ANGLE: {rotation}, MAX_ZOOM: {max_zoom}, BRIGHTNESS: {brightness_level}, BLUR: {blur_value}\")"
      ],
      "metadata": {
        "id": "CgHBhQOAWw96"
      },
      "execution_count": null,
      "outputs": []
    },
    {
      "cell_type": "code",
      "source": [
        "def scale_image(img, scale_size):\n",
        "    return img.resize(scale_size)\n",
        "\n",
        "def rotate_image(img, angle):\n",
        "    return img.rotate(angle, expand=True)\n",
        "\n",
        "def zoom_image(img, zoom_factor):\n",
        "    h=img.height\n",
        "    w=img.width\n",
        "    zoom_box = (w*zoom_factor,h*zoom_factor,w-w*zoom_factor,h-h*zoom_factor) #left, top, right, bottom\n",
        "    return img.resize((w,h),resample=Image.LANCZOS,box=zoom_box)\n",
        "\n",
        "def change_image_brightness(img, brightness_level):\n",
        "    enhancer = ImageEnhance.Brightness(img)\n",
        "    return enhancer.enhance(brightness_level)        \n",
        "\n",
        "def blur_image(img, blur_value):\n",
        "   return img.filter(ImageFilter.GaussianBlur(blur_value))"
      ],
      "metadata": {
        "id": "0MQIuYmhUxN_"
      },
      "execution_count": null,
      "outputs": []
    },
    {
      "cell_type": "markdown",
      "source": [
        "### Augmentation for malignant"
      ],
      "metadata": {
        "id": "2BjRvRX4_8AJ"
      }
    },
    {
      "cell_type": "code",
      "source": [
        "aug_df = []"
      ],
      "metadata": {
        "id": "EBlxjUBSpOwG"
      },
      "execution_count": null,
      "outputs": []
    },
    {
      "cell_type": "code",
      "source": [
        "# sample a batch\n",
        "dataset_size = len(malignant_df)\n",
        "indices = malignant_df.index.tolist()\n",
        "np.random.shuffle(indices)\n",
        "batch_size = 330\n",
        "image_sampler = random.sample(indices,batch_size)"
      ],
      "metadata": {
        "id": "5Rr66NhBj-FG"
      },
      "execution_count": null,
      "outputs": []
    },
    {
      "cell_type": "code",
      "source": [
        "def process_row(i):\n",
        "    sample = df.loc[image_sampler[i]]\n",
        "    img_name = sample['images']\n",
        "    if isinstance(img_name,str) and os.path.exists(img_name):\n",
        "        image = Image.open(img_name)\n",
        "        aug_values = augmentation_sampler()\n",
        "        # print(aug_values)\n",
        "        image = change_image_brightness(image, aug_values[\"brightness\"])\n",
        "        image = zoom_image(image, aug_values[\"zoom_factor\"])\n",
        "        image = blur_image(image, aug_values[\"blur\"][0])\n",
        "        image = scale_image(image, aug_values[\"scale\"][0])\n",
        "        image = rotate_image(image, aug_values[\"angle\"][0])\n",
        "        sample.image_name = \"aug/AUG_\"+sample['image_name']\n",
        "        sample.images = sample['image_name']+\".jpg\"\n",
        "        # print(sample.images)\n",
        "        image.save(os.path.join(BASE_PATH,sample.images))\n",
        "        aug_df.append(sample)\n"
      ],
      "metadata": {
        "id": "V7GaOysspEvy"
      },
      "execution_count": null,
      "outputs": []
    },
    {
      "cell_type": "code",
      "source": [
        "# from csv import writer\n",
        "# with open(\"train_4.csv\", 'a+', newline='') as write_obj:\n",
        "#   csv_writer = writer(write_obj)\n",
        "for i in range(10):\n",
        "  for i in range(batch_size):\n",
        "      process_row(i)"
      ],
      "metadata": {
        "colab": {
          "base_uri": "https://localhost:8080/"
        },
        "id": "-C2RunGfmb16",
        "outputId": "a4615670-2e80-47c4-de25-64733e2e0876"
      },
      "execution_count": null,
      "outputs": [
        {
          "output_type": "stream",
          "name": "stderr",
          "text": [
            "/usr/local/lib/python3.7/dist-packages/pandas/core/series.py:1056: SettingWithCopyWarning: \n",
            "A value is trying to be set on a copy of a slice from a DataFrame\n",
            "\n",
            "See the caveats in the documentation: https://pandas.pydata.org/pandas-docs/stable/user_guide/indexing.html#returning-a-view-versus-a-copy\n",
            "  cacher_needs_updating = self._check_is_chained_assignment_possible()\n"
          ]
        }
      ]
    },
    {
      "cell_type": "markdown",
      "source": [
        "### Augmentation for benign data\n",
        "\n"
      ],
      "metadata": {
        "id": "aeMPMjjiAIji"
      }
    },
    {
      "cell_type": "code",
      "source": [
        "# sample a batch\n",
        "dataset_size = len(benign_df)\n",
        "indices = benign_df.index.tolist()\n",
        "np.random.shuffle(indices)\n",
        "batch_size = 770\n",
        "image_sampler = random.sample(indices,batch_size)"
      ],
      "metadata": {
        "id": "CMrGmTL7AIjj"
      },
      "execution_count": null,
      "outputs": []
    },
    {
      "cell_type": "code",
      "source": [
        "for i in range(10):\n",
        "  for i in range(batch_size):\n",
        "      process_row(i)\n"
      ],
      "metadata": {
        "id": "KJO3U4jUFGZ3"
      },
      "execution_count": null,
      "outputs": []
    },
    {
      "cell_type": "markdown",
      "source": [
        "### View dataset and Write to file"
      ],
      "metadata": {
        "id": "Z-Ko24RSFHYk"
      }
    },
    {
      "cell_type": "code",
      "source": [
        "df4 = pd.DataFrame(aug_df, columns =df.columns)"
      ],
      "metadata": {
        "id": "qDk4881WbSjO"
      },
      "execution_count": null,
      "outputs": []
    },
    {
      "cell_type": "code",
      "source": [
        "print(\"The number of rows and columne in train.csv: {}\".format(df4.shape))\n",
        "print(df4.columns)\n",
        "print(\"\\nDATA TYPES\\n\")\n",
        "print(df4.dtypes)\n",
        "print(\"\\n=================================================\\n\")\n",
        "print(\"\\nCOLUMN COUNT\\n\")\n",
        "print(df4.count())\n",
        "print(\"\\nNULL COUNT\\n\")\n",
        "print(df4.isnull().sum())\n",
        "# X.dropna(axis=0, inplace=True)"
      ],
      "metadata": {
        "colab": {
          "base_uri": "https://localhost:8080/"
        },
        "id": "49lmL_wsXts7",
        "outputId": "e026b424-03bb-4ed3-b9e2-a5c656648eee"
      },
      "execution_count": null,
      "outputs": [
        {
          "output_type": "stream",
          "name": "stdout",
          "text": [
            "The number of rows and columne in train.csv: (11000, 4)\n",
            "Index(['image_name', 'benign_malignant', 'target', 'images'], dtype='object')\n",
            "\n",
            "DATA TYPES\n",
            "\n",
            "image_name          object\n",
            "benign_malignant    object\n",
            "target               int64\n",
            "images              object\n",
            "dtype: object\n",
            "\n",
            "=================================================\n",
            "\n",
            "\n",
            "COLUMN COUNT\n",
            "\n",
            "image_name          11000\n",
            "benign_malignant    11000\n",
            "target              11000\n",
            "images              11000\n",
            "dtype: int64\n",
            "\n",
            "NULL COUNT\n",
            "\n",
            "image_name          0\n",
            "benign_malignant    0\n",
            "target              0\n",
            "images              0\n",
            "dtype: int64\n"
          ]
        }
      ]
    },
    {
      "cell_type": "code",
      "source": [
        "plt.figure(figsize=(10, 6))\n",
        "chart = sns.countplot(df4.target,\n",
        "    x=\"target\",\n",
        "    palette='Set2'\n",
        ")\n",
        "chart.set_xticklabels(chart.get_xticklabels(), \n",
        "                      rotation=0, horizontalalignment='right')\n",
        "plt.title(\"IMAGES BY TARGET\")\n",
        "plt.xlabel(\"TARGET\")\n",
        "plt.ylabel(\"NUMBER OF IMAGES\")\n",
        "plt.show()"
      ],
      "metadata": {
        "colab": {
          "base_uri": "https://localhost:8080/",
          "height": 459
        },
        "id": "9cUH_ABJXsdJ",
        "outputId": "d3e57dfd-2c78-4792-c17c-bf8567a5dd33"
      },
      "execution_count": null,
      "outputs": [
        {
          "output_type": "stream",
          "name": "stderr",
          "text": [
            "/usr/local/lib/python3.7/dist-packages/seaborn/_decorators.py:43: FutureWarning: Pass the following variable as a keyword arg: x. From version 0.12, the only valid positional argument will be `data`, and passing other arguments without an explicit keyword will result in an error or misinterpretation.\n",
            "  FutureWarning\n"
          ]
        },
        {
          "output_type": "display_data",
          "data": {
            "text/plain": [
              "<Figure size 720x432 with 1 Axes>"
            ],
            "image/png": "[encoded data removed]"
          },
          "metadata": {
            "needs_background": "light"
          }
        }
      ]
    },
    {
      "cell_type": "code",
      "source": [
        "df4.to_csv('aug_sample.csv',index=False)"
      ],
      "metadata": {
        "id": "btSAR86uLqDk"
      },
      "execution_count": null,
      "outputs": []
    }
  ]
}