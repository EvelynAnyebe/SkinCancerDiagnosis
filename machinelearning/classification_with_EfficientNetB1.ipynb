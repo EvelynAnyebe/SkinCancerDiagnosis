{
  "cells": [
    {
      "cell_type": "markdown",
      "metadata": {
        "id": "XAXfx3ahlhFe"
      },
      "source": [
        "## DERMOSCOPIC IMAGE CLASSIFICATION WITH EFFICIENTNET B1\n"
      ]
    },
    {
      "cell_type": "code",
      "execution_count": 29,
      "metadata": {
        "colab": {
          "base_uri": "https://localhost:8080/"
        },
        "id": "QIpurI29ocsw",
        "outputId": "5deec232-3e3e-42f6-e264-79f62457eb3c"
      },
      "outputs": [
        {
          "output_type": "stream",
          "name": "stdout",
          "text": [
            "Drive already mounted at /content/drive; to attempt to forcibly remount, call drive.mount(\"/content/drive\", force_remount=True).\n"
          ]
        }
      ],
      "source": [
        "from google.colab import drive\n",
        "drive.mount('/content/drive')"
      ]
    },
    {
      "cell_type": "code",
      "execution_count": 30,
      "metadata": {
        "colab": {
          "base_uri": "https://localhost:8080/"
        },
        "id": "EtojKiX3Vr8l",
        "outputId": "15445b23-7843-4e9f-b6ef-2b0ee74ef903"
      },
      "outputs": [
        {
          "output_type": "stream",
          "name": "stdout",
          "text": [
            "Your runtime has 27.3 gigabytes of available RAM\n",
            "\n",
            "You are using a high-RAM runtime!\n"
          ]
        }
      ],
      "source": [
        "from psutil import virtual_memory\n",
        "ram_gb = virtual_memory().total / 1e9\n",
        "print('Your runtime has {:.1f} gigabytes of available RAM\\n'.format(ram_gb))\n",
        "\n",
        "if ram_gb < 20:\n",
        "  print('Not using a high-RAM runtime')\n",
        "else:\n",
        "  print('You are using a high-RAM runtime!')"
      ]
    },
    {
      "cell_type": "code",
      "execution_count": 31,
      "metadata": {
        "colab": {
          "base_uri": "https://localhost:8080/"
        },
        "id": "QQot-E3cVytu",
        "outputId": "0ab62436-d28f-433f-f413-fde892efd8ea"
      },
      "outputs": [
        {
          "output_type": "stream",
          "name": "stdout",
          "text": [
            "Thu Sep  1 17:55:04 2022       \n",
            "+-----------------------------------------------------------------------------+\n",
            "| NVIDIA-SMI 460.32.03    Driver Version: 460.32.03    CUDA Version: 11.2     |\n",
            "|-------------------------------+----------------------+----------------------+\n",
            "| GPU  Name        Persistence-M| Bus-Id        Disp.A | Volatile Uncorr. ECC |\n",
            "| Fan  Temp  Perf  Pwr:Usage/Cap|         Memory-Usage | GPU-Util  Compute M. |\n",
            "|                               |                      |               MIG M. |\n",
            "|===============================+======================+======================|\n",
            "|   0  Tesla P100-PCIE...  Off  | 00000000:00:04.0 Off |                    0 |\n",
            "| N/A   46C    P0    35W / 250W |    673MiB / 16280MiB |      0%      Default |\n",
            "|                               |                      |                  N/A |\n",
            "+-------------------------------+----------------------+----------------------+\n",
            "                                                                               \n",
            "+-----------------------------------------------------------------------------+\n",
            "| Processes:                                                                  |\n",
            "|  GPU   GI   CI        PID   Type   Process name                  GPU Memory |\n",
            "|        ID   ID                                                   Usage      |\n",
            "|=============================================================================|\n",
            "+-----------------------------------------------------------------------------+\n"
          ]
        }
      ],
      "source": [
        "gpu_info = !nvidia-smi\n",
        "gpu_info = '\\n'.join(gpu_info)\n",
        "if gpu_info.find('failed') >= 0:\n",
        "  print('Not connected to a GPU')\n",
        "else:\n",
        "  print(gpu_info)"
      ]
    },
    {
      "cell_type": "markdown",
      "metadata": {
        "id": "-5-MID8alhFn"
      },
      "source": [
        "### Import needed library"
      ]
    },
    {
      "cell_type": "code",
      "source": [
        "!pip install -q efficientnet_pytorch"
      ],
      "metadata": {
        "id": "cP6cOh_Rynhv"
      },
      "execution_count": 32,
      "outputs": []
    },
    {
      "cell_type": "code",
      "execution_count": 33,
      "metadata": {
        "id": "H9Rhwe0JlhFq"
      },
      "outputs": [],
      "source": [
        "import numpy as np\n",
        "import pandas as pd\n",
        "import os\n",
        "import cv2\n",
        "import random\n",
        "import time\n",
        "import re, gc\n",
        "%matplotlib inline\n",
        "%config InlineBackend.figure_format = 'retina'\n",
        "import matplotlib.pyplot as plt\n",
        "import seaborn as sns\n",
        "from tabulate import tabulate\n",
        "\n",
        "from tqdm.notebook import tqdm\n",
        "from sklearn.preprocessing import LabelEncoder\n",
        "from PIL import Image, ImageEnhance, ImageFilter\n",
        "from sklearn.model_selection import train_test_split\n",
        "from sklearn.model_selection import KFold\n",
        "from sklearn.metrics import roc_auc_score\n",
        "from collections import OrderedDict\n",
        "import torch\n",
        "\n",
        "# Neural networks can be constructed using the torch.nn package.\n",
        "import torch.nn as nn\n",
        "import torch.nn.functional as F\n",
        "import torch.optim as optim\n",
        "from torch.optim import Adam, lr_scheduler\n",
        "from torch.utils.data.sampler import SubsetRandomSampler,  WeightedRandomSampler\n",
        "from torch.utils.data import Dataset\n",
        "import torchvision\n",
        "from torchvision import datasets, transforms, models\n",
        "from efficientnet_pytorch import EfficientNet\n",
        "\n",
        "import albumentations"
      ]
    },
    {
      "cell_type": "code",
      "execution_count": 34,
      "metadata": {
        "colab": {
          "base_uri": "https://localhost:8080/"
        },
        "id": "jF7B8s-ilhFu",
        "outputId": "46a6fdb2-da9b-41ea-de00-e3cd751ff39d"
      },
      "outputs": [
        {
          "output_type": "stream",
          "name": "stdout",
          "text": [
            " Device is cuda:0\n"
          ]
        }
      ],
      "source": [
        "device = torch.device(\"cuda:0\" if torch.cuda.is_available() else \"cpu\")\n",
        "print(\" Device is {}\".format(device))"
      ]
    },
    {
      "cell_type": "code",
      "execution_count": 35,
      "metadata": {
        "colab": {
          "base_uri": "https://localhost:8080/"
        },
        "id": "1C2UTJXgoTch",
        "outputId": "e5f9cff4-e052-4053-d69d-a583653cf116"
      },
      "outputs": [
        {
          "output_type": "stream",
          "name": "stdout",
          "text": [
            "/content/drive/MyDrive/Colab Notebooks\n"
          ]
        }
      ],
      "source": [
        "print(os.getcwd())"
      ]
    },
    {
      "cell_type": "code",
      "execution_count": 36,
      "metadata": {
        "colab": {
          "base_uri": "https://localhost:8080/"
        },
        "id": "HrYPQSjun99K",
        "outputId": "69c2cc84-bc5d-4d3c-d9bc-9cec4cfb3408"
      },
      "outputs": [
        {
          "output_type": "stream",
          "name": "stdout",
          "text": [
            "/content/drive/MyDrive/Colab Notebooks\n"
          ]
        }
      ],
      "source": [
        "path = os.path.abspath('/content/drive/MyDrive/Colab Notebooks')\n",
        "os.chdir(path)\n",
        "print(path)"
      ]
    },
    {
      "cell_type": "code",
      "execution_count": 37,
      "metadata": {
        "id": "X3shyXCZlhFx"
      },
      "outputs": [],
      "source": [
        "# BASE_PATH = 'jpeg/train'\n",
        "# print(BASE_PATH)"
      ]
    },
    {
      "cell_type": "markdown",
      "source": [
        "### Configuration variables"
      ],
      "metadata": {
        "id": "hMJuGG4K0Y8H"
      }
    },
    {
      "cell_type": "code",
      "source": [
        "WIDTH = 224\n",
        "HEIGHT = 224\n",
        "INPUT_SIZE = 224\n",
        "TRAIN_BATCH_SIZE = 32\n",
        "VALID_BATCH_SIZE = 32\n",
        "EPOCHS = 5\n",
        "LR = 1e-3\n",
        "FOLDS = 10\n",
        "SEED = 12321\n",
        "VERBOSE_STEP = 1\n",
        "BEST_AUC = 0\n",
        "\n",
        "MEAN = (0.485, 0.456, 0.406)\n",
        "STD = (0.229, 0.224, 0.225)\n",
        "MODEL_NAME = \"efficientnet\"\n",
        "NUM_CLASSES = 2"
      ],
      "metadata": {
        "id": "z2xZCGIJ0elk"
      },
      "execution_count": 38,
      "outputs": []
    },
    {
      "cell_type": "markdown",
      "source": [
        "### Helper Functions"
      ],
      "metadata": {
        "id": "GzR5sZzH04hg"
      }
    },
    {
      "cell_type": "code",
      "source": [
        "# Seed everything\n",
        "def seed_everything(seed):\n",
        "    random.seed(seed)\n",
        "    os.environ['PYTHONHASHSEED'] = str(seed)\n",
        "    np.random.seed(seed)\n",
        "    torch.manual_seed(seed)\n",
        "    torch.cuda.manual_seed(seed)\n",
        "    torch.backends.cudnn.deterministic = True\n",
        "    torch.backends.cudnn.benchmark = True\n",
        "\n",
        "seed_everything(SEED)"
      ],
      "metadata": {
        "id": "xttEeSS909og"
      },
      "execution_count": 39,
      "outputs": []
    },
    {
      "cell_type": "code",
      "source": [
        "class AverageMeter:\n",
        "    def __init__(self):\n",
        "        self.reset()\n",
        "    \n",
        "    def reset(self):\n",
        "        self.val = 0\n",
        "        self.avg = 0\n",
        "        self.sum = 0\n",
        "        self.count = 0\n",
        "    \n",
        "    def update(self, val, n=1):\n",
        "        self.val = val\n",
        "        self.sum += val * n\n",
        "        self.count += n\n",
        "        self.avg = self.sum / self.count"
      ],
      "metadata": {
        "id": "2ZJHsZ-F1Zd3"
      },
      "execution_count": 40,
      "outputs": []
    },
    {
      "cell_type": "code",
      "source": [
        "def get_sample_from_df(sample,n):\n",
        "    for i in list(range(n,0, -1)):\n",
        "        if len(sample)>=i:\n",
        "            return sample.sample(n=i, random_state=SEED).index[:i]   \n",
        "    return [];\n",
        "\n",
        "\n",
        "def sample_by_patient(dataset,num_sample=1):\n",
        "  \"\"\" Get patient id as category.\n",
        "   Prepare two datasets:\n",
        "   for each patient_id\n",
        "       select get records\n",
        "         if malignant\n",
        "           sample num_sample\n",
        "         elif benign\n",
        "           sample num_sample\"\"\"\n",
        "  unique_patient_id = dataset.patient_id.cat.categories\n",
        "  malignant_df = dataset[dataset['target'] == 1]\n",
        "  benign_df = dataset[dataset['target'] == 0]\n",
        "  sample_indices = []\n",
        "  #samples per patient\n",
        "  for  patient_id in unique_patient_id:\n",
        "      patient_sample = malignant_df[malignant_df['patient_id']==patient_id]\n",
        "      if len(patient_sample):\n",
        "          sample_indices.extend(get_sample_from_df(patient_sample,num_sample))\n",
        "      else:\n",
        "          patient_sample = benign_df[benign_df['patient_id']==patient_id]\n",
        "          sample_indices.extend(get_sample_from_df(patient_sample,num_sample))\n",
        "\n",
        "  return dataset.loc[sample_indices]\n",
        "\n",
        "def perform_sampling(dataset,sampling_type=\"\", patient_group_sample=1):\n",
        "  \"\"\"function to perform sampling based on\n",
        "     the sampling type provided.\n",
        "     Return train, test dataset\n",
        "  \"\"\"\n",
        "  train = None\n",
        "  test = None\n",
        "  if sampling_type==\"PATIENT_GROUP\":\n",
        "    sample=sample_by_patient(dataset,patient_group_sample)\n",
        "    train, test = train_test_split(sample, test_size=0.2, shuffle=True, random_state=SEED)\n",
        "  else:\n",
        "    # default train_test split by 8:2\n",
        "    train, test = train_test_split(dataset, test_size=0.2, shuffle=True, random_state=SEED)\n",
        "\n",
        "  return train,test;"
      ],
      "metadata": {
        "id": "P0y_pHJp1nsi"
      },
      "execution_count": 41,
      "outputs": []
    },
    {
      "cell_type": "markdown",
      "source": [
        "### Dataset"
      ],
      "metadata": {
        "id": "on_9hSFq29FF"
      }
    },
    {
      "cell_type": "code",
      "execution_count": 42,
      "metadata": {
        "id": "Z7-qBQ4flhGg"
      },
      "outputs": [],
      "source": [
        "class Lesion_Dataset(Dataset):\n",
        "    def __init__(self, img_data,img_path=None,resize=True, transform=None):\n",
        "        self.img_path = img_path\n",
        "        self.transform = transform\n",
        "        self.resize = resize\n",
        "        self.img_data = img_data\n",
        "        \n",
        "    def __len__(self):\n",
        "        return len(self.img_data)\n",
        "    \n",
        "    def __getitem__(self, index):\n",
        "        img_name = self.img_data.loc[index, 'images']\n",
        "        image = Image.open(img_name)      \n",
        "        label = torch.tensor(self.img_data.loc[index, 'target'],dtype=torch.long)\n",
        "        if self.resize:\n",
        "            image = image.resize(\n",
        "                (WIDTH, HEIGHT), resample=Image.BILINEAR\n",
        "            )\n",
        "        image = np.array(image)\n",
        "        \n",
        "        if self.transform is not None:\n",
        "            augmented = self.transform(image=image)\n",
        "            image = augmented['image']\n",
        "        \n",
        "        image = np.transpose(image, (2, 0, 1)).astype(np.float32)\n",
        "        \n",
        "        return {\n",
        "            'image': torch.tensor(image, dtype=torch.float),\n",
        "            'targets': label,\n",
        "        }"
      ]
    },
    {
      "cell_type": "markdown",
      "metadata": {
        "id": "wqLYLp_flhFy"
      },
      "source": [
        "### Load the data\n",
        "\n",
        "We load the train.csv file. "
      ]
    },
    {
      "cell_type": "code",
      "execution_count": 43,
      "metadata": {
        "colab": {
          "base_uri": "https://localhost:8080/",
          "height": 206
        },
        "id": "GA7kOohUlhFz",
        "outputId": "e35d38b4-d88a-4359-a377-bc1c2f4ac069"
      },
      "outputs": [
        {
          "output_type": "execute_result",
          "data": {
            "text/plain": [
              "   index    image_name benign_malignant  target                       images\n",
              "0  23431  ISIC_7122402           benign       0  jpeg/train/ISIC_7122402.jpg\n",
              "1  13596  ISIC_4170698        malignant       1  jpeg/train/ISIC_4170698.jpg\n",
              "2  25592  ISIC_7765038           benign       0  jpeg/train/ISIC_7765038.jpg\n",
              "3  23708  ISIC_7196094           benign       0  jpeg/train/ISIC_7196094.jpg\n",
              "4  31532  ISIC_9528732           benign       0  jpeg/train/ISIC_9528732.jpg"
            ],
            "text/html": [
              "\n",
              "  <div id=\"df-db1467ab-0190-4366-9a03-5e47706ac9dc\">\n",
              "    <div class=\"colab-df-container\">\n",
              "      <div>\n",
              "<style scoped>\n",
              "    .dataframe tbody tr th:only-of-type {\n",
              "        vertical-align: middle;\n",
              "    }\n",
              "\n",
              "    .dataframe tbody tr th {\n",
              "        vertical-align: top;\n",
              "    }\n",
              "\n",
              "    .dataframe thead th {\n",
              "        text-align: right;\n",
              "    }\n",
              "</style>\n",
              "<table border=\"1\" class=\"dataframe\">\n",
              "  <thead>\n",
              "    <tr style=\"text-align: right;\">\n",
              "      <th></th>\n",
              "      <th>index</th>\n",
              "      <th>image_name</th>\n",
              "      <th>benign_malignant</th>\n",
              "      <th>target</th>\n",
              "      <th>images</th>\n",
              "    </tr>\n",
              "  </thead>\n",
              "  <tbody>\n",
              "    <tr>\n",
              "      <th>0</th>\n",
              "      <td>23431</td>\n",
              "      <td>ISIC_7122402</td>\n",
              "      <td>benign</td>\n",
              "      <td>0</td>\n",
              "      <td>jpeg/train/ISIC_7122402.jpg</td>\n",
              "    </tr>\n",
              "    <tr>\n",
              "      <th>1</th>\n",
              "      <td>13596</td>\n",
              "      <td>ISIC_4170698</td>\n",
              "      <td>malignant</td>\n",
              "      <td>1</td>\n",
              "      <td>jpeg/train/ISIC_4170698.jpg</td>\n",
              "    </tr>\n",
              "    <tr>\n",
              "      <th>2</th>\n",
              "      <td>25592</td>\n",
              "      <td>ISIC_7765038</td>\n",
              "      <td>benign</td>\n",
              "      <td>0</td>\n",
              "      <td>jpeg/train/ISIC_7765038.jpg</td>\n",
              "    </tr>\n",
              "    <tr>\n",
              "      <th>3</th>\n",
              "      <td>23708</td>\n",
              "      <td>ISIC_7196094</td>\n",
              "      <td>benign</td>\n",
              "      <td>0</td>\n",
              "      <td>jpeg/train/ISIC_7196094.jpg</td>\n",
              "    </tr>\n",
              "    <tr>\n",
              "      <th>4</th>\n",
              "      <td>31532</td>\n",
              "      <td>ISIC_9528732</td>\n",
              "      <td>benign</td>\n",
              "      <td>0</td>\n",
              "      <td>jpeg/train/ISIC_9528732.jpg</td>\n",
              "    </tr>\n",
              "  </tbody>\n",
              "</table>\n",
              "</div>\n",
              "      <button class=\"colab-df-convert\" onclick=\"convertToInteractive('df-db1467ab-0190-4366-9a03-5e47706ac9dc')\"\n",
              "              title=\"Convert this dataframe to an interactive table.\"\n",
              "              style=\"display:none;\">\n",
              "        \n",
              "  <svg xmlns=\"http://www.w3.org/2000/svg\" height=\"24px\"viewBox=\"0 0 24 24\"\n",
              "       width=\"24px\">\n",
              "    <path d=\"M0 0h24v24H0V0z\" fill=\"none\"/>\n",
              "    <path d=\"M18.56 5.44l.94 2.06.94-2.06 2.06-.94-2.06-.94-.94-2.06-.94 2.06-2.06.94zm-11 1L8.5 8.5l.94-2.06 2.06-.94-2.06-.94L8.5 2.5l-.94 2.06-2.06.94zm10 10l.94 2.06.94-2.06 2.06-.94-2.06-.94-.94-2.06-.94 2.06-2.06.94z\"/><path d=\"M17.41 7.96l-1.37-1.37c-.4-.4-.92-.59-1.43-.59-.52 0-1.04.2-1.43.59L10.3 9.45l-7.72 7.72c-.78.78-.78 2.05 0 2.83L4 21.41c.39.39.9.59 1.41.59.51 0 1.02-.2 1.41-.59l7.78-7.78 2.81-2.81c.8-.78.8-2.07 0-2.86zM5.41 20L4 18.59l7.72-7.72 1.47 1.35L5.41 20z\"/>\n",
              "  </svg>\n",
              "      </button>\n",
              "      \n",
              "  <style>\n",
              "    .colab-df-container {\n",
              "      display:flex;\n",
              "      flex-wrap:wrap;\n",
              "      gap: 12px;\n",
              "    }\n",
              "\n",
              "    .colab-df-convert {\n",
              "      background-color: #E8F0FE;\n",
              "      border: none;\n",
              "      border-radius: 50%;\n",
              "      cursor: pointer;\n",
              "      display: none;\n",
              "      fill: #1967D2;\n",
              "      height: 32px;\n",
              "      padding: 0 0 0 0;\n",
              "      width: 32px;\n",
              "    }\n",
              "\n",
              "    .colab-df-convert:hover {\n",
              "      background-color: #E2EBFA;\n",
              "      box-shadow: 0px 1px 2px rgba(60, 64, 67, 0.3), 0px 1px 3px 1px rgba(60, 64, 67, 0.15);\n",
              "      fill: #174EA6;\n",
              "    }\n",
              "\n",
              "    [theme=dark] .colab-df-convert {\n",
              "      background-color: #3B4455;\n",
              "      fill: #D2E3FC;\n",
              "    }\n",
              "\n",
              "    [theme=dark] .colab-df-convert:hover {\n",
              "      background-color: #434B5C;\n",
              "      box-shadow: 0px 1px 3px 1px rgba(0, 0, 0, 0.15);\n",
              "      filter: drop-shadow(0px 1px 2px rgba(0, 0, 0, 0.3));\n",
              "      fill: #FFFFFF;\n",
              "    }\n",
              "  </style>\n",
              "\n",
              "      <script>\n",
              "        const buttonEl =\n",
              "          document.querySelector('#df-db1467ab-0190-4366-9a03-5e47706ac9dc button.colab-df-convert');\n",
              "        buttonEl.style.display =\n",
              "          google.colab.kernel.accessAllowed ? 'block' : 'none';\n",
              "\n",
              "        async function convertToInteractive(key) {\n",
              "          const element = document.querySelector('#df-db1467ab-0190-4366-9a03-5e47706ac9dc');\n",
              "          const dataTable =\n",
              "            await google.colab.kernel.invokeFunction('convertToInteractive',\n",
              "                                                     [key], {});\n",
              "          if (!dataTable) return;\n",
              "\n",
              "          const docLinkHtml = 'Like what you see? Visit the ' +\n",
              "            '<a target=\"_blank\" href=https://colab.research.google.com/notebooks/data_table.ipynb>data table notebook</a>'\n",
              "            + ' to learn more about interactive tables.';\n",
              "          element.innerHTML = '';\n",
              "          dataTable['output_type'] = 'display_data';\n",
              "          await google.colab.output.renderOutput(dataTable, element);\n",
              "          const docLink = document.createElement('div');\n",
              "          docLink.innerHTML = docLinkHtml;\n",
              "          element.appendChild(docLink);\n",
              "        }\n",
              "      </script>\n",
              "    </div>\n",
              "  </div>\n",
              "  "
            ]
          },
          "metadata": {},
          "execution_count": 43
        }
      ],
      "source": [
        "train_df = pd.read_csv(os.path.join(path,\"train_sample.csv\"))\n",
        "train_df.head()"
      ]
    },
    {
      "cell_type": "markdown",
      "metadata": {
        "id": "wGT3nMA_lhF0"
      },
      "source": [
        "#### Preprocessing"
      ]
    },
    {
      "cell_type": "code",
      "execution_count": 44,
      "metadata": {
        "id": "7tDG-LFTlhF2",
        "colab": {
          "base_uri": "https://localhost:8080/"
        },
        "outputId": "b8eeee93-5ba6-45db-acca-4142605bcec7"
      },
      "outputs": [
        {
          "output_type": "stream",
          "name": "stdout",
          "text": [
            "The number of rows and columne in train.csv: (9188, 5)\n",
            "Index(['index', 'image_name', 'benign_malignant', 'target', 'images'], dtype='object')\n",
            "\n",
            "DATA TYPES\n",
            "\n",
            "index                int64\n",
            "image_name          object\n",
            "benign_malignant    object\n",
            "target               int64\n",
            "images              object\n",
            "dtype: object\n",
            "\n",
            "=================================================\n",
            "\n",
            "\n",
            "COLUMN COUNT\n",
            "\n",
            "index               9188\n",
            "image_name          9188\n",
            "benign_malignant    9188\n",
            "target              9188\n",
            "images              9188\n",
            "dtype: int64\n",
            "\n",
            "NULL COUNT\n",
            "\n",
            "index               0\n",
            "image_name          0\n",
            "benign_malignant    0\n",
            "target              0\n",
            "images              0\n",
            "dtype: int64\n"
          ]
        }
      ],
      "source": [
        "print(\"The number of rows and columne in train.csv: {}\".format(train_df.shape))\n",
        "print(train_df.columns)\n",
        "print(\"\\nDATA TYPES\\n\")\n",
        "print(train_df.dtypes)\n",
        "print(\"\\n=================================================\\n\")\n",
        "print(\"\\nCOLUMN COUNT\\n\")\n",
        "print(train_df.count())\n",
        "print(\"\\nNULL COUNT\\n\")\n",
        "print(train_df.isnull().sum())\n",
        "# train_df.dropna(axis=0, inplace=True)"
      ]
    },
    {
      "cell_type": "code",
      "execution_count": 45,
      "metadata": {
        "id": "Fjgnpl3ZlhF3"
      },
      "outputs": [],
      "source": [
        "# Covert columns to categorical type. \n",
        "train_df = train_df.astype({'benign_malignant':'category',\n",
        "                            'target':'category'})"
      ]
    },
    {
      "cell_type": "code",
      "execution_count": 46,
      "metadata": {
        "colab": {
          "base_uri": "https://localhost:8080/"
        },
        "id": "5lK0qkRllhF5",
        "outputId": "38eaa350-ba28-437d-80b8-24fe3880a918"
      },
      "outputs": [
        {
          "output_type": "stream",
          "name": "stdout",
          "text": [
            "The number of rows and columne in train.csv: (9188, 5)\n"
          ]
        }
      ],
      "source": [
        "print(\"The number of rows and columne in train.csv: {}\".format(train_df.shape))"
      ]
    },
    {
      "cell_type": "markdown",
      "source": [
        "#### Generating folds"
      ],
      "metadata": {
        "id": "qzW2IV6Q6ADT"
      }
    },
    {
      "cell_type": "code",
      "source": [
        "kf = KFold(FOLDS, random_state=SEED, shuffle=True)\n",
        "df = train_df.sample(frac=1).reset_index(drop=True)\n",
        "\n",
        "for f, (_, val_index) in enumerate(kf.split(df, df)):\n",
        "    df.loc[val_index, 'kfold'] = f\n",
        "    \n",
        "print(df['kfold'].value_counts())"
      ],
      "metadata": {
        "id": "J4bbzSEU6FqR",
        "colab": {
          "base_uri": "https://localhost:8080/"
        },
        "outputId": "fdb032fe-bc12-4046-c108-5419997d6408"
      },
      "execution_count": 47,
      "outputs": [
        {
          "output_type": "stream",
          "name": "stdout",
          "text": [
            "5.0    919\n",
            "1.0    919\n",
            "3.0    919\n",
            "7.0    919\n",
            "2.0    919\n",
            "0.0    919\n",
            "4.0    919\n",
            "6.0    919\n",
            "8.0    918\n",
            "9.0    918\n",
            "Name: kfold, dtype: int64\n"
          ]
        }
      ]
    },
    {
      "cell_type": "markdown",
      "source": [
        "#### Deriving wieghts for sampler"
      ],
      "metadata": {
        "id": "kzEvT_fL6z3b"
      }
    },
    {
      "cell_type": "code",
      "source": [
        "def generate_weights(df):\n",
        "    B = 0.5\n",
        "\n",
        "    C = np.array([B, (1 - B)])*2\n",
        "    ones = len(df.query('target == 1'))\n",
        "    zeros = len(df.query('target == 0'))\n",
        "\n",
        "    weightage_fn = {0: C[1]/zeros, 1: C[0]/ones}\n",
        "    return [weightage_fn[target] for target in df.target]"
      ],
      "metadata": {
        "id": "NaKYGrkL6rNs"
      },
      "execution_count": 48,
      "outputs": []
    },
    {
      "cell_type": "markdown",
      "metadata": {
        "id": "oqz2nhxclhGd"
      },
      "source": [
        "### Transforms\n"
      ]
    },
    {
      "cell_type": "code",
      "execution_count": 49,
      "metadata": {
        "id": "LPCjfl8JFBXH"
      },
      "outputs": [],
      "source": [
        "train_transforms = albumentations.Compose([\n",
        "    albumentations.ShiftScaleRotate(p=0.9),\n",
        "    albumentations.CLAHE(p=0.5),\n",
        "    albumentations.HorizontalFlip(p=0.5),\n",
        "    albumentations.VerticalFlip(p=0.5),\n",
        "    albumentations.RandomBrightnessContrast(p=0.9),\n",
        "    albumentations.Normalize(mean=MEAN, std=STD, always_apply=True)\n",
        "])\n",
        "\n",
        "test_transforms = albumentations.Compose([\n",
        "    albumentations.Normalize(mean=MEAN, std=STD, always_apply=True)\n",
        "])"
      ]
    },
    {
      "cell_type": "markdown",
      "source": [
        "### Model definitions"
      ],
      "metadata": {
        "id": "4OwR8jJ_7Yed"
      }
    },
    {
      "cell_type": "code",
      "execution_count": 50,
      "metadata": {
        "id": "O7FW9RYulhGp"
      },
      "outputs": [],
      "source": [
        "class EfficientModel(nn.Module):\n",
        "    def __init__(self):\n",
        "        super(EfficientModel, self).__init__()\n",
        "        \n",
        "        self.encoder = EfficientNet.from_pretrained(\"efficientnet-b1\")\n",
        "        self.dropout = nn.Dropout(0.3)\n",
        "        self.head = nn.Sequential(nn.Linear(1280, 256),\n",
        "                                  nn.ReLU(),\n",
        "                                  nn.Linear(256, 1),\n",
        "                                  nn.Sigmoid())\n",
        "        for param in self.head.parameters():\n",
        "                param.requires_grad = True\n",
        "    \n",
        "    def forward(self, image):\n",
        "        batch_size, _, _, _ = image.shape\n",
        "        \n",
        "        x = self.encoder.extract_features(image)\n",
        "        x = F.adaptive_avg_pool2d(x, 1).reshape(batch_size, -1)\n",
        "        \n",
        "        x = self.dropout(x)\n",
        "        logit = self.head(x)\n",
        "        \n",
        "        return logit\n",
        "\n",
        "\n",
        "class ConvnextModel(nn.Module):\n",
        "    def __init__(self):\n",
        "        super(ConvnextModel, self).__init__()\n",
        "        self.model = timm.create_model('convnext_xlarge_384_in22ft1k', pretrained=True)\n",
        "        self.classifier=nn.Sequential(nn.Linear(1000, 256),nn.ReLU(), nn.Linear(256,1),nn.Sigmoid())\n",
        "        for param in self.model.parameters():\n",
        "            param.requires_grad = False\n",
        "    \n",
        "        # Unfreeze the last stage\n",
        "        for param in self.model.stages[3].parameters():\n",
        "            param.requires_grad = True\n",
        "    \n",
        "    def forward(self, x):\n",
        "        x = self.model.forward_features(x)\n",
        "        x = self.model.head(x)\n",
        "        x = self.classifier(x)\n",
        "        return x\n",
        "\n",
        "# feature_extract is a boolean that defines if we are finetuning or feature extracting. \n",
        "# If feature_extract = False, the model is finetuned and all model parameters are updated. \n",
        "# If feature_extract = True, only the last layer parameters are updated, the others remain fixed.\n",
        "def set_parameter_requires_grad(model, feature_extracting):\n",
        "    if feature_extracting:\n",
        "        for param in model.parameters():\n",
        "            param.requires_grad = False\n",
        "\n",
        "            \n",
        "def initialize_model(model_name, num_classes, feature_extract, use_pretrained=True):\n",
        "    # Initialize these variables which will be set in this if statement. Each of these\n",
        "    #   variables is model specific.\n",
        "    model_ft = None\n",
        "    input_size = 0\n",
        "      \n",
        "    if model_name == \"efficientnet\":\n",
        "        \"\"\" Efficient Net B1 modified \"\"\"\n",
        "        model_ft = EfficientModel()\n",
        "        input_size =224\n",
        "    if model_name == \"resnet\":\n",
        "        \"\"\" Resnet18, resnet34, resnet50, resnet101\n",
        "        \"\"\"\n",
        "        model_ft = models.resnet50(pretrained=use_pretrained)\n",
        "        set_parameter_requires_grad(model_ft, feature_extract)\n",
        "        num_ftrs = model_ft.fc.in_features\n",
        "        model_ft.fc = nn.Sequential(nn.Linear(num_ftrs, 256),\n",
        "                                    nn.ReLU(),\n",
        "                                    nn.Linear(256, 1),\n",
        "                                    nn.Sigmoid())\n",
        "        for param in model_ft.fc.parameters():\n",
        "                param.requires_grad = True\n",
        "    \n",
        "        input_size = 224\n",
        "\n",
        "    elif model_name == \"convnext\":\n",
        "          model_ft = ConvnextModel()\n",
        "          \n",
        "          input_size = 224        \n",
        "    else:\n",
        "        print(\"Invalid model name, exiting...\")\n",
        "        exit()\n",
        "    return model_ft, input_size"
      ]
    },
    {
      "cell_type": "markdown",
      "source": [
        "### Model Utils\n"
      ],
      "metadata": {
        "id": "oBcIhgRREZjy"
      }
    },
    {
      "cell_type": "code",
      "source": [
        "class FocalLoss(nn.Module):\n",
        "    def __init__(self, alpha=1, gamma=2, logits=False, reduce=True):\n",
        "        super(FocalLoss, self).__init__()\n",
        "        self.alpha = alpha\n",
        "        self.gamma = gamma\n",
        "        self.logits = logits\n",
        "        self.reduce = reduce\n",
        "\n",
        "    def forward(self, inputs, targets):\n",
        "        if self.logits:\n",
        "            BCE_loss = F.binary_cross_entropy_with_logits(inputs, targets, reduce=None)\n",
        "        else:\n",
        "            BCE_loss = F.binary_cross_entropy(inputs, targets, reduce=None)\n",
        "        pt = torch.exp(-BCE_loss)\n",
        "        F_loss = self.alpha * (1-pt)**self.gamma * BCE_loss\n",
        "\n",
        "        if self.reduce:\n",
        "            return torch.mean(F_loss)\n",
        "        else:\n",
        "            return F_loss\n",
        "\n",
        "def loss_fn(outputs, targets):\n",
        "    return FocalLoss(logits=False)(outputs, targets)\n",
        "\n",
        "\n",
        "def train_fn(data_loader, model, optimizer, device, scheduler=None):\n",
        "    model.train()\n",
        "    \n",
        "    losses = AverageMeter()\n",
        "\n",
        "    tk0 = tqdm(data_loader, total=len(data_loader))\n",
        "    \n",
        "    for bi, d in enumerate(tk0):\n",
        "        images = d['image']\n",
        "        targets = d['targets']\n",
        "        \n",
        "        images = images.to(device, dtype=torch.float)\n",
        "        targets = targets.to(device, dtype=torch.long)\n",
        "        model.zero_grad()\n",
        "        outputs = model(images)\n",
        "        targets = targets.view(-1, 1).type_as(outputs)\n",
        "        \n",
        "        loss = loss_fn(outputs, targets)\n",
        "        loss.backward()\n",
        "        optimizer.step()\n",
        "        if scheduler:\n",
        "            scheduler.step()\n",
        "        \n",
        "        losses.update(loss.item(), images.size(0))\n",
        "        \n",
        "        tk0.set_postfix(loss=losses.avg)\n",
        "    return losses.avg\n",
        "\n",
        "def eval_fn(data_loader, model, device):\n",
        "    model.eval()\n",
        "    \n",
        "    losses = AverageMeter()\n",
        "    final_preds = []\n",
        "    \n",
        "    with torch.no_grad():\n",
        "        tk0 = tqdm(data_loader, total=len(data_loader))\n",
        "        \n",
        "        for bi, d in enumerate(tk0):\n",
        "            images = d['image']\n",
        "            targets = d['targets']\n",
        "\n",
        "            images = images.to(device, dtype=torch.float)\n",
        "            targets = targets.to(device, dtype=torch.long)\n",
        "            model.zero_grad()\n",
        "            outputs = model(images)\n",
        "            targets = targets.view(-1, 1).type_as(outputs)   \n",
        "\n",
        "            loss = loss_fn(outputs, targets)\n",
        "            losses.update(loss.item(), images.size(0))\n",
        "            \n",
        "            final_preds.extend(outputs.cpu().detach().numpy().tolist())\n",
        "        \n",
        "    return losses.avg, final_preds\n",
        "\n",
        "def run_fold(fold,best_auc):\n",
        "    patience = 0\n",
        "    feature_extract = False\n",
        "    # Initialize the model for this run\n",
        "    model_ft, input_size = initialize_model(MODEL_NAME, NUM_CLASSES, feature_extract, use_pretrained=True)\n",
        "    # Define the device:\n",
        "    device = torch.device('cuda:0')\n",
        "    # Put the model on the device:\n",
        "    model = model_ft.to(device)\n",
        "    \n",
        "    # Selecting fold\n",
        "    train_df = df[df['kfold'] != fold].reset_index(drop=True)\n",
        "    valid_df = df[df['kfold'] == fold].reset_index(drop=True)\n",
        "    \n",
        "    weights = generate_weights(train_df)\n",
        "        \n",
        "    # Loading data\n",
        "     # Create the dataset\n",
        "    train_dataset = Lesion_Dataset(train_df,True,train_transforms)\n",
        "    valid_dataset = Lesion_Dataset(valid_df,True,test_transforms)\n",
        "\n",
        "    train_sampler = WeightedRandomSampler(weights, len(train_df))\n",
        "\n",
        "    train_loader = torch.utils.data.DataLoader(\n",
        "        train_dataset, \n",
        "        batch_size=TRAIN_BATCH_SIZE, \n",
        "        sampler=train_sampler)\n",
        "\n",
        "    valid_loader = torch.utils.data.DataLoader(\n",
        "        valid_dataset, \n",
        "        batch_size=VALID_BATCH_SIZE, \n",
        "        shuffle=False)\n",
        "    \n",
        "    # Optimizer and scheduler\n",
        "    num_train_steps = int(len(train_df) / TRAIN_BATCH_SIZE * EPOCHS)\n",
        "    optimizer = torch.optim.Adam(model.parameters(), lr=LR)\n",
        "    scheduler = torch.optim.lr_scheduler.CosineAnnealingLR(\n",
        "        optimizer,\n",
        "        T_max=num_train_steps,\n",
        "        eta_min=1e-6\n",
        "    )\n",
        "    \n",
        "    # Training loop\n",
        "    for epoch in range(EPOCHS):\n",
        "        train_loss = train_fn(train_loader, model, optimizer, device=device, scheduler=scheduler)\n",
        "        loss, y_pred = eval_fn(valid_loader, model, device=device)\n",
        "        \n",
        "        y_pred = np.array(y_pred)\n",
        "        val_auc = roc_auc_score(valid_df['target'].values, y_pred)      \n",
        "        print(f\"Epoch {epoch}.. \"\n",
        "                f\"Train loss: {train_loss:.3f}.. \"\n",
        "                f\"Validation loss: {loss:.3f}.. \"\n",
        "                f\"Validation auc: {val_auc:.3f}\")\n",
        "        if val_auc > best_auc:\n",
        "            torch.save(model, 'efficientnet_model_1.pth')\n",
        "            print('Validation score improved ({} --> {}). Saving model!'.format(best_auc, val_auc))\n",
        "            best_auc = val_auc\n",
        "        else:\n",
        "          patience = patience + 1\n",
        "\n",
        "        if patience >= 2:\n",
        "          break;       \n",
        "\n",
        "    return best_auc      "
      ],
      "metadata": {
        "id": "Vo8NHMrgEd3H"
      },
      "execution_count": 51,
      "outputs": []
    },
    {
      "cell_type": "markdown",
      "source": [
        "### Perform Training"
      ],
      "metadata": {
        "id": "Oa8duVsFTrxF"
      }
    },
    {
      "cell_type": "code",
      "execution_count": 52,
      "metadata": {
        "id": "75uf1_qMlhGU"
      },
      "outputs": [],
      "source": [
        "# BEST_AUC=0\n",
        "# for i in range(FOLDS):\n",
        "#     BEST_AUC=run_fold(i,BEST_AUC)"
      ]
    },
    {
      "cell_type": "markdown",
      "source": [
        "### Test the model"
      ],
      "metadata": {
        "id": "pKzWOapxjbvp"
      }
    },
    {
      "cell_type": "code",
      "source": [
        "test = pd.read_csv(os.path.join(path,\"test_sample.csv\"))\n",
        "test.head()"
      ],
      "metadata": {
        "colab": {
          "base_uri": "https://localhost:8080/",
          "height": 206
        },
        "id": "sqmBUVL7UGaA",
        "outputId": "bc6b3c6a-f532-46de-c389-7d7335ecd79d"
      },
      "execution_count": 53,
      "outputs": [
        {
          "output_type": "execute_result",
          "data": {
            "text/plain": [
              "   index    image_name benign_malignant  target                       images\n",
              "0  12917  ISIC_3975660           benign       0  jpeg/train/ISIC_3975660.jpg\n",
              "1  31076  ISIC_9390275           benign       0  jpeg/train/ISIC_9390275.jpg\n",
              "2  24601  ISIC_7466678        malignant       1  jpeg/train/ISIC_7466678.jpg\n",
              "3  22916  ISIC_6966001        malignant       1  jpeg/train/ISIC_6966001.jpg\n",
              "4  12676  ISIC_3906195           benign       0  jpeg/train/ISIC_3906195.jpg"
            ],
            "text/html": [
              "\n",
              "  <div id=\"df-1c81b42c-21fa-441e-9238-a222616b9e07\">\n",
              "    <div class=\"colab-df-container\">\n",
              "      <div>\n",
              "<style scoped>\n",
              "    .dataframe tbody tr th:only-of-type {\n",
              "        vertical-align: middle;\n",
              "    }\n",
              "\n",
              "    .dataframe tbody tr th {\n",
              "        vertical-align: top;\n",
              "    }\n",
              "\n",
              "    .dataframe thead th {\n",
              "        text-align: right;\n",
              "    }\n",
              "</style>\n",
              "<table border=\"1\" class=\"dataframe\">\n",
              "  <thead>\n",
              "    <tr style=\"text-align: right;\">\n",
              "      <th></th>\n",
              "      <th>index</th>\n",
              "      <th>image_name</th>\n",
              "      <th>benign_malignant</th>\n",
              "      <th>target</th>\n",
              "      <th>images</th>\n",
              "    </tr>\n",
              "  </thead>\n",
              "  <tbody>\n",
              "    <tr>\n",
              "      <th>0</th>\n",
              "      <td>12917</td>\n",
              "      <td>ISIC_3975660</td>\n",
              "      <td>benign</td>\n",
              "      <td>0</td>\n",
              "      <td>jpeg/train/ISIC_3975660.jpg</td>\n",
              "    </tr>\n",
              "    <tr>\n",
              "      <th>1</th>\n",
              "      <td>31076</td>\n",
              "      <td>ISIC_9390275</td>\n",
              "      <td>benign</td>\n",
              "      <td>0</td>\n",
              "      <td>jpeg/train/ISIC_9390275.jpg</td>\n",
              "    </tr>\n",
              "    <tr>\n",
              "      <th>2</th>\n",
              "      <td>24601</td>\n",
              "      <td>ISIC_7466678</td>\n",
              "      <td>malignant</td>\n",
              "      <td>1</td>\n",
              "      <td>jpeg/train/ISIC_7466678.jpg</td>\n",
              "    </tr>\n",
              "    <tr>\n",
              "      <th>3</th>\n",
              "      <td>22916</td>\n",
              "      <td>ISIC_6966001</td>\n",
              "      <td>malignant</td>\n",
              "      <td>1</td>\n",
              "      <td>jpeg/train/ISIC_6966001.jpg</td>\n",
              "    </tr>\n",
              "    <tr>\n",
              "      <th>4</th>\n",
              "      <td>12676</td>\n",
              "      <td>ISIC_3906195</td>\n",
              "      <td>benign</td>\n",
              "      <td>0</td>\n",
              "      <td>jpeg/train/ISIC_3906195.jpg</td>\n",
              "    </tr>\n",
              "  </tbody>\n",
              "</table>\n",
              "</div>\n",
              "      <button class=\"colab-df-convert\" onclick=\"convertToInteractive('df-1c81b42c-21fa-441e-9238-a222616b9e07')\"\n",
              "              title=\"Convert this dataframe to an interactive table.\"\n",
              "              style=\"display:none;\">\n",
              "        \n",
              "  <svg xmlns=\"http://www.w3.org/2000/svg\" height=\"24px\"viewBox=\"0 0 24 24\"\n",
              "       width=\"24px\">\n",
              "    <path d=\"M0 0h24v24H0V0z\" fill=\"none\"/>\n",
              "    <path d=\"M18.56 5.44l.94 2.06.94-2.06 2.06-.94-2.06-.94-.94-2.06-.94 2.06-2.06.94zm-11 1L8.5 8.5l.94-2.06 2.06-.94-2.06-.94L8.5 2.5l-.94 2.06-2.06.94zm10 10l.94 2.06.94-2.06 2.06-.94-2.06-.94-.94-2.06-.94 2.06-2.06.94z\"/><path d=\"M17.41 7.96l-1.37-1.37c-.4-.4-.92-.59-1.43-.59-.52 0-1.04.2-1.43.59L10.3 9.45l-7.72 7.72c-.78.78-.78 2.05 0 2.83L4 21.41c.39.39.9.59 1.41.59.51 0 1.02-.2 1.41-.59l7.78-7.78 2.81-2.81c.8-.78.8-2.07 0-2.86zM5.41 20L4 18.59l7.72-7.72 1.47 1.35L5.41 20z\"/>\n",
              "  </svg>\n",
              "      </button>\n",
              "      \n",
              "  <style>\n",
              "    .colab-df-container {\n",
              "      display:flex;\n",
              "      flex-wrap:wrap;\n",
              "      gap: 12px;\n",
              "    }\n",
              "\n",
              "    .colab-df-convert {\n",
              "      background-color: #E8F0FE;\n",
              "      border: none;\n",
              "      border-radius: 50%;\n",
              "      cursor: pointer;\n",
              "      display: none;\n",
              "      fill: #1967D2;\n",
              "      height: 32px;\n",
              "      padding: 0 0 0 0;\n",
              "      width: 32px;\n",
              "    }\n",
              "\n",
              "    .colab-df-convert:hover {\n",
              "      background-color: #E2EBFA;\n",
              "      box-shadow: 0px 1px 2px rgba(60, 64, 67, 0.3), 0px 1px 3px 1px rgba(60, 64, 67, 0.15);\n",
              "      fill: #174EA6;\n",
              "    }\n",
              "\n",
              "    [theme=dark] .colab-df-convert {\n",
              "      background-color: #3B4455;\n",
              "      fill: #D2E3FC;\n",
              "    }\n",
              "\n",
              "    [theme=dark] .colab-df-convert:hover {\n",
              "      background-color: #434B5C;\n",
              "      box-shadow: 0px 1px 3px 1px rgba(0, 0, 0, 0.15);\n",
              "      filter: drop-shadow(0px 1px 2px rgba(0, 0, 0, 0.3));\n",
              "      fill: #FFFFFF;\n",
              "    }\n",
              "  </style>\n",
              "\n",
              "      <script>\n",
              "        const buttonEl =\n",
              "          document.querySelector('#df-1c81b42c-21fa-441e-9238-a222616b9e07 button.colab-df-convert');\n",
              "        buttonEl.style.display =\n",
              "          google.colab.kernel.accessAllowed ? 'block' : 'none';\n",
              "\n",
              "        async function convertToInteractive(key) {\n",
              "          const element = document.querySelector('#df-1c81b42c-21fa-441e-9238-a222616b9e07');\n",
              "          const dataTable =\n",
              "            await google.colab.kernel.invokeFunction('convertToInteractive',\n",
              "                                                     [key], {});\n",
              "          if (!dataTable) return;\n",
              "\n",
              "          const docLinkHtml = 'Like what you see? Visit the ' +\n",
              "            '<a target=\"_blank\" href=https://colab.research.google.com/notebooks/data_table.ipynb>data table notebook</a>'\n",
              "            + ' to learn more about interactive tables.';\n",
              "          element.innerHTML = '';\n",
              "          dataTable['output_type'] = 'display_data';\n",
              "          await google.colab.output.renderOutput(dataTable, element);\n",
              "          const docLink = document.createElement('div');\n",
              "          docLink.innerHTML = docLinkHtml;\n",
              "          element.appendChild(docLink);\n",
              "        }\n",
              "      </script>\n",
              "    </div>\n",
              "  </div>\n",
              "  "
            ]
          },
          "metadata": {},
          "execution_count": 53
        }
      ]
    },
    {
      "cell_type": "code",
      "source": [
        "def predict(data_loader, model, device):\n",
        "    model.eval()\n",
        "    classes  = (\"benign\", \"malignant\")\n",
        "    final_preds = []\n",
        "    labels = []\n",
        "    correct_pred = {classname: 0 for classname in classes}\n",
        "    total_pred = {classname: 0 for classname in classes}\n",
        "    \n",
        "    with torch.no_grad():\n",
        "        tk0 = tqdm(data_loader, total=len(data_loader))\n",
        "        \n",
        "        for bi, d in enumerate(tk0):\n",
        "            images = d['image']\n",
        "            \n",
        "            images = images.to(device, dtype=torch.float)\n",
        "            targets = d['targets'].to(device, dtype=torch.long)\n",
        "\n",
        "            outputs = model(images)\n",
        "            # targets=targets.view(-1, 1).type_as(outputs)\n",
        "            y_probs = outputs.squeeze(-1).cpu().detach().numpy()\n",
        "            # _, predictions = torch.max(outputs, 1)\n",
        "            predictions = y_probs > 0.5\n",
        "            predictions = predictions.astype(int)\n",
        "            targets = targets.data.cpu().numpy()\n",
        "            for label, prediction in zip(targets, predictions):\n",
        "                if label == prediction:\n",
        "                    correct_pred[classes[label]] += 1\n",
        "                total_pred[classes[label]] += 1          \n",
        "            final_preds.extend(y_probs.tolist())\n",
        "            labels.extend(targets.tolist())\n",
        "    return correct_pred, total_pred, labels, final_preds\n",
        "\n",
        "test_df = test.reset_index(drop=True)\n",
        "test_dataset = Lesion_Dataset(test_df,True,test_transforms)\n",
        "\n",
        "test_loader = torch.utils.data.DataLoader(\n",
        "    test_dataset, \n",
        "    batch_size=VALID_BATCH_SIZE, \n",
        "    shuffle=False\n",
        ")"
      ],
      "metadata": {
        "id": "ORkqlGYplk6D"
      },
      "execution_count": 54,
      "outputs": []
    },
    {
      "cell_type": "code",
      "source": [
        "model = torch.load('efficientnet_model_1.pth')"
      ],
      "metadata": {
        "id": "N1b0GbxAmIM3"
      },
      "execution_count": 55,
      "outputs": []
    },
    {
      "cell_type": "code",
      "execution_count": 56,
      "metadata": {
        "id": "7Hib0R7zlhGi",
        "colab": {
          "base_uri": "https://localhost:8080/",
          "height": 49,
          "referenced_widgets": [
            "3eea8ee49ccb46b092286ffebe39c9b1",
            "8a667ca15bdf48278adf6f7a3ddf228e",
            "a60510e5c6c64d438a1c9048eb505b8f",
            "773b54835a9a4b6e9222980c4da6aedf",
            "d3fb0914bbd34fd3ae58b042c2f58587",
            "9df4abf62a7d403cb436bafd73eeb11b",
            "74b64283b2a940eca9261ca200dc790b",
            "ae76c58b732e4638a5bbc0f8d6aa6135",
            "9e878b90dd0b47009d8749af5d6b951e",
            "a3eeff0546524b36a4081dc8c8080228",
            "b0ad87c4820c49fb8589524c13b2203f"
          ]
        },
        "outputId": "08341266-2873-48bd-8710-41095ac0aacb"
      },
      "outputs": [
        {
          "output_type": "display_data",
          "data": {
            "text/plain": [
              "  0%|          | 0/72 [00:00<?, ?it/s]"
            ],
            "application/vnd.jupyter.widget-view+json": {
              "version_major": 2,
              "version_minor": 0,
              "model_id": "3eea8ee49ccb46b092286ffebe39c9b1"
            }
          },
          "metadata": {}
        }
      ],
      "source": [
        "test_correct_pred, test_total_pred, test_y_true, test_y_preds = predict(test_loader, model, device)"
      ]
    },
    {
      "cell_type": "code",
      "source": [
        "test_correct_pred"
      ],
      "metadata": {
        "id": "b2fUj6SAuqQB",
        "colab": {
          "base_uri": "https://localhost:8080/"
        },
        "outputId": "24f479f3-bf99-47e5-ae78-9164d22a29b9"
      },
      "execution_count": 57,
      "outputs": [
        {
          "output_type": "execute_result",
          "data": {
            "text/plain": [
              "{'benign': 1530, 'malignant': 520}"
            ]
          },
          "metadata": {},
          "execution_count": 57
        }
      ]
    },
    {
      "cell_type": "code",
      "source": [
        "test_total_pred"
      ],
      "metadata": {
        "id": "-TS_J3150RH2",
        "colab": {
          "base_uri": "https://localhost:8080/"
        },
        "outputId": "ffe3a401-fce9-4eb2-e617-8cfbe0af2fcb"
      },
      "execution_count": 58,
      "outputs": [
        {
          "output_type": "execute_result",
          "data": {
            "text/plain": [
              "{'benign': 1672, 'malignant': 627}"
            ]
          },
          "metadata": {},
          "execution_count": 58
        }
      ]
    },
    {
      "cell_type": "code",
      "source": [
        "print(np.array([test_y_true, test_y_preds]))"
      ],
      "metadata": {
        "id": "iGVnGXyaeDl9",
        "colab": {
          "base_uri": "https://localhost:8080/"
        },
        "outputId": "4dbd91f3-39eb-453c-99d9-74e348d13073"
      },
      "execution_count": 59,
      "outputs": [
        {
          "output_type": "stream",
          "name": "stdout",
          "text": [
            "[[0.00000000e+00 0.00000000e+00 1.00000000e+00 ... 0.00000000e+00\n",
            "  0.00000000e+00 0.00000000e+00]\n",
            " [4.95561659e-01 5.81714790e-04 9.80007231e-01 ... 8.17304924e-02\n",
            "  2.63488609e-02 2.42525145e-01]]\n"
          ]
        }
      ]
    },
    {
      "cell_type": "code",
      "source": [
        "test_preds = np.array(test_y_preds) > 0.5\n",
        "test_preds=test_preds.tolist()"
      ],
      "metadata": {
        "id": "XynkGovJFA-d"
      },
      "execution_count": 60,
      "outputs": []
    },
    {
      "cell_type": "markdown",
      "metadata": {
        "id": "NRZwRV-ulhG2"
      },
      "source": [
        "## Evaluating the model performance\n"
      ]
    },
    {
      "cell_type": "code",
      "execution_count": 61,
      "metadata": {
        "id": "1BABPAI8lhG4"
      },
      "outputs": [],
      "source": [
        "classes  = (\"benign\", \"malignant\")"
      ]
    },
    {
      "cell_type": "code",
      "execution_count": 62,
      "metadata": {
        "id": "CzV-S_fNlhG_",
        "colab": {
          "base_uri": "https://localhost:8080/"
        },
        "outputId": "4bf13676-60b8-4d5c-d53b-a19d069e9d3c"
      },
      "outputs": [
        {
          "output_type": "stream",
          "name": "stdout",
          "text": [
            "benign 1530\n",
            "Accuracy for class: benign is 91.5 %\n",
            "malignant 520\n",
            "Accuracy for class: malignant is 82.9 %\n"
          ]
        }
      ],
      "source": [
        "#print accuracy for each class\n",
        "for classname, correct_count in test_correct_pred.items():\n",
        "    print(classname,correct_count)\n",
        "    accuracy = 0 if correct_count == 0 else 100 * float(correct_count) / test_total_pred[classname]\n",
        "    print(f'Accuracy for class: {classname:5s} is {accuracy:.1f} %')"
      ]
    },
    {
      "cell_type": "markdown",
      "source": [
        "## Confusion matrix"
      ],
      "metadata": {
        "id": "lDH9wdWVDarf"
      }
    },
    {
      "cell_type": "code",
      "source": [
        "from sklearn.metrics import accuracy_score\n",
        "from sklearn.metrics import precision_score\n",
        "from sklearn.metrics import recall_score\n",
        "from sklearn.metrics import f1_score\n",
        "from sklearn.metrics import cohen_kappa_score\n",
        "from sklearn.metrics import confusion_matrix\n",
        "cf_matrix = confusion_matrix(test_y_true,test_preds)\n",
        "print(cf_matrix)"
      ],
      "metadata": {
        "id": "lgMfye804A3y",
        "colab": {
          "base_uri": "https://localhost:8080/"
        },
        "outputId": "4acd1df8-a97d-47cc-ee64-5cf62732c63f"
      },
      "execution_count": 63,
      "outputs": [
        {
          "output_type": "stream",
          "name": "stdout",
          "text": [
            "[[1530  142]\n",
            " [ 107  520]]\n"
          ]
        }
      ]
    },
    {
      "cell_type": "code",
      "source": [
        "np.sum(cf_matrix,axis=0)"
      ],
      "metadata": {
        "id": "-TcRNkhj4A3y",
        "colab": {
          "base_uri": "https://localhost:8080/"
        },
        "outputId": "0a5a8869-41a6-4330-a732-55f1fde5ef47"
      },
      "execution_count": 64,
      "outputs": [
        {
          "output_type": "execute_result",
          "data": {
            "text/plain": [
              "array([1637,  662])"
            ]
          },
          "metadata": {},
          "execution_count": 64
        }
      ]
    },
    {
      "cell_type": "code",
      "source": [
        "df_cm = pd.DataFrame(cf_matrix, index = [i for i in classes],\n",
        "                     columns = [i for i in classes])\n",
        "                     \n",
        "plt.figure(figsize = (12,7))\n",
        "sns.heatmap(df_cm, annot=True, fmt='d')\n",
        "plt.show()"
      ],
      "metadata": {
        "id": "a60oPq4Z4A3z",
        "colab": {
          "base_uri": "https://localhost:8080/",
          "height": 428
        },
        "outputId": "4368fdf6-3716-4fc0-86fc-eaec256e8686"
      },
      "execution_count": 65,
      "outputs": [
        {
          "output_type": "display_data",
          "data": {
            "text/plain": [
              "<Figure size 864x504 with 2 Axes>"
            ],
            "image/png": "[encoded data removed]"
          },
          "metadata": {
            "image/png": {
              "width": 651,
              "height": 411
            },
            "needs_background": "light"
          }
        }
      ]
    },
    {
      "cell_type": "markdown",
      "source": [
        "## Evaluation metrics\n",
        "1. recall\n",
        "2. precision\n",
        "3. PR Curve\n",
        "4. F1 score\n",
        "6. Accuracy"
      ],
      "metadata": {
        "id": "ieuQGOuYDarg"
      }
    },
    {
      "cell_type": "code",
      "source": [
        "# Calculate specificity tn / (tn+fp)\n",
        "def calculate_specificity(conf_matrix):\n",
        "   return cf_matrix[0,0]/np.sum(cf_matrix,axis=0)[0]\n"
      ],
      "metadata": {
        "id": "bF5B6zjrDarg"
      },
      "execution_count": 66,
      "outputs": []
    },
    {
      "cell_type": "code",
      "source": [
        "# accuracy: (tp + tn) / (p + n)\n",
        "accuracy = accuracy_score(test_y_true, test_preds)\n",
        "print('Accuracy: %f' % accuracy)\n",
        "# precision tp / (tp + fp)\n",
        "precision = precision_score(test_y_true, test_preds)\n",
        "print('Precision: %f' % precision)\n",
        "# recall or sensitivity: tp / (tp + fn)\n",
        "recall = recall_score(test_y_true, test_preds)\n",
        "print('recall or sensitivity: %f' % recall)\n",
        "# specificity\n",
        "specificity = calculate_specificity(cf_matrix)\n",
        "print('specificity: %f' % specificity)\n",
        "# f1: 2 tp / (2 tp + fp + fn)\n",
        "f1 = f1_score(test_y_true, test_preds)\n",
        "print('F1 score: %f' % f1)"
      ],
      "metadata": {
        "id": "DOftfHwTDarg",
        "colab": {
          "base_uri": "https://localhost:8080/"
        },
        "outputId": "d610deee-09a4-4548-93de-049856648d66"
      },
      "execution_count": 67,
      "outputs": [
        {
          "output_type": "stream",
          "name": "stdout",
          "text": [
            "Accuracy: 0.891692\n",
            "Precision: 0.785498\n",
            "recall or sensitivity: 0.829346\n",
            "specificity: 0.934637\n",
            "F1 score: 0.806827\n"
          ]
        }
      ]
    },
    {
      "cell_type": "code",
      "source": [
        "# y_2_prob_2=np.array(y_2_prob)\n",
        "# y_2_prob_2.shape"
      ],
      "metadata": {
        "id": "jiC_LJv_Darj"
      },
      "execution_count": 68,
      "outputs": []
    },
    {
      "cell_type": "code",
      "source": [
        "# PR curve\n",
        "from sklearn.metrics import precision_recall_curve, auc\n",
        "precision, recall, thresholds = precision_recall_curve(test_y_true, test_y_preds)"
      ],
      "metadata": {
        "id": "HniXuOGWDarj"
      },
      "execution_count": 69,
      "outputs": []
    },
    {
      "cell_type": "code",
      "source": [
        "# calculate scores\n",
        "lr_auc = auc(recall, precision)\n",
        "# plot the precision-recall curves\n",
        "plt.plot(recall, precision, marker='.', label='Model Aug(auc: %.3f)' %lr_auc)\n",
        "# axis labels\n",
        "plt.xlabel('Recall')\n",
        "plt.ylabel('Precision')\n",
        "# show the legend\n",
        "plt.legend()\n",
        "# show the plot\n",
        "plt.show()"
      ],
      "metadata": {
        "id": "kRIkJynxDark",
        "colab": {
          "base_uri": "https://localhost:8080/",
          "height": 278
        },
        "outputId": "ad222ffb-e6b9-4d77-ed7b-75c602bd24f4"
      },
      "execution_count": 70,
      "outputs": [
        {
          "output_type": "display_data",
          "data": {
            "text/plain": [
              "<Figure size 432x288 with 1 Axes>"
            ],
            "image/png": "[encoded data removed]"
          },
          "metadata": {
            "image/png": {
              "width": 385,
              "height": 261
            },
            "needs_background": "light"
          }
        }
      ]
    }
  ],
  "metadata": {
    "accelerator": "GPU",
    "colab": {
      "collapsed_sections": [],
      "machine_shape": "hm",
      "provenance": []
    },
    "gpuClass": "standard",
    "kernelspec": {
      "display_name": "Python 3",
      "language": "python",
      "name": "python3"
    },
    "language_info": {
      "codemirror_mode": {
        "name": "ipython",
        "version": 3
      },
      "file_extension": ".py",
      "mimetype": "text/x-python",
      "name": "python",
      "nbconvert_exporter": "python",
      "pygments_lexer": "ipython3",
      "version": "3.7.12"
    },
    "widgets": {
      "application/vnd.jupyter.widget-state+json": {
        "3eea8ee49ccb46b092286ffebe39c9b1": {
          "model_module": "@jupyter-widgets/controls",
          "model_name": "HBoxModel",
          "model_module_version": "1.5.0",
          "state": {
            "_dom_classes": [],
            "_model_module": "@jupyter-widgets/controls",
            "_model_module_version": "1.5.0",
            "_model_name": "HBoxModel",
            "_view_count": null,
            "_view_module": "@jupyter-widgets/controls",
            "_view_module_version": "1.5.0",
            "_view_name": "HBoxView",
            "box_style": "",
            "children": [
              "IPY_MODEL_8a667ca15bdf48278adf6f7a3ddf228e",
              "IPY_MODEL_a60510e5c6c64d438a1c9048eb505b8f",
              "IPY_MODEL_773b54835a9a4b6e9222980c4da6aedf"
            ],
            "layout": "IPY_MODEL_d3fb0914bbd34fd3ae58b042c2f58587"
          }
        },
        "8a667ca15bdf48278adf6f7a3ddf228e": {
          "model_module": "@jupyter-widgets/controls",
          "model_name": "HTMLModel",
          "model_module_version": "1.5.0",
          "state": {
            "_dom_classes": [],
            "_model_module": "@jupyter-widgets/controls",
            "_model_module_version": "1.5.0",
            "_model_name": "HTMLModel",
            "_view_count": null,
            "_view_module": "@jupyter-widgets/controls",
            "_view_module_version": "1.5.0",
            "_view_name": "HTMLView",
            "description": "",
            "description_tooltip": null,
            "layout": "IPY_MODEL_9df4abf62a7d403cb436bafd73eeb11b",
            "placeholder": "​",
            "style": "IPY_MODEL_74b64283b2a940eca9261ca200dc790b",
            "value": "100%"
          }
        },
        "a60510e5c6c64d438a1c9048eb505b8f": {
          "model_module": "@jupyter-widgets/controls",
          "model_name": "FloatProgressModel",
          "model_module_version": "1.5.0",
          "state": {
            "_dom_classes": [],
            "_model_module": "@jupyter-widgets/controls",
            "_model_module_version": "1.5.0",
            "_model_name": "FloatProgressModel",
            "_view_count": null,
            "_view_module": "@jupyter-widgets/controls",
            "_view_module_version": "1.5.0",
            "_view_name": "ProgressView",
            "bar_style": "success",
            "description": "",
            "description_tooltip": null,
            "layout": "IPY_MODEL_ae76c58b732e4638a5bbc0f8d6aa6135",
            "max": 72,
            "min": 0,
            "orientation": "horizontal",
            "style": "IPY_MODEL_9e878b90dd0b47009d8749af5d6b951e",
            "value": 72
          }
        },
        "773b54835a9a4b6e9222980c4da6aedf": {
          "model_module": "@jupyter-widgets/controls",
          "model_name": "HTMLModel",
          "model_module_version": "1.5.0",
          "state": {
            "_dom_classes": [],
            "_model_module": "@jupyter-widgets/controls",
            "_model_module_version": "1.5.0",
            "_model_name": "HTMLModel",
            "_view_count": null,
            "_view_module": "@jupyter-widgets/controls",
            "_view_module_version": "1.5.0",
            "_view_name": "HTMLView",
            "description": "",
            "description_tooltip": null,
            "layout": "IPY_MODEL_a3eeff0546524b36a4081dc8c8080228",
            "placeholder": "​",
            "style": "IPY_MODEL_b0ad87c4820c49fb8589524c13b2203f",
            "value": " 72/72 [10:51&lt;00:00,  7.60s/it]"
          }
        },
        "d3fb0914bbd34fd3ae58b042c2f58587": {
          "model_module": "@jupyter-widgets/base",
          "model_name": "LayoutModel",
          "model_module_version": "1.2.0",
          "state": {
            "_model_module": "@jupyter-widgets/base",
            "_model_module_version": "1.2.0",
            "_model_name": "LayoutModel",
            "_view_count": null,
            "_view_module": "@jupyter-widgets/base",
            "_view_module_version": "1.2.0",
            "_view_name": "LayoutView",
            "align_content": null,
            "align_items": null,
            "align_self": null,
            "border": null,
            "bottom": null,
            "display": null,
            "flex": null,
            "flex_flow": null,
            "grid_area": null,
            "grid_auto_columns": null,
            "grid_auto_flow": null,
            "grid_auto_rows": null,
            "grid_column": null,
            "grid_gap": null,
            "grid_row": null,
            "grid_template_areas": null,
            "grid_template_columns": null,
            "grid_template_rows": null,
            "height": null,
            "justify_content": null,
            "justify_items": null,
            "left": null,
            "margin": null,
            "max_height": null,
            "max_width": null,
            "min_height": null,
            "min_width": null,
            "object_fit": null,
            "object_position": null,
            "order": null,
            "overflow": null,
            "overflow_x": null,
            "overflow_y": null,
            "padding": null,
            "right": null,
            "top": null,
            "visibility": null,
            "width": null
          }
        },
        "9df4abf62a7d403cb436bafd73eeb11b": {
          "model_module": "@jupyter-widgets/base",
          "model_name": "LayoutModel",
          "model_module_version": "1.2.0",
          "state": {
            "_model_module": "@jupyter-widgets/base",
            "_model_module_version": "1.2.0",
            "_model_name": "LayoutModel",
            "_view_count": null,
            "_view_module": "@jupyter-widgets/base",
            "_view_module_version": "1.2.0",
            "_view_name": "LayoutView",
            "align_content": null,
            "align_items": null,
            "align_self": null,
            "border": null,
            "bottom": null,
            "display": null,
            "flex": null,
            "flex_flow": null,
            "grid_area": null,
            "grid_auto_columns": null,
            "grid_auto_flow": null,
            "grid_auto_rows": null,
            "grid_column": null,
            "grid_gap": null,
            "grid_row": null,
            "grid_template_areas": null,
            "grid_template_columns": null,
            "grid_template_rows": null,
            "height": null,
            "justify_content": null,
            "justify_items": null,
            "left": null,
            "margin": null,
            "max_height": null,
            "max_width": null,
            "min_height": null,
            "min_width": null,
            "object_fit": null,
            "object_position": null,
            "order": null,
            "overflow": null,
            "overflow_x": null,
            "overflow_y": null,
            "padding": null,
            "right": null,
            "top": null,
            "visibility": null,
            "width": null
          }
        },
        "74b64283b2a940eca9261ca200dc790b": {
          "model_module": "@jupyter-widgets/controls",
          "model_name": "DescriptionStyleModel",
          "model_module_version": "1.5.0",
          "state": {
            "_model_module": "@jupyter-widgets/controls",
            "_model_module_version": "1.5.0",
            "_model_name": "DescriptionStyleModel",
            "_view_count": null,
            "_view_module": "@jupyter-widgets/base",
            "_view_module_version": "1.2.0",
            "_view_name": "StyleView",
            "description_width": ""
          }
        },
        "ae76c58b732e4638a5bbc0f8d6aa6135": {
          "model_module": "@jupyter-widgets/base",
          "model_name": "LayoutModel",
          "model_module_version": "1.2.0",
          "state": {
            "_model_module": "@jupyter-widgets/base",
            "_model_module_version": "1.2.0",
            "_model_name": "LayoutModel",
            "_view_count": null,
            "_view_module": "@jupyter-widgets/base",
            "_view_module_version": "1.2.0",
            "_view_name": "LayoutView",
            "align_content": null,
            "align_items": null,
            "align_self": null,
            "border": null,
            "bottom": null,
            "display": null,
            "flex": null,
            "flex_flow": null,
            "grid_area": null,
            "grid_auto_columns": null,
            "grid_auto_flow": null,
            "grid_auto_rows": null,
            "grid_column": null,
            "grid_gap": null,
            "grid_row": null,
            "grid_template_areas": null,
            "grid_template_columns": null,
            "grid_template_rows": null,
            "height": null,
            "justify_content": null,
            "justify_items": null,
            "left": null,
            "margin": null,
            "max_height": null,
            "max_width": null,
            "min_height": null,
            "min_width": null,
            "object_fit": null,
            "object_position": null,
            "order": null,
            "overflow": null,
            "overflow_x": null,
            "overflow_y": null,
            "padding": null,
            "right": null,
            "top": null,
            "visibility": null,
            "width": null
          }
        },
        "9e878b90dd0b47009d8749af5d6b951e": {
          "model_module": "@jupyter-widgets/controls",
          "model_name": "ProgressStyleModel",
          "model_module_version": "1.5.0",
          "state": {
            "_model_module": "@jupyter-widgets/controls",
            "_model_module_version": "1.5.0",
            "_model_name": "ProgressStyleModel",
            "_view_count": null,
            "_view_module": "@jupyter-widgets/base",
            "_view_module_version": "1.2.0",
            "_view_name": "StyleView",
            "bar_color": null,
            "description_width": ""
          }
        },
        "a3eeff0546524b36a4081dc8c8080228": {
          "model_module": "@jupyter-widgets/base",
          "model_name": "LayoutModel",
          "model_module_version": "1.2.0",
          "state": {
            "_model_module": "@jupyter-widgets/base",
            "_model_module_version": "1.2.0",
            "_model_name": "LayoutModel",
            "_view_count": null,
            "_view_module": "@jupyter-widgets/base",
            "_view_module_version": "1.2.0",
            "_view_name": "LayoutView",
            "align_content": null,
            "align_items": null,
            "align_self": null,
            "border": null,
            "bottom": null,
            "display": null,
            "flex": null,
            "flex_flow": null,
            "grid_area": null,
            "grid_auto_columns": null,
            "grid_auto_flow": null,
            "grid_auto_rows": null,
            "grid_column": null,
            "grid_gap": null,
            "grid_row": null,
            "grid_template_areas": null,
            "grid_template_columns": null,
            "grid_template_rows": null,
            "height": null,
            "justify_content": null,
            "justify_items": null,
            "left": null,
            "margin": null,
            "max_height": null,
            "max_width": null,
            "min_height": null,
            "min_width": null,
            "object_fit": null,
            "object_position": null,
            "order": null,
            "overflow": null,
            "overflow_x": null,
            "overflow_y": null,
            "padding": null,
            "right": null,
            "top": null,
            "visibility": null,
            "width": null
          }
        },
        "b0ad87c4820c49fb8589524c13b2203f": {
          "model_module": "@jupyter-widgets/controls",
          "model_name": "DescriptionStyleModel",
          "model_module_version": "1.5.0",
          "state": {
            "_model_module": "@jupyter-widgets/controls",
            "_model_module_version": "1.5.0",
            "_model_name": "DescriptionStyleModel",
            "_view_count": null,
            "_view_module": "@jupyter-widgets/base",
            "_view_module_version": "1.2.0",
            "_view_name": "StyleView",
            "description_width": ""
          }
        }
      }
    }
  },
  "nbformat": 4,
  "nbformat_minor": 0
}