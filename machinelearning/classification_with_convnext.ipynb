{
  "cells": [
    {
      "cell_type": "markdown",
      "metadata": {
        "id": "XAXfx3ahlhFe"
      },
      "source": [
        "## DERMOSCOPIC IMAGE CLASSIFICATION WITH CONVNEXT\n"
      ]
    },
    {
      "cell_type": "code",
      "execution_count": null,
      "metadata": {
        "id": "QIpurI29ocsw",
        "colab": {
          "base_uri": "https://localhost:8080/"
        },
        "outputId": "fb4428c7-dca1-42eb-9189-5447600867d1"
      },
      "outputs": [
        {
          "output_type": "stream",
          "name": "stdout",
          "text": [
            "Mounted at /content/drive\n"
          ]
        }
      ],
      "source": [
        "from google.colab import drive\n",
        "drive.mount('/content/drive')"
      ]
    },
    {
      "cell_type": "code",
      "execution_count": null,
      "metadata": {
        "id": "EtojKiX3Vr8l",
        "colab": {
          "base_uri": "https://localhost:8080/"
        },
        "outputId": "dc883ba0-4aaf-4eb4-96cf-543b1ad270c3"
      },
      "outputs": [
        {
          "output_type": "stream",
          "name": "stdout",
          "text": [
            "Your runtime has 27.3 gigabytes of available RAM\n",
            "\n",
            "You are using a high-RAM runtime!\n"
          ]
        }
      ],
      "source": [
        "from psutil import virtual_memory\n",
        "ram_gb = virtual_memory().total / 1e9\n",
        "print('Your runtime has {:.1f} gigabytes of available RAM\\n'.format(ram_gb))\n",
        "\n",
        "if ram_gb < 20:\n",
        "  print('Not using a high-RAM runtime')\n",
        "else:\n",
        "  print('You are using a high-RAM runtime!')"
      ]
    },
    {
      "cell_type": "code",
      "execution_count": null,
      "metadata": {
        "id": "QQot-E3cVytu",
        "colab": {
          "base_uri": "https://localhost:8080/"
        },
        "outputId": "f5c9cc8c-660e-477d-8324-e1584b6a2b5a"
      },
      "outputs": [
        {
          "output_type": "stream",
          "name": "stdout",
          "text": [
            "Tue Aug 30 13:03:30 2022       \n",
            "+-----------------------------------------------------------------------------+\n",
            "| NVIDIA-SMI 460.32.03    Driver Version: 460.32.03    CUDA Version: 11.2     |\n",
            "|-------------------------------+----------------------+----------------------+\n",
            "| GPU  Name        Persistence-M| Bus-Id        Disp.A | Volatile Uncorr. ECC |\n",
            "| Fan  Temp  Perf  Pwr:Usage/Cap|         Memory-Usage | GPU-Util  Compute M. |\n",
            "|                               |                      |               MIG M. |\n",
            "|===============================+======================+======================|\n",
            "|   0  Tesla T4            Off  | 00000000:00:04.0 Off |                    0 |\n",
            "| N/A   39C    P8     9W /  70W |      0MiB / 15109MiB |      0%      Default |\n",
            "|                               |                      |                  N/A |\n",
            "+-------------------------------+----------------------+----------------------+\n",
            "                                                                               \n",
            "+-----------------------------------------------------------------------------+\n",
            "| Processes:                                                                  |\n",
            "|  GPU   GI   CI        PID   Type   Process name                  GPU Memory |\n",
            "|        ID   ID                                                   Usage      |\n",
            "|=============================================================================|\n",
            "|  No running processes found                                                 |\n",
            "+-----------------------------------------------------------------------------+\n"
          ]
        }
      ],
      "source": [
        "gpu_info = !nvidia-smi\n",
        "gpu_info = '\\n'.join(gpu_info)\n",
        "if gpu_info.find('failed') >= 0:\n",
        "  print('Not connected to a GPU')\n",
        "else:\n",
        "  print(gpu_info)"
      ]
    },
    {
      "cell_type": "markdown",
      "metadata": {
        "id": "-5-MID8alhFn"
      },
      "source": [
        "### Import needed library"
      ]
    },
    {
      "cell_type": "code",
      "source": [
        "!pip install -q efficientnet_pytorch"
      ],
      "metadata": {
        "id": "cP6cOh_Rynhv",
        "colab": {
          "base_uri": "https://localhost:8080/"
        },
        "outputId": "ba1e3632-2042-4566-af9b-9104dc7c18d1"
      },
      "execution_count": null,
      "outputs": [
        {
          "output_type": "stream",
          "name": "stdout",
          "text": [
            "  Building wheel for efficientnet-pytorch (setup.py) ... \u001b[?25l\u001b[?25hdone\n"
          ]
        }
      ]
    },
    {
      "cell_type": "code",
      "execution_count": null,
      "metadata": {
        "id": "H9Rhwe0JlhFq"
      },
      "outputs": [],
      "source": [
        "import numpy as np\n",
        "import pandas as pd\n",
        "import os\n",
        "import cv2\n",
        "import random\n",
        "import time\n",
        "import re, gc\n",
        "%matplotlib inline\n",
        "%config InlineBackend.figure_format = 'retina'\n",
        "import matplotlib.pyplot as plt\n",
        "import seaborn as sns\n",
        "from tabulate import tabulate\n",
        "\n",
        "from tqdm.notebook import tqdm\n",
        "from sklearn.preprocessing import LabelEncoder\n",
        "from PIL import Image, ImageEnhance, ImageFilter\n",
        "from sklearn.model_selection import train_test_split\n",
        "from sklearn.model_selection import KFold\n",
        "from sklearn.metrics import roc_auc_score\n",
        "from collections import OrderedDict\n",
        "import torch\n",
        "\n",
        "# Neural networks can be constructed using the torch.nn package.\n",
        "import torch.nn as nn\n",
        "import torch.nn.functional as F\n",
        "import torch.optim as optim\n",
        "from torch.optim import Adam, lr_scheduler\n",
        "from torch.utils.data.sampler import SubsetRandomSampler,  WeightedRandomSampler\n",
        "from torch.utils.data import Dataset\n",
        "import torchvision\n",
        "from torchvision import datasets, transforms, models\n",
        "from efficientnet_pytorch import EfficientNet\n",
        "\n",
        "import albumentations"
      ]
    },
    {
      "cell_type": "code",
      "execution_count": null,
      "metadata": {
        "id": "cS8H1GrolhGm",
        "colab": {
          "base_uri": "https://localhost:8080/"
        },
        "outputId": "74e524e7-705d-447c-9e46-606e789c6b90"
      },
      "outputs": [
        {
          "output_type": "stream",
          "name": "stdout",
          "text": [
            "Looking in indexes: https://pypi.org/simple, https://us-python.pkg.dev/colab-wheels/public/simple/\n",
            "Collecting timm\n",
            "  Downloading timm-0.6.7-py3-none-any.whl (509 kB)\n",
            "\u001b[K     |████████████████████████████████| 509 kB 5.0 MB/s \n",
            "\u001b[?25hRequirement already satisfied: torch>=1.4 in /usr/local/lib/python3.7/dist-packages (from timm) (1.12.1+cu113)\n",
            "Requirement already satisfied: torchvision in /usr/local/lib/python3.7/dist-packages (from timm) (0.13.1+cu113)\n",
            "Requirement already satisfied: typing-extensions in /usr/local/lib/python3.7/dist-packages (from torch>=1.4->timm) (4.1.1)\n",
            "Requirement already satisfied: requests in /usr/local/lib/python3.7/dist-packages (from torchvision->timm) (2.23.0)\n",
            "Requirement already satisfied: numpy in /usr/local/lib/python3.7/dist-packages (from torchvision->timm) (1.21.6)\n",
            "Requirement already satisfied: pillow!=8.3.*,>=5.3.0 in /usr/local/lib/python3.7/dist-packages (from torchvision->timm) (7.1.2)\n",
            "Requirement already satisfied: urllib3!=1.25.0,!=1.25.1,<1.26,>=1.21.1 in /usr/local/lib/python3.7/dist-packages (from requests->torchvision->timm) (1.24.3)\n",
            "Requirement already satisfied: idna<3,>=2.5 in /usr/local/lib/python3.7/dist-packages (from requests->torchvision->timm) (2.10)\n",
            "Requirement already satisfied: chardet<4,>=3.0.2 in /usr/local/lib/python3.7/dist-packages (from requests->torchvision->timm) (3.0.4)\n",
            "Requirement already satisfied: certifi>=2017.4.17 in /usr/local/lib/python3.7/dist-packages (from requests->torchvision->timm) (2022.6.15)\n",
            "Installing collected packages: timm\n",
            "Successfully installed timm-0.6.7\n"
          ]
        }
      ],
      "source": [
        "!pip install timm"
      ]
    },
    {
      "cell_type": "code",
      "execution_count": null,
      "metadata": {
        "id": "iMdB6n_SlhGn"
      },
      "outputs": [],
      "source": [
        "import sys\n",
        "import timm\n",
        "sys.path.append('../input/timm-pytorch-image-models/pytorch-image-models-master')\n",
        "from timm.models.layers import trunc_normal_, DropPath\n",
        "from timm.models.registry import register_model"
      ]
    },
    {
      "cell_type": "code",
      "execution_count": null,
      "metadata": {
        "id": "jF7B8s-ilhFu",
        "colab": {
          "base_uri": "https://localhost:8080/"
        },
        "outputId": "5b7f09bc-45da-46bc-d13b-4351e3017272"
      },
      "outputs": [
        {
          "output_type": "stream",
          "name": "stdout",
          "text": [
            " Device is cuda:0\n"
          ]
        }
      ],
      "source": [
        "device = torch.device(\"cuda:0\" if torch.cuda.is_available() else \"cpu\")\n",
        "print(\" Device is {}\".format(device))"
      ]
    },
    {
      "cell_type": "code",
      "execution_count": null,
      "metadata": {
        "id": "1C2UTJXgoTch",
        "colab": {
          "base_uri": "https://localhost:8080/"
        },
        "outputId": "c4809c0b-8116-4e8b-f50b-bb09577fc4f0"
      },
      "outputs": [
        {
          "output_type": "stream",
          "name": "stdout",
          "text": [
            "/content\n"
          ]
        }
      ],
      "source": [
        "print(os.getcwd())"
      ]
    },
    {
      "cell_type": "code",
      "execution_count": null,
      "metadata": {
        "id": "HrYPQSjun99K",
        "colab": {
          "base_uri": "https://localhost:8080/"
        },
        "outputId": "b458c4b1-e6e0-4c2c-9698-411ff51cfc3d"
      },
      "outputs": [
        {
          "output_type": "stream",
          "name": "stdout",
          "text": [
            "/content/drive/MyDrive/Colab Notebooks\n"
          ]
        }
      ],
      "source": [
        "path = os.path.abspath('/content/drive/MyDrive/Colab Notebooks')\n",
        "os.chdir(path)\n",
        "print(path)"
      ]
    },
    {
      "cell_type": "code",
      "execution_count": null,
      "metadata": {
        "id": "X3shyXCZlhFx"
      },
      "outputs": [],
      "source": [
        "# BASE_PATH = 'jpeg/train'\n",
        "# print(BASE_PATH)"
      ]
    },
    {
      "cell_type": "markdown",
      "source": [
        "### Configuration variables"
      ],
      "metadata": {
        "id": "hMJuGG4K0Y8H"
      }
    },
    {
      "cell_type": "code",
      "source": [
        "WIDTH = 224\n",
        "HEIGHT = 224\n",
        "INPUT_SIZE = 224\n",
        "TRAIN_BATCH_SIZE = 32\n",
        "VALID_BATCH_SIZE = 32\n",
        "EPOCHS = 5\n",
        "LR = 0.000025\n",
        "FOLDS = 10\n",
        "SEED = 12321\n",
        "VERBOSE_STEP = 1\n",
        "BEST_AUC = 0\n",
        "\n",
        "MEAN = (0.485, 0.456, 0.406)\n",
        "STD = (0.229, 0.224, 0.225)\n",
        "MODEL_NAME = \"convnext\"\n",
        "NUM_CLASSES = 2"
      ],
      "metadata": {
        "id": "z2xZCGIJ0elk"
      },
      "execution_count": null,
      "outputs": []
    },
    {
      "cell_type": "markdown",
      "source": [
        "### Helper Functions"
      ],
      "metadata": {
        "id": "GzR5sZzH04hg"
      }
    },
    {
      "cell_type": "code",
      "source": [
        "# Seed everything\n",
        "def seed_everything(seed):\n",
        "    random.seed(seed)\n",
        "    os.environ['PYTHONHASHSEED'] = str(seed)\n",
        "    np.random.seed(seed)\n",
        "    torch.manual_seed(seed)\n",
        "    torch.cuda.manual_seed(seed)\n",
        "    torch.backends.cudnn.deterministic = True\n",
        "    torch.backends.cudnn.benchmark = True\n",
        "\n",
        "seed_everything(SEED)"
      ],
      "metadata": {
        "id": "xttEeSS909og"
      },
      "execution_count": null,
      "outputs": []
    },
    {
      "cell_type": "code",
      "source": [
        "class AverageMeter:\n",
        "    def __init__(self):\n",
        "        self.reset()\n",
        "    \n",
        "    def reset(self):\n",
        "        self.val = 0\n",
        "        self.avg = 0\n",
        "        self.sum = 0\n",
        "        self.count = 0\n",
        "    \n",
        "    def update(self, val, n=1):\n",
        "        self.val = val\n",
        "        self.sum += val * n\n",
        "        self.count += n\n",
        "        self.avg = self.sum / self.count"
      ],
      "metadata": {
        "id": "2ZJHsZ-F1Zd3"
      },
      "execution_count": null,
      "outputs": []
    },
    {
      "cell_type": "code",
      "source": [
        "def get_sample_from_df(sample,n):\n",
        "    for i in list(range(n,0, -1)):\n",
        "        if len(sample)>=i:\n",
        "            return sample.sample(n=i, random_state=SEED).index[:i]   \n",
        "    return [];\n",
        "\n",
        "\n",
        "def sample_by_patient(dataset,num_sample=1):\n",
        "  \"\"\" Get patient id as category.\n",
        "   Prepare two datasets:\n",
        "   for each patient_id\n",
        "       select get records\n",
        "         if malignant\n",
        "           sample num_sample\n",
        "         elif benign\n",
        "           sample num_sample\"\"\"\n",
        "  unique_patient_id = dataset.patient_id.cat.categories\n",
        "  malignant_df = dataset[dataset['target'] == 1]\n",
        "  benign_df = dataset[dataset['target'] == 0]\n",
        "  sample_indices = []\n",
        "  #samples per patient\n",
        "  for  patient_id in unique_patient_id:\n",
        "      patient_sample = malignant_df[malignant_df['patient_id']==patient_id]\n",
        "      if len(patient_sample):\n",
        "          sample_indices.extend(get_sample_from_df(patient_sample,num_sample))\n",
        "      else:\n",
        "          patient_sample = benign_df[benign_df['patient_id']==patient_id]\n",
        "          sample_indices.extend(get_sample_from_df(patient_sample,num_sample))\n",
        "\n",
        "  return dataset.loc[sample_indices]\n",
        "\n",
        "def perform_sampling(dataset,sampling_type=\"\", patient_group_sample=1):\n",
        "  \"\"\"function to perform sampling based on\n",
        "     the sampling type provided.\n",
        "     Return train, test dataset\n",
        "  \"\"\"\n",
        "  train = None\n",
        "  test = None\n",
        "  if sampling_type==\"PATIENT_GROUP\":\n",
        "    sample=sample_by_patient(dataset,patient_group_sample)\n",
        "    train, test = train_test_split(sample, test_size=0.2, shuffle=True, random_state=SEED)\n",
        "  else:\n",
        "    # default train_test split by 8:2\n",
        "    train, test = train_test_split(dataset, test_size=0.2, shuffle=True, random_state=SEED)\n",
        "\n",
        "  return train,test;"
      ],
      "metadata": {
        "id": "P0y_pHJp1nsi"
      },
      "execution_count": null,
      "outputs": []
    },
    {
      "cell_type": "markdown",
      "source": [
        "### Dataset"
      ],
      "metadata": {
        "id": "on_9hSFq29FF"
      }
    },
    {
      "cell_type": "code",
      "execution_count": null,
      "metadata": {
        "id": "Z7-qBQ4flhGg"
      },
      "outputs": [],
      "source": [
        "class Lesion_Dataset(Dataset):\n",
        "    def __init__(self, img_data,img_path=None,resize=True, transform=None):\n",
        "        self.img_path = img_path\n",
        "        self.transform = transform\n",
        "        self.resize = resize\n",
        "        self.img_data = img_data\n",
        "        \n",
        "    def __len__(self):\n",
        "        return len(self.img_data)\n",
        "    \n",
        "    def __getitem__(self, index):\n",
        "        img_name = self.img_data.loc[index, 'images']\n",
        "        image = Image.open(img_name)      \n",
        "        label = torch.tensor(self.img_data.loc[index, 'target'],dtype=torch.long)\n",
        "        if self.resize:\n",
        "            image = image.resize(\n",
        "                (WIDTH, HEIGHT), resample=Image.BILINEAR\n",
        "            )\n",
        "        image = np.array(image)\n",
        "        \n",
        "        if self.transform is not None:\n",
        "            augmented = self.transform(image=image)\n",
        "            image = augmented['image']\n",
        "        \n",
        "        image = np.transpose(image, (2, 0, 1)).astype(np.float32)\n",
        "        \n",
        "        return {\n",
        "            'image': torch.tensor(image, dtype=torch.float),\n",
        "            'targets': label,\n",
        "        }"
      ]
    },
    {
      "cell_type": "markdown",
      "metadata": {
        "id": "wqLYLp_flhFy"
      },
      "source": [
        "### Load the data\n",
        "\n",
        "We load the train.csv file. "
      ]
    },
    {
      "cell_type": "code",
      "execution_count": null,
      "metadata": {
        "id": "GA7kOohUlhFz",
        "colab": {
          "base_uri": "https://localhost:8080/",
          "height": 206
        },
        "outputId": "a4ab35e6-bccc-4d5d-c1b7-e2165b3cb4d5"
      },
      "outputs": [
        {
          "output_type": "execute_result",
          "data": {
            "text/plain": [
              "   index    image_name benign_malignant  target                       images\n",
              "0  23431  ISIC_7122402           benign       0  jpeg/train/ISIC_7122402.jpg\n",
              "1  13596  ISIC_4170698        malignant       1  jpeg/train/ISIC_4170698.jpg\n",
              "2  25592  ISIC_7765038           benign       0  jpeg/train/ISIC_7765038.jpg\n",
              "3  23708  ISIC_7196094           benign       0  jpeg/train/ISIC_7196094.jpg\n",
              "4  31532  ISIC_9528732           benign       0  jpeg/train/ISIC_9528732.jpg"
            ],
            "text/html": [
              "\n",
              "  <div id=\"df-6aeb6321-4a5e-4444-9071-0f7266239d5f\">\n",
              "    <div class=\"colab-df-container\">\n",
              "      <div>\n",
              "<style scoped>\n",
              "    .dataframe tbody tr th:only-of-type {\n",
              "        vertical-align: middle;\n",
              "    }\n",
              "\n",
              "    .dataframe tbody tr th {\n",
              "        vertical-align: top;\n",
              "    }\n",
              "\n",
              "    .dataframe thead th {\n",
              "        text-align: right;\n",
              "    }\n",
              "</style>\n",
              "<table border=\"1\" class=\"dataframe\">\n",
              "  <thead>\n",
              "    <tr style=\"text-align: right;\">\n",
              "      <th></th>\n",
              "      <th>index</th>\n",
              "      <th>image_name</th>\n",
              "      <th>benign_malignant</th>\n",
              "      <th>target</th>\n",
              "      <th>images</th>\n",
              "    </tr>\n",
              "  </thead>\n",
              "  <tbody>\n",
              "    <tr>\n",
              "      <th>0</th>\n",
              "      <td>23431</td>\n",
              "      <td>ISIC_7122402</td>\n",
              "      <td>benign</td>\n",
              "      <td>0</td>\n",
              "      <td>jpeg/train/ISIC_7122402.jpg</td>\n",
              "    </tr>\n",
              "    <tr>\n",
              "      <th>1</th>\n",
              "      <td>13596</td>\n",
              "      <td>ISIC_4170698</td>\n",
              "      <td>malignant</td>\n",
              "      <td>1</td>\n",
              "      <td>jpeg/train/ISIC_4170698.jpg</td>\n",
              "    </tr>\n",
              "    <tr>\n",
              "      <th>2</th>\n",
              "      <td>25592</td>\n",
              "      <td>ISIC_7765038</td>\n",
              "      <td>benign</td>\n",
              "      <td>0</td>\n",
              "      <td>jpeg/train/ISIC_7765038.jpg</td>\n",
              "    </tr>\n",
              "    <tr>\n",
              "      <th>3</th>\n",
              "      <td>23708</td>\n",
              "      <td>ISIC_7196094</td>\n",
              "      <td>benign</td>\n",
              "      <td>0</td>\n",
              "      <td>jpeg/train/ISIC_7196094.jpg</td>\n",
              "    </tr>\n",
              "    <tr>\n",
              "      <th>4</th>\n",
              "      <td>31532</td>\n",
              "      <td>ISIC_9528732</td>\n",
              "      <td>benign</td>\n",
              "      <td>0</td>\n",
              "      <td>jpeg/train/ISIC_9528732.jpg</td>\n",
              "    </tr>\n",
              "  </tbody>\n",
              "</table>\n",
              "</div>\n",
              "      <button class=\"colab-df-convert\" onclick=\"convertToInteractive('df-6aeb6321-4a5e-4444-9071-0f7266239d5f')\"\n",
              "              title=\"Convert this dataframe to an interactive table.\"\n",
              "              style=\"display:none;\">\n",
              "        \n",
              "  <svg xmlns=\"http://www.w3.org/2000/svg\" height=\"24px\"viewBox=\"0 0 24 24\"\n",
              "       width=\"24px\">\n",
              "    <path d=\"M0 0h24v24H0V0z\" fill=\"none\"/>\n",
              "    <path d=\"M18.56 5.44l.94 2.06.94-2.06 2.06-.94-2.06-.94-.94-2.06-.94 2.06-2.06.94zm-11 1L8.5 8.5l.94-2.06 2.06-.94-2.06-.94L8.5 2.5l-.94 2.06-2.06.94zm10 10l.94 2.06.94-2.06 2.06-.94-2.06-.94-.94-2.06-.94 2.06-2.06.94z\"/><path d=\"M17.41 7.96l-1.37-1.37c-.4-.4-.92-.59-1.43-.59-.52 0-1.04.2-1.43.59L10.3 9.45l-7.72 7.72c-.78.78-.78 2.05 0 2.83L4 21.41c.39.39.9.59 1.41.59.51 0 1.02-.2 1.41-.59l7.78-7.78 2.81-2.81c.8-.78.8-2.07 0-2.86zM5.41 20L4 18.59l7.72-7.72 1.47 1.35L5.41 20z\"/>\n",
              "  </svg>\n",
              "      </button>\n",
              "      \n",
              "  <style>\n",
              "    .colab-df-container {\n",
              "      display:flex;\n",
              "      flex-wrap:wrap;\n",
              "      gap: 12px;\n",
              "    }\n",
              "\n",
              "    .colab-df-convert {\n",
              "      background-color: #E8F0FE;\n",
              "      border: none;\n",
              "      border-radius: 50%;\n",
              "      cursor: pointer;\n",
              "      display: none;\n",
              "      fill: #1967D2;\n",
              "      height: 32px;\n",
              "      padding: 0 0 0 0;\n",
              "      width: 32px;\n",
              "    }\n",
              "\n",
              "    .colab-df-convert:hover {\n",
              "      background-color: #E2EBFA;\n",
              "      box-shadow: 0px 1px 2px rgba(60, 64, 67, 0.3), 0px 1px 3px 1px rgba(60, 64, 67, 0.15);\n",
              "      fill: #174EA6;\n",
              "    }\n",
              "\n",
              "    [theme=dark] .colab-df-convert {\n",
              "      background-color: #3B4455;\n",
              "      fill: #D2E3FC;\n",
              "    }\n",
              "\n",
              "    [theme=dark] .colab-df-convert:hover {\n",
              "      background-color: #434B5C;\n",
              "      box-shadow: 0px 1px 3px 1px rgba(0, 0, 0, 0.15);\n",
              "      filter: drop-shadow(0px 1px 2px rgba(0, 0, 0, 0.3));\n",
              "      fill: #FFFFFF;\n",
              "    }\n",
              "  </style>\n",
              "\n",
              "      <script>\n",
              "        const buttonEl =\n",
              "          document.querySelector('#df-6aeb6321-4a5e-4444-9071-0f7266239d5f button.colab-df-convert');\n",
              "        buttonEl.style.display =\n",
              "          google.colab.kernel.accessAllowed ? 'block' : 'none';\n",
              "\n",
              "        async function convertToInteractive(key) {\n",
              "          const element = document.querySelector('#df-6aeb6321-4a5e-4444-9071-0f7266239d5f');\n",
              "          const dataTable =\n",
              "            await google.colab.kernel.invokeFunction('convertToInteractive',\n",
              "                                                     [key], {});\n",
              "          if (!dataTable) return;\n",
              "\n",
              "          const docLinkHtml = 'Like what you see? Visit the ' +\n",
              "            '<a target=\"_blank\" href=https://colab.research.google.com/notebooks/data_table.ipynb>data table notebook</a>'\n",
              "            + ' to learn more about interactive tables.';\n",
              "          element.innerHTML = '';\n",
              "          dataTable['output_type'] = 'display_data';\n",
              "          await google.colab.output.renderOutput(dataTable, element);\n",
              "          const docLink = document.createElement('div');\n",
              "          docLink.innerHTML = docLinkHtml;\n",
              "          element.appendChild(docLink);\n",
              "        }\n",
              "      </script>\n",
              "    </div>\n",
              "  </div>\n",
              "  "
            ]
          },
          "metadata": {},
          "execution_count": 18
        }
      ],
      "source": [
        "df = pd.read_csv(os.path.join(path,\"train_sample.csv\"))\n",
        "df.head()"
      ]
    },
    {
      "cell_type": "markdown",
      "metadata": {
        "id": "wGT3nMA_lhF0"
      },
      "source": [
        "#### Preprocessing"
      ]
    },
    {
      "cell_type": "code",
      "execution_count": null,
      "metadata": {
        "id": "7tDG-LFTlhF2",
        "colab": {
          "base_uri": "https://localhost:8080/"
        },
        "outputId": "bbd3e5a0-5aba-4d2a-935c-fe00e9dec506"
      },
      "outputs": [
        {
          "output_type": "stream",
          "name": "stdout",
          "text": [
            "The number of rows and columne in train.csv: (9188, 5)\n",
            "Index(['index', 'image_name', 'benign_malignant', 'target', 'images'], dtype='object')\n",
            "\n",
            "DATA TYPES\n",
            "\n",
            "index                int64\n",
            "image_name          object\n",
            "benign_malignant    object\n",
            "target               int64\n",
            "images              object\n",
            "dtype: object\n",
            "\n",
            "=================================================\n",
            "\n",
            "\n",
            "COLUMN COUNT\n",
            "\n",
            "index               9188\n",
            "image_name          9188\n",
            "benign_malignant    9188\n",
            "target              9188\n",
            "images              9188\n",
            "dtype: int64\n",
            "\n",
            "NULL COUNT\n",
            "\n",
            "index               0\n",
            "image_name          0\n",
            "benign_malignant    0\n",
            "target              0\n",
            "images              0\n",
            "dtype: int64\n"
          ]
        }
      ],
      "source": [
        "print(\"The number of rows and columne in train.csv: {}\".format(df.shape))\n",
        "print(df.columns)\n",
        "print(\"\\nDATA TYPES\\n\")\n",
        "print(df.dtypes)\n",
        "print(\"\\n=================================================\\n\")\n",
        "print(\"\\nCOLUMN COUNT\\n\")\n",
        "print(df.count())\n",
        "print(\"\\nNULL COUNT\\n\")\n",
        "print(df.isnull().sum())\n",
        "# df.dropna(axis=0, inplace=True)"
      ]
    },
    {
      "cell_type": "code",
      "execution_count": null,
      "metadata": {
        "id": "Fjgnpl3ZlhF3"
      },
      "outputs": [],
      "source": [
        "# Covert columns to categorical type. \n",
        "df = df.astype({'benign_malignant':'category',\n",
        "                            'target':'category'})"
      ]
    },
    {
      "cell_type": "code",
      "execution_count": null,
      "metadata": {
        "id": "5lK0qkRllhF5",
        "colab": {
          "base_uri": "https://localhost:8080/"
        },
        "outputId": "e7ab4aee-b149-4534-8510-5d28a1a6023a"
      },
      "outputs": [
        {
          "output_type": "stream",
          "name": "stdout",
          "text": [
            "The number of rows and columne in train.csv: (9188, 5)\n"
          ]
        }
      ],
      "source": [
        "print(\"The number of rows and columne in train.csv: {}\".format(df.shape))"
      ]
    },
    {
      "cell_type": "markdown",
      "source": [
        "#### Generating folds"
      ],
      "metadata": {
        "id": "qzW2IV6Q6ADT"
      }
    },
    {
      "cell_type": "code",
      "source": [
        "kf = KFold(FOLDS, random_state=SEED, shuffle=True)\n",
        "df = df.sample(frac=1).reset_index(drop=True)\n",
        "\n",
        "for f, (_, val_index) in enumerate(kf.split(df, df)):\n",
        "    df.loc[val_index, 'kfold'] = f\n",
        "    \n",
        "print(df['kfold'].value_counts())"
      ],
      "metadata": {
        "id": "J4bbzSEU6FqR",
        "colab": {
          "base_uri": "https://localhost:8080/"
        },
        "outputId": "4fa4e4c4-6f78-4b37-f7a5-9cc52e0d0b79"
      },
      "execution_count": null,
      "outputs": [
        {
          "output_type": "stream",
          "name": "stdout",
          "text": [
            "5.0    919\n",
            "1.0    919\n",
            "3.0    919\n",
            "7.0    919\n",
            "2.0    919\n",
            "0.0    919\n",
            "4.0    919\n",
            "6.0    919\n",
            "8.0    918\n",
            "9.0    918\n",
            "Name: kfold, dtype: int64\n"
          ]
        }
      ]
    },
    {
      "cell_type": "markdown",
      "source": [
        "#### Deriving wieghts for sampler"
      ],
      "metadata": {
        "id": "kzEvT_fL6z3b"
      }
    },
    {
      "cell_type": "code",
      "source": [
        "def generate_weights(df):\n",
        "    B = 0.5\n",
        "\n",
        "    C = np.array([B, (1 - B)])*2\n",
        "    ones = len(df.query('target == 1'))\n",
        "    zeros = len(df.query('target == 0'))\n",
        "\n",
        "    weightage_fn = {0: C[1]/zeros, 1: C[0]/ones}\n",
        "    return [weightage_fn[target] for target in df.target]"
      ],
      "metadata": {
        "id": "NaKYGrkL6rNs"
      },
      "execution_count": null,
      "outputs": []
    },
    {
      "cell_type": "markdown",
      "metadata": {
        "id": "oqz2nhxclhGd"
      },
      "source": [
        "### Transforms\n"
      ]
    },
    {
      "cell_type": "code",
      "execution_count": null,
      "metadata": {
        "id": "LPCjfl8JFBXH"
      },
      "outputs": [],
      "source": [
        "train_transforms = albumentations.Compose([\n",
        "    albumentations.ShiftScaleRotate(p=0.9),\n",
        "    albumentations.CLAHE(p=0.5),\n",
        "    albumentations.HorizontalFlip(p=0.5),\n",
        "    albumentations.VerticalFlip(p=0.5),\n",
        "    albumentations.RandomBrightnessContrast(p=0.9),\n",
        "    albumentations.Normalize(mean=MEAN, std=STD, always_apply=True)\n",
        "])\n",
        "\n",
        "test_transforms = albumentations.Compose([\n",
        "    albumentations.Normalize(mean=MEAN, std=STD, always_apply=True)\n",
        "])"
      ]
    },
    {
      "cell_type": "markdown",
      "source": [
        "### Model definitions"
      ],
      "metadata": {
        "id": "4OwR8jJ_7Yed"
      }
    },
    {
      "cell_type": "code",
      "execution_count": null,
      "metadata": {
        "id": "O7FW9RYulhGp"
      },
      "outputs": [],
      "source": [
        "class EfficientModel(nn.Module):\n",
        "    def __init__(self):\n",
        "        super(EfficientModel, self).__init__()\n",
        "        \n",
        "        self.encoder = EfficientNet.from_pretrained(\"efficientnet-b1\")\n",
        "        self.dropout = nn.Dropout(0.3)\n",
        "        self.head = nn.Sequential(nn.Linear(1280, 256),\n",
        "                                  nn.ReLU(),\n",
        "                                  nn.Linear(256, 1),\n",
        "                                  nn.Sigmoid())\n",
        "        for param in self.head.parameters():\n",
        "                param.requires_grad = True\n",
        "    \n",
        "    def forward(self, image):\n",
        "        batch_size, _, _, _ = image.shape\n",
        "        \n",
        "        x = self.encoder.extract_features(image)\n",
        "        x = F.adaptive_avg_pool2d(x, 1).reshape(batch_size, -1)\n",
        "        \n",
        "        x = self.dropout(x)\n",
        "        logit = self.head(x)\n",
        "        \n",
        "        return logit\n",
        "\n",
        "\n",
        "class ConvnextModel(nn.Module):\n",
        "    def __init__(self):\n",
        "        super(ConvnextModel, self).__init__()\n",
        "        self.model = timm.create_model('convnext_xlarge_384_in22ft1k', pretrained=True)\n",
        "        self.classifier=nn.Sequential(nn.Linear(1000, 256),nn.ReLU(), nn.Linear(256,1),nn.Sigmoid())\n",
        "        for param in self.model.parameters():\n",
        "            param.requires_grad = False\n",
        "    \n",
        "        # Unfreeze the last stage\n",
        "        for param in self.model.stages[3].parameters():\n",
        "            param.requires_grad = True\n",
        "    \n",
        "    def forward(self, x):\n",
        "        x = self.model.forward_features(x)\n",
        "        x = self.model.head(x)\n",
        "        x = self.classifier(x)\n",
        "        return x\n",
        "\n",
        "# feature_extract is a boolean that defines if we are finetuning or feature extracting. \n",
        "# If feature_extract = False, the model is finetuned and all model parameters are updated. \n",
        "# If feature_extract = True, only the last layer parameters are updated, the others remain fixed.\n",
        "def set_parameter_requires_grad(model, feature_extracting):\n",
        "    if feature_extracting:\n",
        "        for param in model.parameters():\n",
        "            param.requires_grad = False\n",
        "\n",
        "            \n",
        "def initialize_model(model_name, num_classes, feature_extract, use_pretrained=True):\n",
        "    # Initialize these variables which will be set in this if statement. Each of these\n",
        "    #   variables is model specific.\n",
        "    model_ft = None\n",
        "    input_size = 0\n",
        "      \n",
        "    if model_name == \"efficientnet\":\n",
        "        \"\"\" Efficient Net B1 modified \"\"\"\n",
        "        model_ft = EfficientModel()\n",
        "        input_size =224\n",
        "    if model_name == \"resnet\":\n",
        "        \"\"\" Resnet18, resnet34, resnet50, resnet101\n",
        "        \"\"\"\n",
        "        model_ft = models.resnet50(pretrained=use_pretrained)\n",
        "        set_parameter_requires_grad(model_ft, feature_extract)\n",
        "        num_ftrs = model_ft.fc.in_features\n",
        "        model_ft.fc = nn.Sequential(nn.Linear(num_ftrs, 256),\n",
        "                                    nn.ReLU(),\n",
        "                                    nn.Linear(256, 1),\n",
        "                                    nn.Sigmoid())\n",
        "        for param in model_ft.fc.parameters():\n",
        "                param.requires_grad = True\n",
        "    \n",
        "        input_size = 224\n",
        "\n",
        "    elif model_name == \"convnext\":\n",
        "          model_ft = ConvnextModel()\n",
        "          \n",
        "          input_size = 224        \n",
        "    else:\n",
        "        print(\"Invalid model name, exiting...\")\n",
        "        exit()\n",
        "    return model_ft, input_size         "
      ]
    },
    {
      "cell_type": "markdown",
      "source": [
        "### Model Utils\n"
      ],
      "metadata": {
        "id": "oBcIhgRREZjy"
      }
    },
    {
      "cell_type": "code",
      "source": [
        "class FocalLoss(nn.Module):\n",
        "    def __init__(self, alpha=1, gamma=2, logits=False, reduce=True):\n",
        "        super(FocalLoss, self).__init__()\n",
        "        self.alpha = alpha\n",
        "        self.gamma = gamma\n",
        "        self.logits = logits\n",
        "        self.reduce = reduce\n",
        "\n",
        "    def forward(self, inputs, targets):\n",
        "        if self.logits:\n",
        "            BCE_loss = F.binary_cross_entropy_with_logits(inputs, targets, reduce=None)\n",
        "        else:\n",
        "            BCE_loss = F.binary_cross_entropy(inputs, targets, reduce=None)\n",
        "        pt = torch.exp(-BCE_loss)\n",
        "        F_loss = self.alpha * (1-pt)**self.gamma * BCE_loss\n",
        "\n",
        "        if self.reduce:\n",
        "            return torch.mean(F_loss)\n",
        "        else:\n",
        "            return F_loss\n",
        "\n",
        "def loss_fn(outputs, targets):\n",
        "    return FocalLoss(logits=False)(outputs, targets)\n",
        "\n",
        "\n",
        "def train_fn(data_loader, model, optimizer, device, scheduler=None):\n",
        "    model.train()\n",
        "    \n",
        "    losses = AverageMeter()\n",
        "\n",
        "    tk0 = tqdm(data_loader, total=len(data_loader))\n",
        "    \n",
        "    for bi, d in enumerate(tk0):\n",
        "        images = d['image']\n",
        "        targets = d['targets']\n",
        "        \n",
        "        images = images.to(device, dtype=torch.float)\n",
        "        targets = targets.to(device, dtype=torch.long)\n",
        "        model.zero_grad()\n",
        "        outputs = model(images)\n",
        "        targets = targets.view(-1, 1).type_as(outputs)\n",
        "        \n",
        "        loss = loss_fn(outputs, targets)\n",
        "        loss.backward()\n",
        "        optimizer.step()\n",
        "        if scheduler:\n",
        "            scheduler.step()\n",
        "        \n",
        "        losses.update(loss.item(), images.size(0))\n",
        "        \n",
        "        tk0.set_postfix(loss=losses.avg)\n",
        "    return losses.avg\n",
        "\n",
        "def eval_fn(data_loader, model, device):\n",
        "    model.eval()\n",
        "    \n",
        "    losses = AverageMeter()\n",
        "    final_preds = []\n",
        "    \n",
        "    with torch.no_grad():\n",
        "        tk0 = tqdm(data_loader, total=len(data_loader))\n",
        "        \n",
        "        for bi, d in enumerate(tk0):\n",
        "            images = d['image']\n",
        "            targets = d['targets']\n",
        "\n",
        "            images = images.to(device, dtype=torch.float)\n",
        "            targets = targets.to(device, dtype=torch.long)\n",
        "            model.zero_grad()\n",
        "            outputs = model(images)\n",
        "            targets = targets.view(-1, 1).type_as(outputs)   \n",
        "\n",
        "            loss = loss_fn(outputs, targets)\n",
        "            losses.update(loss.item(), images.size(0))\n",
        "            \n",
        "            final_preds.extend(outputs.cpu().detach().numpy().tolist())\n",
        "        \n",
        "    return losses.avg, final_preds\n",
        "\n",
        "def run_fold(fold,best_auc):\n",
        "    patience = 0\n",
        "    feature_extract = False\n",
        "    # Initialize the model for this run\n",
        "    model_ft, input_size = initialize_model(MODEL_NAME, NUM_CLASSES, feature_extract, use_pretrained=True)\n",
        "    # Define the device:\n",
        "    device = torch.device('cuda:0')\n",
        "    # Put the model on the device:\n",
        "    model = model_ft.to(device)\n",
        "    \n",
        "    # Selecting fold\n",
        "    train_df = df[df['kfold'] != fold].reset_index(drop=True)\n",
        "    valid_df = df[df['kfold'] == fold].reset_index(drop=True)\n",
        "    \n",
        "    weights = generate_weights(train_df)\n",
        "        \n",
        "    # Loading data\n",
        "     # Create the dataset\n",
        "    train_dataset = Lesion_Dataset(train_df,True,train_transforms)\n",
        "    valid_dataset = Lesion_Dataset(valid_df,True,test_transforms)\n",
        "\n",
        "    train_sampler = WeightedRandomSampler(weights, len(train_df))\n",
        "\n",
        "    train_loader = torch.utils.data.DataLoader(\n",
        "        train_dataset, \n",
        "        batch_size=TRAIN_BATCH_SIZE, \n",
        "        sampler=train_sampler)\n",
        "\n",
        "    valid_loader = torch.utils.data.DataLoader(\n",
        "        valid_dataset, \n",
        "        batch_size=VALID_BATCH_SIZE, \n",
        "        shuffle=False)\n",
        "    \n",
        "    # Optimizer and scheduler\n",
        "    num_train_steps = int(len(train_df) / TRAIN_BATCH_SIZE * EPOCHS)\n",
        "    optimizer = torch.optim.Adam(model.parameters(), lr=LR)\n",
        "    scheduler = torch.optim.lr_scheduler.CosineAnnealingLR(\n",
        "        optimizer,\n",
        "        T_max=num_train_steps,\n",
        "        eta_min=1e-6\n",
        "    )\n",
        "    \n",
        "    # Training loop\n",
        "    for epoch in range(EPOCHS):\n",
        "        train_loss = train_fn(train_loader, model, optimizer, device=device, scheduler=scheduler)\n",
        "        loss, y_pred = eval_fn(valid_loader, model, device=device)\n",
        "        \n",
        "        y_pred = np.array(y_pred)\n",
        "        val_auc = roc_auc_score(valid_df['target'].values, y_pred)      \n",
        "        print(f\"Epoch {epoch}.. \"\n",
        "                f\"Train loss: {train_loss:.3f}.. \"\n",
        "                f\"Validation loss: {loss:.3f}.. \"\n",
        "                f\"Validation auc: {val_auc:.3f}\")\n",
        "        if val_auc > best_auc:\n",
        "            torch.save(model, 'convnext_model_3.pth')\n",
        "            print('Validation score improved ({} --> {}). Saving model!'.format(best_auc, val_auc))\n",
        "            best_auc = val_auc\n",
        "        else:\n",
        "          patience = patience + 1\n",
        "\n",
        "        if patience >= 1:\n",
        "          break;       \n",
        "\n",
        "    return best_auc      "
      ],
      "metadata": {
        "id": "Vo8NHMrgEd3H"
      },
      "execution_count": null,
      "outputs": []
    },
    {
      "cell_type": "markdown",
      "source": [
        "### Perform Training"
      ],
      "metadata": {
        "id": "Oa8duVsFTrxF"
      }
    },
    {
      "cell_type": "code",
      "execution_count": null,
      "metadata": {
        "id": "75uf1_qMlhGU"
      },
      "outputs": [],
      "source": [
        "# BEST_AUC=0\n",
        "# for i in range(FOLDS):\n",
        "#     BEST_AUC=run_fold(i,BEST_AUC)\n",
        "    #Epoch 4.. Train loss: 0.048.. Validation loss: 0.068.. Validation auc: 0.854"
      ]
    },
    {
      "cell_type": "markdown",
      "source": [
        "### Test the model"
      ],
      "metadata": {
        "id": "pKzWOapxjbvp"
      }
    },
    {
      "cell_type": "code",
      "source": [
        "test = pd.read_csv(os.path.join(path,\"test_sample.csv\"))\n",
        "test.head()"
      ],
      "metadata": {
        "id": "sqmBUVL7UGaA",
        "colab": {
          "base_uri": "https://localhost:8080/",
          "height": 206
        },
        "outputId": "31163af7-bb6f-4e72-91e1-cdb2e9598f13"
      },
      "execution_count": null,
      "outputs": [
        {
          "output_type": "execute_result",
          "data": {
            "text/plain": [
              "   index    image_name benign_malignant  target                       images\n",
              "0  12917  ISIC_3975660           benign       0  jpeg/train/ISIC_3975660.jpg\n",
              "1  31076  ISIC_9390275           benign       0  jpeg/train/ISIC_9390275.jpg\n",
              "2  24601  ISIC_7466678        malignant       1  jpeg/train/ISIC_7466678.jpg\n",
              "3  22916  ISIC_6966001        malignant       1  jpeg/train/ISIC_6966001.jpg\n",
              "4  12676  ISIC_3906195           benign       0  jpeg/train/ISIC_3906195.jpg"
            ],
            "text/html": [
              "\n",
              "  <div id=\"df-06ac8e63-c357-48d6-bf66-4c61f2bf939c\">\n",
              "    <div class=\"colab-df-container\">\n",
              "      <div>\n",
              "<style scoped>\n",
              "    .dataframe tbody tr th:only-of-type {\n",
              "        vertical-align: middle;\n",
              "    }\n",
              "\n",
              "    .dataframe tbody tr th {\n",
              "        vertical-align: top;\n",
              "    }\n",
              "\n",
              "    .dataframe thead th {\n",
              "        text-align: right;\n",
              "    }\n",
              "</style>\n",
              "<table border=\"1\" class=\"dataframe\">\n",
              "  <thead>\n",
              "    <tr style=\"text-align: right;\">\n",
              "      <th></th>\n",
              "      <th>index</th>\n",
              "      <th>image_name</th>\n",
              "      <th>benign_malignant</th>\n",
              "      <th>target</th>\n",
              "      <th>images</th>\n",
              "    </tr>\n",
              "  </thead>\n",
              "  <tbody>\n",
              "    <tr>\n",
              "      <th>0</th>\n",
              "      <td>12917</td>\n",
              "      <td>ISIC_3975660</td>\n",
              "      <td>benign</td>\n",
              "      <td>0</td>\n",
              "      <td>jpeg/train/ISIC_3975660.jpg</td>\n",
              "    </tr>\n",
              "    <tr>\n",
              "      <th>1</th>\n",
              "      <td>31076</td>\n",
              "      <td>ISIC_9390275</td>\n",
              "      <td>benign</td>\n",
              "      <td>0</td>\n",
              "      <td>jpeg/train/ISIC_9390275.jpg</td>\n",
              "    </tr>\n",
              "    <tr>\n",
              "      <th>2</th>\n",
              "      <td>24601</td>\n",
              "      <td>ISIC_7466678</td>\n",
              "      <td>malignant</td>\n",
              "      <td>1</td>\n",
              "      <td>jpeg/train/ISIC_7466678.jpg</td>\n",
              "    </tr>\n",
              "    <tr>\n",
              "      <th>3</th>\n",
              "      <td>22916</td>\n",
              "      <td>ISIC_6966001</td>\n",
              "      <td>malignant</td>\n",
              "      <td>1</td>\n",
              "      <td>jpeg/train/ISIC_6966001.jpg</td>\n",
              "    </tr>\n",
              "    <tr>\n",
              "      <th>4</th>\n",
              "      <td>12676</td>\n",
              "      <td>ISIC_3906195</td>\n",
              "      <td>benign</td>\n",
              "      <td>0</td>\n",
              "      <td>jpeg/train/ISIC_3906195.jpg</td>\n",
              "    </tr>\n",
              "  </tbody>\n",
              "</table>\n",
              "</div>\n",
              "      <button class=\"colab-df-convert\" onclick=\"convertToInteractive('df-06ac8e63-c357-48d6-bf66-4c61f2bf939c')\"\n",
              "              title=\"Convert this dataframe to an interactive table.\"\n",
              "              style=\"display:none;\">\n",
              "        \n",
              "  <svg xmlns=\"http://www.w3.org/2000/svg\" height=\"24px\"viewBox=\"0 0 24 24\"\n",
              "       width=\"24px\">\n",
              "    <path d=\"M0 0h24v24H0V0z\" fill=\"none\"/>\n",
              "    <path d=\"M18.56 5.44l.94 2.06.94-2.06 2.06-.94-2.06-.94-.94-2.06-.94 2.06-2.06.94zm-11 1L8.5 8.5l.94-2.06 2.06-.94-2.06-.94L8.5 2.5l-.94 2.06-2.06.94zm10 10l.94 2.06.94-2.06 2.06-.94-2.06-.94-.94-2.06-.94 2.06-2.06.94z\"/><path d=\"M17.41 7.96l-1.37-1.37c-.4-.4-.92-.59-1.43-.59-.52 0-1.04.2-1.43.59L10.3 9.45l-7.72 7.72c-.78.78-.78 2.05 0 2.83L4 21.41c.39.39.9.59 1.41.59.51 0 1.02-.2 1.41-.59l7.78-7.78 2.81-2.81c.8-.78.8-2.07 0-2.86zM5.41 20L4 18.59l7.72-7.72 1.47 1.35L5.41 20z\"/>\n",
              "  </svg>\n",
              "      </button>\n",
              "      \n",
              "  <style>\n",
              "    .colab-df-container {\n",
              "      display:flex;\n",
              "      flex-wrap:wrap;\n",
              "      gap: 12px;\n",
              "    }\n",
              "\n",
              "    .colab-df-convert {\n",
              "      background-color: #E8F0FE;\n",
              "      border: none;\n",
              "      border-radius: 50%;\n",
              "      cursor: pointer;\n",
              "      display: none;\n",
              "      fill: #1967D2;\n",
              "      height: 32px;\n",
              "      padding: 0 0 0 0;\n",
              "      width: 32px;\n",
              "    }\n",
              "\n",
              "    .colab-df-convert:hover {\n",
              "      background-color: #E2EBFA;\n",
              "      box-shadow: 0px 1px 2px rgba(60, 64, 67, 0.3), 0px 1px 3px 1px rgba(60, 64, 67, 0.15);\n",
              "      fill: #174EA6;\n",
              "    }\n",
              "\n",
              "    [theme=dark] .colab-df-convert {\n",
              "      background-color: #3B4455;\n",
              "      fill: #D2E3FC;\n",
              "    }\n",
              "\n",
              "    [theme=dark] .colab-df-convert:hover {\n",
              "      background-color: #434B5C;\n",
              "      box-shadow: 0px 1px 3px 1px rgba(0, 0, 0, 0.15);\n",
              "      filter: drop-shadow(0px 1px 2px rgba(0, 0, 0, 0.3));\n",
              "      fill: #FFFFFF;\n",
              "    }\n",
              "  </style>\n",
              "\n",
              "      <script>\n",
              "        const buttonEl =\n",
              "          document.querySelector('#df-06ac8e63-c357-48d6-bf66-4c61f2bf939c button.colab-df-convert');\n",
              "        buttonEl.style.display =\n",
              "          google.colab.kernel.accessAllowed ? 'block' : 'none';\n",
              "\n",
              "        async function convertToInteractive(key) {\n",
              "          const element = document.querySelector('#df-06ac8e63-c357-48d6-bf66-4c61f2bf939c');\n",
              "          const dataTable =\n",
              "            await google.colab.kernel.invokeFunction('convertToInteractive',\n",
              "                                                     [key], {});\n",
              "          if (!dataTable) return;\n",
              "\n",
              "          const docLinkHtml = 'Like what you see? Visit the ' +\n",
              "            '<a target=\"_blank\" href=https://colab.research.google.com/notebooks/data_table.ipynb>data table notebook</a>'\n",
              "            + ' to learn more about interactive tables.';\n",
              "          element.innerHTML = '';\n",
              "          dataTable['output_type'] = 'display_data';\n",
              "          await google.colab.output.renderOutput(dataTable, element);\n",
              "          const docLink = document.createElement('div');\n",
              "          docLink.innerHTML = docLinkHtml;\n",
              "          element.appendChild(docLink);\n",
              "        }\n",
              "      </script>\n",
              "    </div>\n",
              "  </div>\n",
              "  "
            ]
          },
          "metadata": {},
          "execution_count": 28
        }
      ]
    },
    {
      "cell_type": "code",
      "source": [
        "def predict(data_loader, model, device):\n",
        "    model.eval()\n",
        "    classes  = (\"benign\", \"malignant\")\n",
        "    final_preds = []\n",
        "    labels = []\n",
        "    correct_pred = {classname: 0 for classname in classes}\n",
        "    total_pred = {classname: 0 for classname in classes}\n",
        "    \n",
        "    with torch.no_grad():\n",
        "        tk0 = tqdm(data_loader, total=len(data_loader))\n",
        "        \n",
        "        for bi, d in enumerate(tk0):\n",
        "            images = d['image']\n",
        "            \n",
        "            images = images.to(device, dtype=torch.float)\n",
        "            targets = d['targets'].to(device, dtype=torch.long)\n",
        "\n",
        "            outputs = model(images)\n",
        "            # targets=targets.view(-1, 1).type_as(outputs)\n",
        "            y_probs = outputs.squeeze(-1).cpu().detach().numpy()\n",
        "            # _, predictions = torch.max(outputs, 1)\n",
        "            predictions = y_probs > 0.5\n",
        "            predictions = predictions.astype(int)\n",
        "            targets = targets.data.cpu().numpy()\n",
        "            for label, prediction in zip(targets, predictions):\n",
        "                if label == prediction:\n",
        "                    correct_pred[classes[label]] += 1\n",
        "                total_pred[classes[label]] += 1          \n",
        "            final_preds.extend(y_probs.tolist())\n",
        "            labels.extend(targets.tolist())\n",
        "    return correct_pred, total_pred, labels, final_preds\n",
        "\n",
        "test_df = test.reset_index(drop=True)\n",
        "test_dataset = Lesion_Dataset(test_df,True,test_transforms)\n",
        "\n",
        "test_loader = torch.utils.data.DataLoader(\n",
        "    test_dataset, \n",
        "    batch_size=VALID_BATCH_SIZE, \n",
        "    shuffle=False\n",
        ")"
      ],
      "metadata": {
        "id": "ORkqlGYplk6D"
      },
      "execution_count": null,
      "outputs": []
    },
    {
      "cell_type": "code",
      "source": [
        "model = torch.load('convnext_model_3.pth')"
      ],
      "metadata": {
        "id": "N1b0GbxAmIM3"
      },
      "execution_count": null,
      "outputs": []
    },
    {
      "cell_type": "code",
      "execution_count": null,
      "metadata": {
        "id": "7Hib0R7zlhGi",
        "colab": {
          "base_uri": "https://localhost:8080/",
          "height": 49,
          "referenced_widgets": [
            "296cd0152bfa454bb0b5118b1681867e",
            "f691480c866c4ba6a478454e8c8e52b9",
            "9790ddb7e6394d17b8b47cbadc799bc6",
            "200a4dc2dd9a47bcaf121dcd65734883",
            "2ecba9a65ad349ea8af6a3a612e1f04b",
            "01748fd944934a3dadab49de8a563709",
            "236e97fa16d346a7af9932baf8a5bfd2",
            "77f847e2f52b4ef7a78aaa4d28083568",
            "3eb39f808bd34adaa7395526fda7e52a",
            "cd9d88fd081b4a18bf5c3efe8e10d063",
            "5af57be86e6548db866165aede3264f0"
          ]
        },
        "outputId": "ab205e99-98b1-49fb-dee1-55baf1de828b"
      },
      "outputs": [
        {
          "output_type": "display_data",
          "data": {
            "text/plain": [
              "  0%|          | 0/72 [00:00<?, ?it/s]"
            ],
            "application/vnd.jupyter.widget-view+json": {
              "version_major": 2,
              "version_minor": 0,
              "model_id": "296cd0152bfa454bb0b5118b1681867e"
            }
          },
          "metadata": {}
        }
      ],
      "source": [
        "correct_pred, total_pred, y_true, y_preds = predict(test_loader, model, device)"
      ]
    },
    {
      "cell_type": "code",
      "source": [
        "correct_pred"
      ],
      "metadata": {
        "id": "b2fUj6SAuqQB",
        "colab": {
          "base_uri": "https://localhost:8080/"
        },
        "outputId": "9429a979-e2ee-4de6-9324-6e987c2bb411"
      },
      "execution_count": null,
      "outputs": [
        {
          "output_type": "execute_result",
          "data": {
            "text/plain": [
              "{'benign': 1353, 'malignant': 503}"
            ]
          },
          "metadata": {},
          "execution_count": 33
        }
      ]
    },
    {
      "cell_type": "code",
      "source": [
        "total_pred"
      ],
      "metadata": {
        "id": "-TS_J3150RH2",
        "colab": {
          "base_uri": "https://localhost:8080/"
        },
        "outputId": "d8e52361-eb2d-4709-e60c-66f10f1dd557"
      },
      "execution_count": null,
      "outputs": [
        {
          "output_type": "execute_result",
          "data": {
            "text/plain": [
              "{'benign': 1672, 'malignant': 627}"
            ]
          },
          "metadata": {},
          "execution_count": 34
        }
      ]
    },
    {
      "cell_type": "code",
      "source": [
        "print(np.array([y_true, y_preds]))"
      ],
      "metadata": {
        "id": "iGVnGXyaeDl9",
        "colab": {
          "base_uri": "https://localhost:8080/"
        },
        "outputId": "b7c93b16-927a-4ed7-baff-e0995efa3dc1"
      },
      "execution_count": null,
      "outputs": [
        {
          "output_type": "stream",
          "name": "stdout",
          "text": [
            "[[0.         0.         1.         ... 0.         0.         0.        ]\n",
            " [0.53280437 0.25603265 0.68831939 ... 0.07974558 0.80906934 0.37282774]]\n"
          ]
        }
      ]
    },
    {
      "cell_type": "code",
      "source": [
        "preds = np.array(y_preds) > 0.5\n",
        "preds=preds.tolist()"
      ],
      "metadata": {
        "id": "XynkGovJFA-d"
      },
      "execution_count": null,
      "outputs": []
    },
    {
      "cell_type": "markdown",
      "metadata": {
        "id": "NRZwRV-ulhG2"
      },
      "source": [
        "## Evaluating the model performance\n",
        "\n"
      ]
    },
    {
      "cell_type": "code",
      "execution_count": null,
      "metadata": {
        "id": "1BABPAI8lhG4"
      },
      "outputs": [],
      "source": [
        "classes  = (\"benign\", \"malignant\")"
      ]
    },
    {
      "cell_type": "code",
      "execution_count": null,
      "metadata": {
        "id": "CzV-S_fNlhG_",
        "colab": {
          "base_uri": "https://localhost:8080/"
        },
        "outputId": "6d4b7540-d7a3-4fe1-e815-b132cccc4c15"
      },
      "outputs": [
        {
          "output_type": "stream",
          "name": "stdout",
          "text": [
            "benign 1353\n",
            "Accuracy for class: benign is 80.9 %\n",
            "malignant 503\n",
            "Accuracy for class: malignant is 80.2 %\n"
          ]
        }
      ],
      "source": [
        "#print accuracy for each class\n",
        "for classname, correct_count in correct_pred.items():\n",
        "    print(classname,correct_count)\n",
        "    accuracy = 0 if correct_count == 0 else 100 * float(correct_count) / total_pred[classname]\n",
        "    print(f'Accuracy for class: {classname:5s} is {accuracy:.1f} %')"
      ]
    },
    {
      "cell_type": "markdown",
      "source": [
        "## Confusion matrix"
      ],
      "metadata": {
        "id": "lDH9wdWVDarf"
      }
    },
    {
      "cell_type": "code",
      "source": [
        "from sklearn.metrics import accuracy_score\n",
        "from sklearn.metrics import precision_score\n",
        "from sklearn.metrics import recall_score\n",
        "from sklearn.metrics import f1_score\n",
        "from sklearn.metrics import cohen_kappa_score\n",
        "from sklearn.metrics import confusion_matrix\n",
        "cf_matrix = confusion_matrix(y_true,preds)\n",
        "print(cf_matrix)"
      ],
      "metadata": {
        "id": "lgMfye804A3y",
        "colab": {
          "base_uri": "https://localhost:8080/"
        },
        "outputId": "15b98cba-af09-4dae-caa1-854e2814656c"
      },
      "execution_count": null,
      "outputs": [
        {
          "output_type": "stream",
          "name": "stdout",
          "text": [
            "[[1353  319]\n",
            " [ 124  503]]\n"
          ]
        }
      ]
    },
    {
      "cell_type": "code",
      "source": [
        "np.sum(cf_matrix,axis=0)"
      ],
      "metadata": {
        "id": "-TcRNkhj4A3y",
        "colab": {
          "base_uri": "https://localhost:8080/"
        },
        "outputId": "6c32487e-1e36-4641-904f-3d723d0c08d1"
      },
      "execution_count": null,
      "outputs": [
        {
          "output_type": "execute_result",
          "data": {
            "text/plain": [
              "array([1477,  822])"
            ]
          },
          "metadata": {},
          "execution_count": 40
        }
      ]
    },
    {
      "cell_type": "code",
      "source": [
        "df_cm = pd.DataFrame(cf_matrix, index = [i for i in classes],\n",
        "                     columns = [i for i in classes])\n",
        "                     \n",
        "plt.figure(figsize = (12,7))\n",
        "sns.heatmap(df_cm, annot=True, fmt='d')\n",
        "plt.show()"
      ],
      "metadata": {
        "id": "a60oPq4Z4A3z",
        "colab": {
          "base_uri": "https://localhost:8080/",
          "height": 428
        },
        "outputId": "330375d9-2b71-420b-c11d-e9b3381b9c3a"
      },
      "execution_count": null,
      "outputs": [
        {
          "output_type": "display_data",
          "data": {
            "text/plain": [
              "<Figure size 864x504 with 2 Axes>"
            ],
            "image/png": "[encoded data removed]"
          },
          "metadata": {
            "image/png": {
              "width": 651,
              "height": 411
            },
            "needs_background": "light"
          }
        }
      ]
    },
    {
      "cell_type": "markdown",
      "source": [
        "## Evaluation metrics\n",
        "1. recall\n",
        "2. precision\n",
        "3. PR Curve\n",
        "4. F1 score\n",
        "6. Accuracy"
      ],
      "metadata": {
        "id": "ieuQGOuYDarg"
      }
    },
    {
      "cell_type": "code",
      "source": [
        "# Calculate specificity tn / (tn+fp)\n",
        "def calculate_specificity(conf_matrix):\n",
        "   return cf_matrix[0,0]/np.sum(cf_matrix,axis=0)[0]\n"
      ],
      "metadata": {
        "id": "bF5B6zjrDarg"
      },
      "execution_count": null,
      "outputs": []
    },
    {
      "cell_type": "code",
      "source": [
        "# accuracy: (tp + tn) / (p + n)\n",
        "accuracy = accuracy_score(y_true, preds)\n",
        "print('Accuracy: %f' % accuracy)\n",
        "# precision tp / (tp + fp)\n",
        "precision = precision_score(y_true, preds)\n",
        "print('Precision: %f' % precision)\n",
        "# recall or sensitivity: tp / (tp + fn)\n",
        "recall = recall_score(y_true, preds)\n",
        "print('recall or sensitivity: %f' % recall)\n",
        "# specificity\n",
        "specificity = calculate_specificity(cf_matrix)\n",
        "print('specificity: %f' % specificity)\n",
        "# f1: 2 tp / (2 tp + fp + fn)\n",
        "f1 = f1_score(y_true, preds)\n",
        "print('F1 score: %f' % f1)"
      ],
      "metadata": {
        "id": "DOftfHwTDarg",
        "colab": {
          "base_uri": "https://localhost:8080/"
        },
        "outputId": "b37e9b8d-64a6-4263-f000-d84be0a39461"
      },
      "execution_count": null,
      "outputs": [
        {
          "output_type": "stream",
          "name": "stdout",
          "text": [
            "Accuracy: 0.807308\n",
            "Precision: 0.611922\n",
            "recall or sensitivity: 0.802233\n",
            "specificity: 0.916046\n",
            "F1 score: 0.694272\n"
          ]
        }
      ]
    },
    {
      "cell_type": "code",
      "source": [
        "# PR curve\n",
        "from sklearn.metrics import precision_recall_curve, auc\n",
        "precision, recall, thresholds = precision_recall_curve(y_true, y_preds)"
      ],
      "metadata": {
        "id": "HniXuOGWDarj"
      },
      "execution_count": null,
      "outputs": []
    },
    {
      "cell_type": "code",
      "source": [
        "# calculate scores\n",
        "lr_auc = auc(recall, precision)\n",
        "# plot the precision-recall curves\n",
        "plt.plot(recall, precision, marker='.', label='Model Aug(auc: %.3f)' %lr_auc)\n",
        "# axis labels\n",
        "plt.xlabel('Recall')\n",
        "plt.ylabel('Precision')\n",
        "# show the legend\n",
        "plt.legend()\n",
        "# show the plot\n",
        "plt.show()"
      ],
      "metadata": {
        "id": "kRIkJynxDark",
        "colab": {
          "base_uri": "https://localhost:8080/",
          "height": 278
        },
        "outputId": "de13f85d-75ff-4e72-e6fa-23ba15a4a1cb"
      },
      "execution_count": null,
      "outputs": [
        {
          "output_type": "display_data",
          "data": {
            "text/plain": [
              "<Figure size 432x288 with 1 Axes>"
            ],
            "image/png": "[encoded data removed]"
          },
          "metadata": {
            "image/png": {
              "width": 385,
              "height": 261
            },
            "needs_background": "light"
          }
        }
      ]
    }
  ],
  "metadata": {
    "accelerator": "GPU",
    "colab": {
      "collapsed_sections": [],
      "machine_shape": "hm",
      "provenance": []
    },
    "gpuClass": "standard",
    "kernelspec": {
      "display_name": "Python 3",
      "language": "python",
      "name": "python3"
    },
    "language_info": {
      "codemirror_mode": {
        "name": "ipython",
        "version": 3
      },
      "file_extension": ".py",
      "mimetype": "text/x-python",
      "name": "python",
      "nbconvert_exporter": "python",
      "pygments_lexer": "ipython3",
      "version": "3.7.12"
    },
    "widgets": {
      "application/vnd.jupyter.widget-state+json": {
        "296cd0152bfa454bb0b5118b1681867e": {
          "model_module": "@jupyter-widgets/controls",
          "model_name": "HBoxModel",
          "model_module_version": "1.5.0",
          "state": {
            "_dom_classes": [],
            "_model_module": "@jupyter-widgets/controls",
            "_model_module_version": "1.5.0",
            "_model_name": "HBoxModel",
            "_view_count": null,
            "_view_module": "@jupyter-widgets/controls",
            "_view_module_version": "1.5.0",
            "_view_name": "HBoxView",
            "box_style": "",
            "children": [
              "IPY_MODEL_f691480c866c4ba6a478454e8c8e52b9",
              "IPY_MODEL_9790ddb7e6394d17b8b47cbadc799bc6",
              "IPY_MODEL_200a4dc2dd9a47bcaf121dcd65734883"
            ],
            "layout": "IPY_MODEL_2ecba9a65ad349ea8af6a3a612e1f04b"
          }
        },
        "f691480c866c4ba6a478454e8c8e52b9": {
          "model_module": "@jupyter-widgets/controls",
          "model_name": "HTMLModel",
          "model_module_version": "1.5.0",
          "state": {
            "_dom_classes": [],
            "_model_module": "@jupyter-widgets/controls",
            "_model_module_version": "1.5.0",
            "_model_name": "HTMLModel",
            "_view_count": null,
            "_view_module": "@jupyter-widgets/controls",
            "_view_module_version": "1.5.0",
            "_view_name": "HTMLView",
            "description": "",
            "description_tooltip": null,
            "layout": "IPY_MODEL_01748fd944934a3dadab49de8a563709",
            "placeholder": "​",
            "style": "IPY_MODEL_236e97fa16d346a7af9932baf8a5bfd2",
            "value": "100%"
          }
        },
        "9790ddb7e6394d17b8b47cbadc799bc6": {
          "model_module": "@jupyter-widgets/controls",
          "model_name": "FloatProgressModel",
          "model_module_version": "1.5.0",
          "state": {
            "_dom_classes": [],
            "_model_module": "@jupyter-widgets/controls",
            "_model_module_version": "1.5.0",
            "_model_name": "FloatProgressModel",
            "_view_count": null,
            "_view_module": "@jupyter-widgets/controls",
            "_view_module_version": "1.5.0",
            "_view_name": "ProgressView",
            "bar_style": "success",
            "description": "",
            "description_tooltip": null,
            "layout": "IPY_MODEL_77f847e2f52b4ef7a78aaa4d28083568",
            "max": 72,
            "min": 0,
            "orientation": "horizontal",
            "style": "IPY_MODEL_3eb39f808bd34adaa7395526fda7e52a",
            "value": 72
          }
        },
        "200a4dc2dd9a47bcaf121dcd65734883": {
          "model_module": "@jupyter-widgets/controls",
          "model_name": "HTMLModel",
          "model_module_version": "1.5.0",
          "state": {
            "_dom_classes": [],
            "_model_module": "@jupyter-widgets/controls",
            "_model_module_version": "1.5.0",
            "_model_name": "HTMLModel",
            "_view_count": null,
            "_view_module": "@jupyter-widgets/controls",
            "_view_module_version": "1.5.0",
            "_view_name": "HTMLView",
            "description": "",
            "description_tooltip": null,
            "layout": "IPY_MODEL_cd9d88fd081b4a18bf5c3efe8e10d063",
            "placeholder": "​",
            "style": "IPY_MODEL_5af57be86e6548db866165aede3264f0",
            "value": " 72/72 [13:08&lt;00:00,  9.21s/it]"
          }
        },
        "2ecba9a65ad349ea8af6a3a612e1f04b": {
          "model_module": "@jupyter-widgets/base",
          "model_name": "LayoutModel",
          "model_module_version": "1.2.0",
          "state": {
            "_model_module": "@jupyter-widgets/base",
            "_model_module_version": "1.2.0",
            "_model_name": "LayoutModel",
            "_view_count": null,
            "_view_module": "@jupyter-widgets/base",
            "_view_module_version": "1.2.0",
            "_view_name": "LayoutView",
            "align_content": null,
            "align_items": null,
            "align_self": null,
            "border": null,
            "bottom": null,
            "display": null,
            "flex": null,
            "flex_flow": null,
            "grid_area": null,
            "grid_auto_columns": null,
            "grid_auto_flow": null,
            "grid_auto_rows": null,
            "grid_column": null,
            "grid_gap": null,
            "grid_row": null,
            "grid_template_areas": null,
            "grid_template_columns": null,
            "grid_template_rows": null,
            "height": null,
            "justify_content": null,
            "justify_items": null,
            "left": null,
            "margin": null,
            "max_height": null,
            "max_width": null,
            "min_height": null,
            "min_width": null,
            "object_fit": null,
            "object_position": null,
            "order": null,
            "overflow": null,
            "overflow_x": null,
            "overflow_y": null,
            "padding": null,
            "right": null,
            "top": null,
            "visibility": null,
            "width": null
          }
        },
        "01748fd944934a3dadab49de8a563709": {
          "model_module": "@jupyter-widgets/base",
          "model_name": "LayoutModel",
          "model_module_version": "1.2.0",
          "state": {
            "_model_module": "@jupyter-widgets/base",
            "_model_module_version": "1.2.0",
            "_model_name": "LayoutModel",
            "_view_count": null,
            "_view_module": "@jupyter-widgets/base",
            "_view_module_version": "1.2.0",
            "_view_name": "LayoutView",
            "align_content": null,
            "align_items": null,
            "align_self": null,
            "border": null,
            "bottom": null,
            "display": null,
            "flex": null,
            "flex_flow": null,
            "grid_area": null,
            "grid_auto_columns": null,
            "grid_auto_flow": null,
            "grid_auto_rows": null,
            "grid_column": null,
            "grid_gap": null,
            "grid_row": null,
            "grid_template_areas": null,
            "grid_template_columns": null,
            "grid_template_rows": null,
            "height": null,
            "justify_content": null,
            "justify_items": null,
            "left": null,
            "margin": null,
            "max_height": null,
            "max_width": null,
            "min_height": null,
            "min_width": null,
            "object_fit": null,
            "object_position": null,
            "order": null,
            "overflow": null,
            "overflow_x": null,
            "overflow_y": null,
            "padding": null,
            "right": null,
            "top": null,
            "visibility": null,
            "width": null
          }
        },
        "236e97fa16d346a7af9932baf8a5bfd2": {
          "model_module": "@jupyter-widgets/controls",
          "model_name": "DescriptionStyleModel",
          "model_module_version": "1.5.0",
          "state": {
            "_model_module": "@jupyter-widgets/controls",
            "_model_module_version": "1.5.0",
            "_model_name": "DescriptionStyleModel",
            "_view_count": null,
            "_view_module": "@jupyter-widgets/base",
            "_view_module_version": "1.2.0",
            "_view_name": "StyleView",
            "description_width": ""
          }
        },
        "77f847e2f52b4ef7a78aaa4d28083568": {
          "model_module": "@jupyter-widgets/base",
          "model_name": "LayoutModel",
          "model_module_version": "1.2.0",
          "state": {
            "_model_module": "@jupyter-widgets/base",
            "_model_module_version": "1.2.0",
            "_model_name": "LayoutModel",
            "_view_count": null,
            "_view_module": "@jupyter-widgets/base",
            "_view_module_version": "1.2.0",
            "_view_name": "LayoutView",
            "align_content": null,
            "align_items": null,
            "align_self": null,
            "border": null,
            "bottom": null,
            "display": null,
            "flex": null,
            "flex_flow": null,
            "grid_area": null,
            "grid_auto_columns": null,
            "grid_auto_flow": null,
            "grid_auto_rows": null,
            "grid_column": null,
            "grid_gap": null,
            "grid_row": null,
            "grid_template_areas": null,
            "grid_template_columns": null,
            "grid_template_rows": null,
            "height": null,
            "justify_content": null,
            "justify_items": null,
            "left": null,
            "margin": null,
            "max_height": null,
            "max_width": null,
            "min_height": null,
            "min_width": null,
            "object_fit": null,
            "object_position": null,
            "order": null,
            "overflow": null,
            "overflow_x": null,
            "overflow_y": null,
            "padding": null,
            "right": null,
            "top": null,
            "visibility": null,
            "width": null
          }
        },
        "3eb39f808bd34adaa7395526fda7e52a": {
          "model_module": "@jupyter-widgets/controls",
          "model_name": "ProgressStyleModel",
          "model_module_version": "1.5.0",
          "state": {
            "_model_module": "@jupyter-widgets/controls",
            "_model_module_version": "1.5.0",
            "_model_name": "ProgressStyleModel",
            "_view_count": null,
            "_view_module": "@jupyter-widgets/base",
            "_view_module_version": "1.2.0",
            "_view_name": "StyleView",
            "bar_color": null,
            "description_width": ""
          }
        },
        "cd9d88fd081b4a18bf5c3efe8e10d063": {
          "model_module": "@jupyter-widgets/base",
          "model_name": "LayoutModel",
          "model_module_version": "1.2.0",
          "state": {
            "_model_module": "@jupyter-widgets/base",
            "_model_module_version": "1.2.0",
            "_model_name": "LayoutModel",
            "_view_count": null,
            "_view_module": "@jupyter-widgets/base",
            "_view_module_version": "1.2.0",
            "_view_name": "LayoutView",
            "align_content": null,
            "align_items": null,
            "align_self": null,
            "border": null,
            "bottom": null,
            "display": null,
            "flex": null,
            "flex_flow": null,
            "grid_area": null,
            "grid_auto_columns": null,
            "grid_auto_flow": null,
            "grid_auto_rows": null,
            "grid_column": null,
            "grid_gap": null,
            "grid_row": null,
            "grid_template_areas": null,
            "grid_template_columns": null,
            "grid_template_rows": null,
            "height": null,
            "justify_content": null,
            "justify_items": null,
            "left": null,
            "margin": null,
            "max_height": null,
            "max_width": null,
            "min_height": null,
            "min_width": null,
            "object_fit": null,
            "object_position": null,
            "order": null,
            "overflow": null,
            "overflow_x": null,
            "overflow_y": null,
            "padding": null,
            "right": null,
            "top": null,
            "visibility": null,
            "width": null
          }
        },
        "5af57be86e6548db866165aede3264f0": {
          "model_module": "@jupyter-widgets/controls",
          "model_name": "DescriptionStyleModel",
          "model_module_version": "1.5.0",
          "state": {
            "_model_module": "@jupyter-widgets/controls",
            "_model_module_version": "1.5.0",
            "_model_name": "DescriptionStyleModel",
            "_view_count": null,
            "_view_module": "@jupyter-widgets/base",
            "_view_module_version": "1.2.0",
            "_view_name": "StyleView",
            "description_width": ""
          }
        }
      }
    }
  },
  "nbformat": 4,
  "nbformat_minor": 0
}