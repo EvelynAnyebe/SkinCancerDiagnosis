{
  "nbformat": 4,
  "nbformat_minor": 0,
  "metadata": {
    "colab": {
      "provenance": [],
      "collapsed_sections": [],
      "machine_shape": "hm"
    },
    "kernelspec": {
      "name": "python3",
      "display_name": "Python 3"
    },
    "language_info": {
      "name": "python"
    },
    "accelerator": "GPU",
    "gpuClass": "standard",
    "widgets": {
      "application/vnd.jupyter.widget-state+json": {
        "daacc9fe0b744a2cb192d04d71392b73": {
          "model_module": "@jupyter-widgets/controls",
          "model_name": "HBoxModel",
          "model_module_version": "1.5.0",
          "state": {
            "_dom_classes": [],
            "_model_module": "@jupyter-widgets/controls",
            "_model_module_version": "1.5.0",
            "_model_name": "HBoxModel",
            "_view_count": null,
            "_view_module": "@jupyter-widgets/controls",
            "_view_module_version": "1.5.0",
            "_view_name": "HBoxView",
            "box_style": "",
            "children": [
              "IPY_MODEL_155e249d53054fadb4ef33901db392f4",
              "IPY_MODEL_2323b8164bfc4d978d96088d32c1362a",
              "IPY_MODEL_b561ad29c2b24e2f81dd69351e6713d8"
            ],
            "layout": "IPY_MODEL_a3ef5d4ccf544a00af765562172deacf"
          }
        },
        "155e249d53054fadb4ef33901db392f4": {
          "model_module": "@jupyter-widgets/controls",
          "model_name": "HTMLModel",
          "model_module_version": "1.5.0",
          "state": {
            "_dom_classes": [],
            "_model_module": "@jupyter-widgets/controls",
            "_model_module_version": "1.5.0",
            "_model_name": "HTMLModel",
            "_view_count": null,
            "_view_module": "@jupyter-widgets/controls",
            "_view_module_version": "1.5.0",
            "_view_name": "HTMLView",
            "description": "",
            "description_tooltip": null,
            "layout": "IPY_MODEL_8c87d0be7ac14dbc9793cecf5e3e80ad",
            "placeholder": "​",
            "style": "IPY_MODEL_f2478c224f8c4473b12952cdbd582e40",
            "value": "100%"
          }
        },
        "2323b8164bfc4d978d96088d32c1362a": {
          "model_module": "@jupyter-widgets/controls",
          "model_name": "FloatProgressModel",
          "model_module_version": "1.5.0",
          "state": {
            "_dom_classes": [],
            "_model_module": "@jupyter-widgets/controls",
            "_model_module_version": "1.5.0",
            "_model_name": "FloatProgressModel",
            "_view_count": null,
            "_view_module": "@jupyter-widgets/controls",
            "_view_module_version": "1.5.0",
            "_view_name": "ProgressView",
            "bar_style": "success",
            "description": "",
            "description_tooltip": null,
            "layout": "IPY_MODEL_931a3312609541f6932bcd8a26ac930b",
            "max": 69,
            "min": 0,
            "orientation": "horizontal",
            "style": "IPY_MODEL_9f39960a66d6451daa0ca58e9fb75eaa",
            "value": 69
          }
        },
        "b561ad29c2b24e2f81dd69351e6713d8": {
          "model_module": "@jupyter-widgets/controls",
          "model_name": "HTMLModel",
          "model_module_version": "1.5.0",
          "state": {
            "_dom_classes": [],
            "_model_module": "@jupyter-widgets/controls",
            "_model_module_version": "1.5.0",
            "_model_name": "HTMLModel",
            "_view_count": null,
            "_view_module": "@jupyter-widgets/controls",
            "_view_module_version": "1.5.0",
            "_view_name": "HTMLView",
            "description": "",
            "description_tooltip": null,
            "layout": "IPY_MODEL_0cb0243f85b247adb11c11edac049399",
            "placeholder": "​",
            "style": "IPY_MODEL_66eac4ac5f584326a31f3cda2562419d",
            "value": " 69/69 [16:07&lt;00:00,  6.57s/it]"
          }
        },
        "a3ef5d4ccf544a00af765562172deacf": {
          "model_module": "@jupyter-widgets/base",
          "model_name": "LayoutModel",
          "model_module_version": "1.2.0",
          "state": {
            "_model_module": "@jupyter-widgets/base",
            "_model_module_version": "1.2.0",
            "_model_name": "LayoutModel",
            "_view_count": null,
            "_view_module": "@jupyter-widgets/base",
            "_view_module_version": "1.2.0",
            "_view_name": "LayoutView",
            "align_content": null,
            "align_items": null,
            "align_self": null,
            "border": null,
            "bottom": null,
            "display": null,
            "flex": null,
            "flex_flow": null,
            "grid_area": null,
            "grid_auto_columns": null,
            "grid_auto_flow": null,
            "grid_auto_rows": null,
            "grid_column": null,
            "grid_gap": null,
            "grid_row": null,
            "grid_template_areas": null,
            "grid_template_columns": null,
            "grid_template_rows": null,
            "height": null,
            "justify_content": null,
            "justify_items": null,
            "left": null,
            "margin": null,
            "max_height": null,
            "max_width": null,
            "min_height": null,
            "min_width": null,
            "object_fit": null,
            "object_position": null,
            "order": null,
            "overflow": null,
            "overflow_x": null,
            "overflow_y": null,
            "padding": null,
            "right": null,
            "top": null,
            "visibility": null,
            "width": null
          }
        },
        "8c87d0be7ac14dbc9793cecf5e3e80ad": {
          "model_module": "@jupyter-widgets/base",
          "model_name": "LayoutModel",
          "model_module_version": "1.2.0",
          "state": {
            "_model_module": "@jupyter-widgets/base",
            "_model_module_version": "1.2.0",
            "_model_name": "LayoutModel",
            "_view_count": null,
            "_view_module": "@jupyter-widgets/base",
            "_view_module_version": "1.2.0",
            "_view_name": "LayoutView",
            "align_content": null,
            "align_items": null,
            "align_self": null,
            "border": null,
            "bottom": null,
            "display": null,
            "flex": null,
            "flex_flow": null,
            "grid_area": null,
            "grid_auto_columns": null,
            "grid_auto_flow": null,
            "grid_auto_rows": null,
            "grid_column": null,
            "grid_gap": null,
            "grid_row": null,
            "grid_template_areas": null,
            "grid_template_columns": null,
            "grid_template_rows": null,
            "height": null,
            "justify_content": null,
            "justify_items": null,
            "left": null,
            "margin": null,
            "max_height": null,
            "max_width": null,
            "min_height": null,
            "min_width": null,
            "object_fit": null,
            "object_position": null,
            "order": null,
            "overflow": null,
            "overflow_x": null,
            "overflow_y": null,
            "padding": null,
            "right": null,
            "top": null,
            "visibility": null,
            "width": null
          }
        },
        "f2478c224f8c4473b12952cdbd582e40": {
          "model_module": "@jupyter-widgets/controls",
          "model_name": "DescriptionStyleModel",
          "model_module_version": "1.5.0",
          "state": {
            "_model_module": "@jupyter-widgets/controls",
            "_model_module_version": "1.5.0",
            "_model_name": "DescriptionStyleModel",
            "_view_count": null,
            "_view_module": "@jupyter-widgets/base",
            "_view_module_version": "1.2.0",
            "_view_name": "StyleView",
            "description_width": ""
          }
        },
        "931a3312609541f6932bcd8a26ac930b": {
          "model_module": "@jupyter-widgets/base",
          "model_name": "LayoutModel",
          "model_module_version": "1.2.0",
          "state": {
            "_model_module": "@jupyter-widgets/base",
            "_model_module_version": "1.2.0",
            "_model_name": "LayoutModel",
            "_view_count": null,
            "_view_module": "@jupyter-widgets/base",
            "_view_module_version": "1.2.0",
            "_view_name": "LayoutView",
            "align_content": null,
            "align_items": null,
            "align_self": null,
            "border": null,
            "bottom": null,
            "display": null,
            "flex": null,
            "flex_flow": null,
            "grid_area": null,
            "grid_auto_columns": null,
            "grid_auto_flow": null,
            "grid_auto_rows": null,
            "grid_column": null,
            "grid_gap": null,
            "grid_row": null,
            "grid_template_areas": null,
            "grid_template_columns": null,
            "grid_template_rows": null,
            "height": null,
            "justify_content": null,
            "justify_items": null,
            "left": null,
            "margin": null,
            "max_height": null,
            "max_width": null,
            "min_height": null,
            "min_width": null,
            "object_fit": null,
            "object_position": null,
            "order": null,
            "overflow": null,
            "overflow_x": null,
            "overflow_y": null,
            "padding": null,
            "right": null,
            "top": null,
            "visibility": null,
            "width": null
          }
        },
        "9f39960a66d6451daa0ca58e9fb75eaa": {
          "model_module": "@jupyter-widgets/controls",
          "model_name": "ProgressStyleModel",
          "model_module_version": "1.5.0",
          "state": {
            "_model_module": "@jupyter-widgets/controls",
            "_model_module_version": "1.5.0",
            "_model_name": "ProgressStyleModel",
            "_view_count": null,
            "_view_module": "@jupyter-widgets/base",
            "_view_module_version": "1.2.0",
            "_view_name": "StyleView",
            "bar_color": null,
            "description_width": ""
          }
        },
        "0cb0243f85b247adb11c11edac049399": {
          "model_module": "@jupyter-widgets/base",
          "model_name": "LayoutModel",
          "model_module_version": "1.2.0",
          "state": {
            "_model_module": "@jupyter-widgets/base",
            "_model_module_version": "1.2.0",
            "_model_name": "LayoutModel",
            "_view_count": null,
            "_view_module": "@jupyter-widgets/base",
            "_view_module_version": "1.2.0",
            "_view_name": "LayoutView",
            "align_content": null,
            "align_items": null,
            "align_self": null,
            "border": null,
            "bottom": null,
            "display": null,
            "flex": null,
            "flex_flow": null,
            "grid_area": null,
            "grid_auto_columns": null,
            "grid_auto_flow": null,
            "grid_auto_rows": null,
            "grid_column": null,
            "grid_gap": null,
            "grid_row": null,
            "grid_template_areas": null,
            "grid_template_columns": null,
            "grid_template_rows": null,
            "height": null,
            "justify_content": null,
            "justify_items": null,
            "left": null,
            "margin": null,
            "max_height": null,
            "max_width": null,
            "min_height": null,
            "min_width": null,
            "object_fit": null,
            "object_position": null,
            "order": null,
            "overflow": null,
            "overflow_x": null,
            "overflow_y": null,
            "padding": null,
            "right": null,
            "top": null,
            "visibility": null,
            "width": null
          }
        },
        "66eac4ac5f584326a31f3cda2562419d": {
          "model_module": "@jupyter-widgets/controls",
          "model_name": "DescriptionStyleModel",
          "model_module_version": "1.5.0",
          "state": {
            "_model_module": "@jupyter-widgets/controls",
            "_model_module_version": "1.5.0",
            "_model_name": "DescriptionStyleModel",
            "_view_count": null,
            "_view_module": "@jupyter-widgets/base",
            "_view_module_version": "1.2.0",
            "_view_name": "StyleView",
            "description_width": ""
          }
        },
        "454c1142b3834a7297c2264e4ca5dc03": {
          "model_module": "@jupyter-widgets/controls",
          "model_name": "HBoxModel",
          "model_module_version": "1.5.0",
          "state": {
            "_dom_classes": [],
            "_model_module": "@jupyter-widgets/controls",
            "_model_module_version": "1.5.0",
            "_model_name": "HBoxModel",
            "_view_count": null,
            "_view_module": "@jupyter-widgets/controls",
            "_view_module_version": "1.5.0",
            "_view_name": "HBoxView",
            "box_style": "",
            "children": [
              "IPY_MODEL_456c5098e19e48c8b77f4b5b996478ea",
              "IPY_MODEL_e89c41aaa0b94214b206fef618e09d7c",
              "IPY_MODEL_79a909e3fd544253a5261c4f20186267"
            ],
            "layout": "IPY_MODEL_14238b0bfc4a49188caa8b6811881837"
          }
        },
        "456c5098e19e48c8b77f4b5b996478ea": {
          "model_module": "@jupyter-widgets/controls",
          "model_name": "HTMLModel",
          "model_module_version": "1.5.0",
          "state": {
            "_dom_classes": [],
            "_model_module": "@jupyter-widgets/controls",
            "_model_module_version": "1.5.0",
            "_model_name": "HTMLModel",
            "_view_count": null,
            "_view_module": "@jupyter-widgets/controls",
            "_view_module_version": "1.5.0",
            "_view_name": "HTMLView",
            "description": "",
            "description_tooltip": null,
            "layout": "IPY_MODEL_73037576ab0743b8a9a0f94384e023bb",
            "placeholder": "​",
            "style": "IPY_MODEL_a728043d0ca7493b9e42aaa5261c64d4",
            "value": "100%"
          }
        },
        "e89c41aaa0b94214b206fef618e09d7c": {
          "model_module": "@jupyter-widgets/controls",
          "model_name": "FloatProgressModel",
          "model_module_version": "1.5.0",
          "state": {
            "_dom_classes": [],
            "_model_module": "@jupyter-widgets/controls",
            "_model_module_version": "1.5.0",
            "_model_name": "FloatProgressModel",
            "_view_count": null,
            "_view_module": "@jupyter-widgets/controls",
            "_view_module_version": "1.5.0",
            "_view_name": "ProgressView",
            "bar_style": "success",
            "description": "",
            "description_tooltip": null,
            "layout": "IPY_MODEL_8960e3c9963d4d20912ed13174a695d8",
            "max": 275,
            "min": 0,
            "orientation": "horizontal",
            "style": "IPY_MODEL_20ea1d5632654e6f888ba90cc8d5896d",
            "value": 275
          }
        },
        "79a909e3fd544253a5261c4f20186267": {
          "model_module": "@jupyter-widgets/controls",
          "model_name": "HTMLModel",
          "model_module_version": "1.5.0",
          "state": {
            "_dom_classes": [],
            "_model_module": "@jupyter-widgets/controls",
            "_model_module_version": "1.5.0",
            "_model_name": "HTMLModel",
            "_view_count": null,
            "_view_module": "@jupyter-widgets/controls",
            "_view_module_version": "1.5.0",
            "_view_name": "HTMLView",
            "description": "",
            "description_tooltip": null,
            "layout": "IPY_MODEL_652367a37bb840799c0ad01bdcc5c4a9",
            "placeholder": "​",
            "style": "IPY_MODEL_5c8991d909514dfbaa4c585c2fd5abcd",
            "value": " 275/275 [19:44&lt;00:00,  3.91s/it]"
          }
        },
        "14238b0bfc4a49188caa8b6811881837": {
          "model_module": "@jupyter-widgets/base",
          "model_name": "LayoutModel",
          "model_module_version": "1.2.0",
          "state": {
            "_model_module": "@jupyter-widgets/base",
            "_model_module_version": "1.2.0",
            "_model_name": "LayoutModel",
            "_view_count": null,
            "_view_module": "@jupyter-widgets/base",
            "_view_module_version": "1.2.0",
            "_view_name": "LayoutView",
            "align_content": null,
            "align_items": null,
            "align_self": null,
            "border": null,
            "bottom": null,
            "display": null,
            "flex": null,
            "flex_flow": null,
            "grid_area": null,
            "grid_auto_columns": null,
            "grid_auto_flow": null,
            "grid_auto_rows": null,
            "grid_column": null,
            "grid_gap": null,
            "grid_row": null,
            "grid_template_areas": null,
            "grid_template_columns": null,
            "grid_template_rows": null,
            "height": null,
            "justify_content": null,
            "justify_items": null,
            "left": null,
            "margin": null,
            "max_height": null,
            "max_width": null,
            "min_height": null,
            "min_width": null,
            "object_fit": null,
            "object_position": null,
            "order": null,
            "overflow": null,
            "overflow_x": null,
            "overflow_y": null,
            "padding": null,
            "right": null,
            "top": null,
            "visibility": null,
            "width": null
          }
        },
        "73037576ab0743b8a9a0f94384e023bb": {
          "model_module": "@jupyter-widgets/base",
          "model_name": "LayoutModel",
          "model_module_version": "1.2.0",
          "state": {
            "_model_module": "@jupyter-widgets/base",
            "_model_module_version": "1.2.0",
            "_model_name": "LayoutModel",
            "_view_count": null,
            "_view_module": "@jupyter-widgets/base",
            "_view_module_version": "1.2.0",
            "_view_name": "LayoutView",
            "align_content": null,
            "align_items": null,
            "align_self": null,
            "border": null,
            "bottom": null,
            "display": null,
            "flex": null,
            "flex_flow": null,
            "grid_area": null,
            "grid_auto_columns": null,
            "grid_auto_flow": null,
            "grid_auto_rows": null,
            "grid_column": null,
            "grid_gap": null,
            "grid_row": null,
            "grid_template_areas": null,
            "grid_template_columns": null,
            "grid_template_rows": null,
            "height": null,
            "justify_content": null,
            "justify_items": null,
            "left": null,
            "margin": null,
            "max_height": null,
            "max_width": null,
            "min_height": null,
            "min_width": null,
            "object_fit": null,
            "object_position": null,
            "order": null,
            "overflow": null,
            "overflow_x": null,
            "overflow_y": null,
            "padding": null,
            "right": null,
            "top": null,
            "visibility": null,
            "width": null
          }
        },
        "a728043d0ca7493b9e42aaa5261c64d4": {
          "model_module": "@jupyter-widgets/controls",
          "model_name": "DescriptionStyleModel",
          "model_module_version": "1.5.0",
          "state": {
            "_model_module": "@jupyter-widgets/controls",
            "_model_module_version": "1.5.0",
            "_model_name": "DescriptionStyleModel",
            "_view_count": null,
            "_view_module": "@jupyter-widgets/base",
            "_view_module_version": "1.2.0",
            "_view_name": "StyleView",
            "description_width": ""
          }
        },
        "8960e3c9963d4d20912ed13174a695d8": {
          "model_module": "@jupyter-widgets/base",
          "model_name": "LayoutModel",
          "model_module_version": "1.2.0",
          "state": {
            "_model_module": "@jupyter-widgets/base",
            "_model_module_version": "1.2.0",
            "_model_name": "LayoutModel",
            "_view_count": null,
            "_view_module": "@jupyter-widgets/base",
            "_view_module_version": "1.2.0",
            "_view_name": "LayoutView",
            "align_content": null,
            "align_items": null,
            "align_self": null,
            "border": null,
            "bottom": null,
            "display": null,
            "flex": null,
            "flex_flow": null,
            "grid_area": null,
            "grid_auto_columns": null,
            "grid_auto_flow": null,
            "grid_auto_rows": null,
            "grid_column": null,
            "grid_gap": null,
            "grid_row": null,
            "grid_template_areas": null,
            "grid_template_columns": null,
            "grid_template_rows": null,
            "height": null,
            "justify_content": null,
            "justify_items": null,
            "left": null,
            "margin": null,
            "max_height": null,
            "max_width": null,
            "min_height": null,
            "min_width": null,
            "object_fit": null,
            "object_position": null,
            "order": null,
            "overflow": null,
            "overflow_x": null,
            "overflow_y": null,
            "padding": null,
            "right": null,
            "top": null,
            "visibility": null,
            "width": null
          }
        },
        "20ea1d5632654e6f888ba90cc8d5896d": {
          "model_module": "@jupyter-widgets/controls",
          "model_name": "ProgressStyleModel",
          "model_module_version": "1.5.0",
          "state": {
            "_model_module": "@jupyter-widgets/controls",
            "_model_module_version": "1.5.0",
            "_model_name": "ProgressStyleModel",
            "_view_count": null,
            "_view_module": "@jupyter-widgets/base",
            "_view_module_version": "1.2.0",
            "_view_name": "StyleView",
            "bar_color": null,
            "description_width": ""
          }
        },
        "652367a37bb840799c0ad01bdcc5c4a9": {
          "model_module": "@jupyter-widgets/base",
          "model_name": "LayoutModel",
          "model_module_version": "1.2.0",
          "state": {
            "_model_module": "@jupyter-widgets/base",
            "_model_module_version": "1.2.0",
            "_model_name": "LayoutModel",
            "_view_count": null,
            "_view_module": "@jupyter-widgets/base",
            "_view_module_version": "1.2.0",
            "_view_name": "LayoutView",
            "align_content": null,
            "align_items": null,
            "align_self": null,
            "border": null,
            "bottom": null,
            "display": null,
            "flex": null,
            "flex_flow": null,
            "grid_area": null,
            "grid_auto_columns": null,
            "grid_auto_flow": null,
            "grid_auto_rows": null,
            "grid_column": null,
            "grid_gap": null,
            "grid_row": null,
            "grid_template_areas": null,
            "grid_template_columns": null,
            "grid_template_rows": null,
            "height": null,
            "justify_content": null,
            "justify_items": null,
            "left": null,
            "margin": null,
            "max_height": null,
            "max_width": null,
            "min_height": null,
            "min_width": null,
            "object_fit": null,
            "object_position": null,
            "order": null,
            "overflow": null,
            "overflow_x": null,
            "overflow_y": null,
            "padding": null,
            "right": null,
            "top": null,
            "visibility": null,
            "width": null
          }
        },
        "5c8991d909514dfbaa4c585c2fd5abcd": {
          "model_module": "@jupyter-widgets/controls",
          "model_name": "DescriptionStyleModel",
          "model_module_version": "1.5.0",
          "state": {
            "_model_module": "@jupyter-widgets/controls",
            "_model_module_version": "1.5.0",
            "_model_name": "DescriptionStyleModel",
            "_view_count": null,
            "_view_module": "@jupyter-widgets/base",
            "_view_module_version": "1.2.0",
            "_view_name": "StyleView",
            "description_width": ""
          }
        }
      }
    }
  },
  "cells": [
    {
      "cell_type": "markdown",
      "source": [
        "# EVALUATING PERFORMANCE ON THE AUG CLASSIFIER AND GENERATE NEW IMAGE QUALITY DATASET\n",
        "\n",
        "Here,we perform testing of the augmented image classifier and generate new target for good and bad images."
      ],
      "metadata": {
        "id": "6_EJVIOE20D6"
      }
    },
    {
      "cell_type": "code",
      "source": [
        "from google.colab import drive\n",
        "drive.mount('/content/drive')"
      ],
      "metadata": {
        "colab": {
          "base_uri": "https://localhost:8080/"
        },
        "id": "DA-bSHa2zkCn",
        "outputId": "a1cd15d2-75c5-4557-b827-99c1f62939d3"
      },
      "execution_count": 3,
      "outputs": [
        {
          "output_type": "stream",
          "name": "stdout",
          "text": [
            "Mounted at /content/drive\n"
          ]
        }
      ]
    },
    {
      "cell_type": "code",
      "source": [
        "!pip install -q efficientnet_pytorch"
      ],
      "metadata": {
        "colab": {
          "base_uri": "https://localhost:8080/"
        },
        "id": "wu-wne7g76lt",
        "outputId": "22804dbb-cfb1-4da2-a2a9-c10b8715416c"
      },
      "execution_count": 4,
      "outputs": [
        {
          "output_type": "stream",
          "name": "stdout",
          "text": [
            "  Building wheel for efficientnet-pytorch (setup.py) ... \u001b[?25l\u001b[?25hdone\n"
          ]
        }
      ]
    },
    {
      "cell_type": "code",
      "source": [
        "import numpy as np\n",
        "import pandas as pd\n",
        "import os\n",
        "import cv2\n",
        "import random\n",
        "import time\n",
        "import re, gc\n",
        "%matplotlib inline\n",
        "%config InlineBackend.figure_format = 'retina'\n",
        "import matplotlib.pyplot as plt\n",
        "import seaborn as sns\n",
        "from tabulate import tabulate\n",
        "\n",
        "from tqdm.notebook import tqdm\n",
        "from sklearn.preprocessing import LabelEncoder\n",
        "from PIL import Image, ImageEnhance, ImageFilter\n",
        "from sklearn.model_selection import train_test_split\n",
        "from sklearn.model_selection import KFold\n",
        "from sklearn.metrics import roc_auc_score\n",
        "from collections import OrderedDict\n",
        "import torch\n",
        "\n",
        "# Neural networks can be constructed using the torch.nn package.\n",
        "import torch.nn as nn\n",
        "import torch.nn.functional as F\n",
        "import torch.optim as optim\n",
        "from torch.optim import Adam, lr_scheduler\n",
        "from torch.utils.data.sampler import SubsetRandomSampler,  WeightedRandomSampler\n",
        "from torch.utils.data import Dataset\n",
        "import torchvision\n",
        "from torchvision import datasets, transforms, models\n",
        "from efficientnet_pytorch import EfficientNet\n",
        "\n",
        "import albumentations"
      ],
      "metadata": {
        "id": "wVUt4z28ztKE"
      },
      "execution_count": 5,
      "outputs": []
    },
    {
      "cell_type": "markdown",
      "source": [
        "## Load the data"
      ],
      "metadata": {
        "id": "DPkmw3dzz3ZB"
      }
    },
    {
      "cell_type": "code",
      "source": [
        "print(os.getcwd())\n",
        "path = os.path.abspath('/content/drive/MyDrive/Colab Notebooks')\n",
        "os.chdir(path)\n",
        "print(path)\n",
        "BASE_PATH = 'jpeg'\n",
        "print(BASE_PATH)"
      ],
      "metadata": {
        "colab": {
          "base_uri": "https://localhost:8080/"
        },
        "id": "bkD99SuNz037",
        "outputId": "a3e66c09-146f-4c5f-a7c3-1935925e1c51"
      },
      "execution_count": 6,
      "outputs": [
        {
          "output_type": "stream",
          "name": "stdout",
          "text": [
            "/content\n",
            "/content/drive/MyDrive/Colab Notebooks\n",
            "jpeg\n"
          ]
        }
      ]
    },
    {
      "cell_type": "code",
      "source": [
        "WIDTH = 224\n",
        "HEIGHT = 224\n",
        "INPUT_SIZE = 224\n",
        "TRAIN_BATCH_SIZE = 32\n",
        "VALID_BATCH_SIZE = 32\n",
        "EPOCHS = 5\n",
        "LR = 1e-3\n",
        "FOLDS = 10\n",
        "SEED = 12321\n",
        "VERBOSE_STEP = 1\n",
        "BEST_AUC = 0\n",
        "\n",
        "MEAN = (0.485, 0.456, 0.406)\n",
        "STD = (0.229, 0.224, 0.225)\n",
        "MODEL_NAME = \"efficientnet\"\n",
        "NUM_CLASSES = 2"
      ],
      "metadata": {
        "id": "g2Uz0Y1-6w1m"
      },
      "execution_count": 7,
      "outputs": []
    },
    {
      "cell_type": "markdown",
      "source": [
        "## Load the image metadata"
      ],
      "metadata": {
        "id": "eaO2P5lrBHQJ"
      }
    },
    {
      "cell_type": "code",
      "execution_count": 8,
      "metadata": {
        "colab": {
          "base_uri": "https://localhost:8080/",
          "height": 206
        },
        "id": "GA7kOohUlhFz",
        "outputId": "c2bd8b01-4b2b-49ed-8727-a231a626e65d"
      },
      "outputs": [
        {
          "output_type": "execute_result",
          "data": {
            "text/plain": [
              "             image_name benign_malignant  target                    images\n",
              "0  aug/AUG_ISIC_7056748           benign       0  aug/AUG_ISIC_7056748.jpg\n",
              "1  aug/AUG_ISIC_0927854           benign       0  aug/AUG_ISIC_0927854.jpg\n",
              "2  aug/AUG_ISIC_0034292           benign       0  aug/AUG_ISIC_0034292.jpg\n",
              "3  aug/AUG_ISIC_0030688           benign       0  aug/AUG_ISIC_0030688.jpg\n",
              "4  aug/AUG_ISIC_0031478           benign       0  aug/AUG_ISIC_0031478.jpg"
            ],
            "text/html": [
              "\n",
              "  <div id=\"df-ca744420-8706-473f-b76c-ec6106d80396\">\n",
              "    <div class=\"colab-df-container\">\n",
              "      <div>\n",
              "<style scoped>\n",
              "    .dataframe tbody tr th:only-of-type {\n",
              "        vertical-align: middle;\n",
              "    }\n",
              "\n",
              "    .dataframe tbody tr th {\n",
              "        vertical-align: top;\n",
              "    }\n",
              "\n",
              "    .dataframe thead th {\n",
              "        text-align: right;\n",
              "    }\n",
              "</style>\n",
              "<table border=\"1\" class=\"dataframe\">\n",
              "  <thead>\n",
              "    <tr style=\"text-align: right;\">\n",
              "      <th></th>\n",
              "      <th>image_name</th>\n",
              "      <th>benign_malignant</th>\n",
              "      <th>target</th>\n",
              "      <th>images</th>\n",
              "    </tr>\n",
              "  </thead>\n",
              "  <tbody>\n",
              "    <tr>\n",
              "      <th>0</th>\n",
              "      <td>aug/AUG_ISIC_7056748</td>\n",
              "      <td>benign</td>\n",
              "      <td>0</td>\n",
              "      <td>aug/AUG_ISIC_7056748.jpg</td>\n",
              "    </tr>\n",
              "    <tr>\n",
              "      <th>1</th>\n",
              "      <td>aug/AUG_ISIC_0927854</td>\n",
              "      <td>benign</td>\n",
              "      <td>0</td>\n",
              "      <td>aug/AUG_ISIC_0927854.jpg</td>\n",
              "    </tr>\n",
              "    <tr>\n",
              "      <th>2</th>\n",
              "      <td>aug/AUG_ISIC_0034292</td>\n",
              "      <td>benign</td>\n",
              "      <td>0</td>\n",
              "      <td>aug/AUG_ISIC_0034292.jpg</td>\n",
              "    </tr>\n",
              "    <tr>\n",
              "      <th>3</th>\n",
              "      <td>aug/AUG_ISIC_0030688</td>\n",
              "      <td>benign</td>\n",
              "      <td>0</td>\n",
              "      <td>aug/AUG_ISIC_0030688.jpg</td>\n",
              "    </tr>\n",
              "    <tr>\n",
              "      <th>4</th>\n",
              "      <td>aug/AUG_ISIC_0031478</td>\n",
              "      <td>benign</td>\n",
              "      <td>0</td>\n",
              "      <td>aug/AUG_ISIC_0031478.jpg</td>\n",
              "    </tr>\n",
              "  </tbody>\n",
              "</table>\n",
              "</div>\n",
              "      <button class=\"colab-df-convert\" onclick=\"convertToInteractive('df-ca744420-8706-473f-b76c-ec6106d80396')\"\n",
              "              title=\"Convert this dataframe to an interactive table.\"\n",
              "              style=\"display:none;\">\n",
              "        \n",
              "  <svg xmlns=\"http://www.w3.org/2000/svg\" height=\"24px\"viewBox=\"0 0 24 24\"\n",
              "       width=\"24px\">\n",
              "    <path d=\"M0 0h24v24H0V0z\" fill=\"none\"/>\n",
              "    <path d=\"M18.56 5.44l.94 2.06.94-2.06 2.06-.94-2.06-.94-.94-2.06-.94 2.06-2.06.94zm-11 1L8.5 8.5l.94-2.06 2.06-.94-2.06-.94L8.5 2.5l-.94 2.06-2.06.94zm10 10l.94 2.06.94-2.06 2.06-.94-2.06-.94-.94-2.06-.94 2.06-2.06.94z\"/><path d=\"M17.41 7.96l-1.37-1.37c-.4-.4-.92-.59-1.43-.59-.52 0-1.04.2-1.43.59L10.3 9.45l-7.72 7.72c-.78.78-.78 2.05 0 2.83L4 21.41c.39.39.9.59 1.41.59.51 0 1.02-.2 1.41-.59l7.78-7.78 2.81-2.81c.8-.78.8-2.07 0-2.86zM5.41 20L4 18.59l7.72-7.72 1.47 1.35L5.41 20z\"/>\n",
              "  </svg>\n",
              "      </button>\n",
              "      \n",
              "  <style>\n",
              "    .colab-df-container {\n",
              "      display:flex;\n",
              "      flex-wrap:wrap;\n",
              "      gap: 12px;\n",
              "    }\n",
              "\n",
              "    .colab-df-convert {\n",
              "      background-color: #E8F0FE;\n",
              "      border: none;\n",
              "      border-radius: 50%;\n",
              "      cursor: pointer;\n",
              "      display: none;\n",
              "      fill: #1967D2;\n",
              "      height: 32px;\n",
              "      padding: 0 0 0 0;\n",
              "      width: 32px;\n",
              "    }\n",
              "\n",
              "    .colab-df-convert:hover {\n",
              "      background-color: #E2EBFA;\n",
              "      box-shadow: 0px 1px 2px rgba(60, 64, 67, 0.3), 0px 1px 3px 1px rgba(60, 64, 67, 0.15);\n",
              "      fill: #174EA6;\n",
              "    }\n",
              "\n",
              "    [theme=dark] .colab-df-convert {\n",
              "      background-color: #3B4455;\n",
              "      fill: #D2E3FC;\n",
              "    }\n",
              "\n",
              "    [theme=dark] .colab-df-convert:hover {\n",
              "      background-color: #434B5C;\n",
              "      box-shadow: 0px 1px 3px 1px rgba(0, 0, 0, 0.15);\n",
              "      filter: drop-shadow(0px 1px 2px rgba(0, 0, 0, 0.3));\n",
              "      fill: #FFFFFF;\n",
              "    }\n",
              "  </style>\n",
              "\n",
              "      <script>\n",
              "        const buttonEl =\n",
              "          document.querySelector('#df-ca744420-8706-473f-b76c-ec6106d80396 button.colab-df-convert');\n",
              "        buttonEl.style.display =\n",
              "          google.colab.kernel.accessAllowed ? 'block' : 'none';\n",
              "\n",
              "        async function convertToInteractive(key) {\n",
              "          const element = document.querySelector('#df-ca744420-8706-473f-b76c-ec6106d80396');\n",
              "          const dataTable =\n",
              "            await google.colab.kernel.invokeFunction('convertToInteractive',\n",
              "                                                     [key], {});\n",
              "          if (!dataTable) return;\n",
              "\n",
              "          const docLinkHtml = 'Like what you see? Visit the ' +\n",
              "            '<a target=\"_blank\" href=https://colab.research.google.com/notebooks/data_table.ipynb>data table notebook</a>'\n",
              "            + ' to learn more about interactive tables.';\n",
              "          element.innerHTML = '';\n",
              "          dataTable['output_type'] = 'display_data';\n",
              "          await google.colab.output.renderOutput(dataTable, element);\n",
              "          const docLink = document.createElement('div');\n",
              "          docLink.innerHTML = docLinkHtml;\n",
              "          element.appendChild(docLink);\n",
              "        }\n",
              "      </script>\n",
              "    </div>\n",
              "  </div>\n",
              "  "
            ]
          },
          "metadata": {},
          "execution_count": 8
        }
      ],
      "source": [
        "train_df = pd.read_csv(os.path.join(path,\"aug_train_sample.csv\"))\n",
        "train_df.head()"
      ]
    },
    {
      "cell_type": "code",
      "source": [
        "test_df = pd.read_csv(os.path.join(path,\"aug_test_sample.csv\"))\n",
        "test_df.head()"
      ],
      "metadata": {
        "colab": {
          "base_uri": "https://localhost:8080/",
          "height": 206
        },
        "id": "PMFGPf_j4D5b",
        "outputId": "923332c4-a02f-492d-abd5-76cf40dc5774"
      },
      "execution_count": 9,
      "outputs": [
        {
          "output_type": "execute_result",
          "data": {
            "text/plain": [
              "             image_name benign_malignant  target                    images\n",
              "0  aug/AUG_ISIC_0031542        malignant       1  aug/AUG_ISIC_0031542.jpg\n",
              "1  aug/AUG_ISIC_0033674           benign       0  aug/AUG_ISIC_0033674.jpg\n",
              "2  aug/AUG_ISIC_0031240           benign       0  aug/AUG_ISIC_0031240.jpg\n",
              "3  aug/AUG_ISIC_7658133           benign       0  aug/AUG_ISIC_7658133.jpg\n",
              "4  aug/AUG_ISIC_0033463           benign       0  aug/AUG_ISIC_0033463.jpg"
            ],
            "text/html": [
              "\n",
              "  <div id=\"df-46da32a7-2a8e-4e7f-94be-07d7dd1c8798\">\n",
              "    <div class=\"colab-df-container\">\n",
              "      <div>\n",
              "<style scoped>\n",
              "    .dataframe tbody tr th:only-of-type {\n",
              "        vertical-align: middle;\n",
              "    }\n",
              "\n",
              "    .dataframe tbody tr th {\n",
              "        vertical-align: top;\n",
              "    }\n",
              "\n",
              "    .dataframe thead th {\n",
              "        text-align: right;\n",
              "    }\n",
              "</style>\n",
              "<table border=\"1\" class=\"dataframe\">\n",
              "  <thead>\n",
              "    <tr style=\"text-align: right;\">\n",
              "      <th></th>\n",
              "      <th>image_name</th>\n",
              "      <th>benign_malignant</th>\n",
              "      <th>target</th>\n",
              "      <th>images</th>\n",
              "    </tr>\n",
              "  </thead>\n",
              "  <tbody>\n",
              "    <tr>\n",
              "      <th>0</th>\n",
              "      <td>aug/AUG_ISIC_0031542</td>\n",
              "      <td>malignant</td>\n",
              "      <td>1</td>\n",
              "      <td>aug/AUG_ISIC_0031542.jpg</td>\n",
              "    </tr>\n",
              "    <tr>\n",
              "      <th>1</th>\n",
              "      <td>aug/AUG_ISIC_0033674</td>\n",
              "      <td>benign</td>\n",
              "      <td>0</td>\n",
              "      <td>aug/AUG_ISIC_0033674.jpg</td>\n",
              "    </tr>\n",
              "    <tr>\n",
              "      <th>2</th>\n",
              "      <td>aug/AUG_ISIC_0031240</td>\n",
              "      <td>benign</td>\n",
              "      <td>0</td>\n",
              "      <td>aug/AUG_ISIC_0031240.jpg</td>\n",
              "    </tr>\n",
              "    <tr>\n",
              "      <th>3</th>\n",
              "      <td>aug/AUG_ISIC_7658133</td>\n",
              "      <td>benign</td>\n",
              "      <td>0</td>\n",
              "      <td>aug/AUG_ISIC_7658133.jpg</td>\n",
              "    </tr>\n",
              "    <tr>\n",
              "      <th>4</th>\n",
              "      <td>aug/AUG_ISIC_0033463</td>\n",
              "      <td>benign</td>\n",
              "      <td>0</td>\n",
              "      <td>aug/AUG_ISIC_0033463.jpg</td>\n",
              "    </tr>\n",
              "  </tbody>\n",
              "</table>\n",
              "</div>\n",
              "      <button class=\"colab-df-convert\" onclick=\"convertToInteractive('df-46da32a7-2a8e-4e7f-94be-07d7dd1c8798')\"\n",
              "              title=\"Convert this dataframe to an interactive table.\"\n",
              "              style=\"display:none;\">\n",
              "        \n",
              "  <svg xmlns=\"http://www.w3.org/2000/svg\" height=\"24px\"viewBox=\"0 0 24 24\"\n",
              "       width=\"24px\">\n",
              "    <path d=\"M0 0h24v24H0V0z\" fill=\"none\"/>\n",
              "    <path d=\"M18.56 5.44l.94 2.06.94-2.06 2.06-.94-2.06-.94-.94-2.06-.94 2.06-2.06.94zm-11 1L8.5 8.5l.94-2.06 2.06-.94-2.06-.94L8.5 2.5l-.94 2.06-2.06.94zm10 10l.94 2.06.94-2.06 2.06-.94-2.06-.94-.94-2.06-.94 2.06-2.06.94z\"/><path d=\"M17.41 7.96l-1.37-1.37c-.4-.4-.92-.59-1.43-.59-.52 0-1.04.2-1.43.59L10.3 9.45l-7.72 7.72c-.78.78-.78 2.05 0 2.83L4 21.41c.39.39.9.59 1.41.59.51 0 1.02-.2 1.41-.59l7.78-7.78 2.81-2.81c.8-.78.8-2.07 0-2.86zM5.41 20L4 18.59l7.72-7.72 1.47 1.35L5.41 20z\"/>\n",
              "  </svg>\n",
              "      </button>\n",
              "      \n",
              "  <style>\n",
              "    .colab-df-container {\n",
              "      display:flex;\n",
              "      flex-wrap:wrap;\n",
              "      gap: 12px;\n",
              "    }\n",
              "\n",
              "    .colab-df-convert {\n",
              "      background-color: #E8F0FE;\n",
              "      border: none;\n",
              "      border-radius: 50%;\n",
              "      cursor: pointer;\n",
              "      display: none;\n",
              "      fill: #1967D2;\n",
              "      height: 32px;\n",
              "      padding: 0 0 0 0;\n",
              "      width: 32px;\n",
              "    }\n",
              "\n",
              "    .colab-df-convert:hover {\n",
              "      background-color: #E2EBFA;\n",
              "      box-shadow: 0px 1px 2px rgba(60, 64, 67, 0.3), 0px 1px 3px 1px rgba(60, 64, 67, 0.15);\n",
              "      fill: #174EA6;\n",
              "    }\n",
              "\n",
              "    [theme=dark] .colab-df-convert {\n",
              "      background-color: #3B4455;\n",
              "      fill: #D2E3FC;\n",
              "    }\n",
              "\n",
              "    [theme=dark] .colab-df-convert:hover {\n",
              "      background-color: #434B5C;\n",
              "      box-shadow: 0px 1px 3px 1px rgba(0, 0, 0, 0.15);\n",
              "      filter: drop-shadow(0px 1px 2px rgba(0, 0, 0, 0.3));\n",
              "      fill: #FFFFFF;\n",
              "    }\n",
              "  </style>\n",
              "\n",
              "      <script>\n",
              "        const buttonEl =\n",
              "          document.querySelector('#df-46da32a7-2a8e-4e7f-94be-07d7dd1c8798 button.colab-df-convert');\n",
              "        buttonEl.style.display =\n",
              "          google.colab.kernel.accessAllowed ? 'block' : 'none';\n",
              "\n",
              "        async function convertToInteractive(key) {\n",
              "          const element = document.querySelector('#df-46da32a7-2a8e-4e7f-94be-07d7dd1c8798');\n",
              "          const dataTable =\n",
              "            await google.colab.kernel.invokeFunction('convertToInteractive',\n",
              "                                                     [key], {});\n",
              "          if (!dataTable) return;\n",
              "\n",
              "          const docLinkHtml = 'Like what you see? Visit the ' +\n",
              "            '<a target=\"_blank\" href=https://colab.research.google.com/notebooks/data_table.ipynb>data table notebook</a>'\n",
              "            + ' to learn more about interactive tables.';\n",
              "          element.innerHTML = '';\n",
              "          dataTable['output_type'] = 'display_data';\n",
              "          await google.colab.output.renderOutput(dataTable, element);\n",
              "          const docLink = document.createElement('div');\n",
              "          docLink.innerHTML = docLinkHtml;\n",
              "          element.appendChild(docLink);\n",
              "        }\n",
              "      </script>\n",
              "    </div>\n",
              "  </div>\n",
              "  "
            ]
          },
          "metadata": {},
          "execution_count": 9
        }
      ]
    },
    {
      "cell_type": "markdown",
      "metadata": {
        "id": "wGT3nMA_lhF0"
      },
      "source": [
        "### Preprocessing\n"
      ]
    },
    {
      "cell_type": "code",
      "execution_count": 11,
      "metadata": {
        "id": "Fjgnpl3ZlhF3"
      },
      "outputs": [],
      "source": [
        "# Covert columns to categorical type. \n",
        "train_df = train_df.astype({'benign_malignant':'category','target':'category'})\n",
        "test_df = test_df.astype({'benign_malignant':'category','target':'category'})"
      ]
    },
    {
      "cell_type": "markdown",
      "metadata": {
        "id": "oKf5c0iFlhF8"
      },
      "source": [
        "### Helper functions are defined below"
      ]
    },
    {
      "cell_type": "code",
      "execution_count": 13,
      "metadata": {
        "id": "957XeQgslhGJ"
      },
      "outputs": [],
      "source": [
        "SEED = 12321\n",
        "# Seed everything\n",
        "def seed_everything(seed):\n",
        "    random.seed(seed)\n",
        "    os.environ['PYTHONHASHSEED'] = str(seed)\n",
        "    np.random.seed(seed)\n",
        "    torch.manual_seed(seed)\n",
        "    torch.cuda.manual_seed(seed)\n",
        "    torch.backends.cudnn.deterministic = True\n",
        "    torch.backends.cudnn.benchmark = True\n",
        "\n",
        "seed_everything(SEED)"
      ]
    },
    {
      "cell_type": "code",
      "execution_count": 14,
      "metadata": {
        "id": "yXNuZPqHqPZb"
      },
      "outputs": [],
      "source": [
        "def plot_histogram(data, plot_properties):\n",
        "  \"\"\" Generic function to plot a histogram.\n",
        "      param: data- is an 1D array of data\n",
        "      param: plot_properties- a dictionary of properties like:\n",
        "      {\"title\":\"\",\"xlabel\":\"\",\"ylabel\":\"\"}\n",
        "  \"\"\"\n",
        "  plt.figure(figsize=(10, 6))\n",
        "  plt.hist(data)\n",
        "  plt.grid(False)\n",
        "  plt.title(plot_properties[\"title\"])\n",
        "  plt.xlabel(plot_properties[\"xlabel\"])\n",
        "  plt.ylabel(plot_properties[\"ylabel\"])\n",
        "  plt.show()\n",
        "\n",
        "\n",
        "def plot_box(data, plot_properties):\n",
        "  \"\"\" Generic function to plot a box plot.\n",
        "      param: data- is an 1D array of data\n",
        "      param: plot_properties- a dictionary of properties like:\n",
        "      {\"title\":\"\",\"xlabel\":\"\",\"ylabel\":\"\"}\n",
        "  \"\"\"\n",
        "  plt.figure(figsize=(10, 6))\n",
        "  plt.boxplot(data)\n",
        "  plt.grid(False)\n",
        "  plt.title(plot_properties[\"title\"])\n",
        "  plt.xlabel(plot_properties[\"xlabel\"])\n",
        "  plt.ylabel(plot_properties[\"ylabel\"])\n",
        "  plt.show()\n",
        "    \n",
        "def plot_count(data,plot_properties):\n",
        "    \"\"\" Generic for a count plot.\n",
        "      param: data- is an 1D array of data\n",
        "      param: plot_properties- a dictionary of properties like:\n",
        "      {\"title\":\"\",\"xlabel\":\"\",\"ylabel\":\"\", \"x\":\"\"}\n",
        "    \"\"\"\n",
        "    plt.figure(figsize=(10, 6))\n",
        "    chart = sns.countplot(data,x=plot_properties['x'],palette='Set2')\n",
        "    chart.set_xticklabels(chart.get_xticklabels(), \n",
        "                      rotation=45, horizontalalignment='right')\n",
        "    plt.title(plot_properties[\"title\"])\n",
        "    plt.xlabel(plot_properties[\"xlabel\"])\n",
        "    plt.ylabel(plot_properties[\"ylabel\"])\n",
        "    plt.show()\n",
        "\n",
        "def exploring_new_dataset(dataset):\n",
        "  \"\"\" This function performs the role of\n",
        "      displaying the common information about a dataset\n",
        "  \"\"\"\n",
        "  print(\"Sample length\",len(dataset))\n",
        "  print(dataset.groupby('benign_malignant').image_name.count())\n",
        "  plot_count(dataset.benign_malignant, \n",
        "               {\"title\":\"IMAGES BY GROUND TRUTH\",\n",
        "                \"xlabel\":\"BENIGN_MALIGNANT\",\"ylabel\":\"NUMBER OF IMAGES\",\"x\":\"benign_malignant\"})"
      ]
    },
    {
      "cell_type": "code",
      "execution_count": 15,
      "metadata": {
        "id": "2tTdZHGZlhF9"
      },
      "outputs": [],
      "source": [
        "def get_sample_from_df(sample,n):\n",
        "    for i in list(range(n,0, -1)):\n",
        "        if len(sample)>=i:\n",
        "            return sample.sample(n=i, random_state=SEED).index[:i]   \n",
        "    return [];\n",
        "\n",
        "\n",
        "def sample_by_patient(dataset,num_sample=1):\n",
        "  \"\"\" Get patient id as category.\n",
        "   Prepare two datasets:\n",
        "   for each patient_id\n",
        "       select get records\n",
        "         if malignant\n",
        "           sample num_sample\n",
        "         elif benign\n",
        "           sample num_sample\"\"\"\n",
        "  unique_patient_id = dataset.patient_id.cat.categories\n",
        "  malignant_df = dataset[dataset['target'] == 1]\n",
        "  benign_df = dataset[dataset['target'] == 0]\n",
        "  sample_indices = []\n",
        "  #samples per patient\n",
        "  for  patient_id in unique_patient_id:\n",
        "      patient_sample = malignant_df[malignant_df['patient_id']==patient_id]\n",
        "      if len(patient_sample):\n",
        "          sample_indices.extend(get_sample_from_df(patient_sample,num_sample))\n",
        "      else:\n",
        "          patient_sample = benign_df[benign_df['patient_id']==patient_id]\n",
        "          sample_indices.extend(get_sample_from_df(patient_sample,num_sample))\n",
        "\n",
        "  return dataset.loc[sample_indices]\n",
        "\n",
        "def perform_sampling(dataset,sampling_type=\"\", patient_group_sample=1):\n",
        "  \"\"\"function to perform sampling based on\n",
        "     the sampling type provided.\n",
        "     Return train, test dataset\n",
        "  \"\"\"\n",
        "  train = None\n",
        "  test = None\n",
        "  if sampling_type==\"PATIENT_GROUP\":\n",
        "    sample=sample_by_patient(dataset,patient_group_sample)\n",
        "    train, test = train_test_split(sample, test_size=0.2, shuffle=True, random_state=SEED)\n",
        "  else:\n",
        "    # default train_test split by 8:2\n",
        "    train, test = train_test_split(dataset, test_size=0.2, shuffle=True, random_state=SEED)\n",
        "\n",
        "  return train,test"
      ]
    },
    {
      "cell_type": "markdown",
      "source": [
        "### Model definitions"
      ],
      "metadata": {
        "id": "4OwR8jJ_7Yed"
      }
    },
    {
      "cell_type": "code",
      "execution_count": 16,
      "metadata": {
        "id": "O7FW9RYulhGp"
      },
      "outputs": [],
      "source": [
        "class EfficientModel(nn.Module):\n",
        "    def __init__(self):\n",
        "        super(EfficientModel, self).__init__()\n",
        "        \n",
        "        self.encoder = EfficientNet.from_pretrained(\"efficientnet-b1\")\n",
        "        self.dropout = nn.Dropout(0.3)\n",
        "        self.head = nn.Sequential(nn.Linear(1280, 256),\n",
        "                                  nn.ReLU(),\n",
        "                                  nn.Linear(256, 1),\n",
        "                                  nn.Sigmoid())\n",
        "        for param in self.head.parameters():\n",
        "                param.requires_grad = True\n",
        "    \n",
        "    def forward(self, image):\n",
        "        batch_size, _, _, _ = image.shape\n",
        "        \n",
        "        x = self.encoder.extract_features(image)\n",
        "        x = F.adaptive_avg_pool2d(x, 1).reshape(batch_size, -1)\n",
        "        \n",
        "        x = self.dropout(x)\n",
        "        logit = self.head(x)\n",
        "        \n",
        "        return logit\n",
        "\n",
        "\n",
        "class ConvnextModel(nn.Module):\n",
        "    def __init__(self):\n",
        "        super(ConvnextModel, self).__init__()\n",
        "        self.model = timm.create_model('convnext_xlarge_384_in22ft1k', pretrained=True)\n",
        "        self.classifier=nn.Sequential(nn.Linear(1000, 256),nn.ReLU(), nn.Linear(256,1),nn.Sigmoid())\n",
        "        for param in self.model.parameters():\n",
        "            param.requires_grad = False\n",
        "    \n",
        "        # Unfreeze the last stage\n",
        "        for param in self.model.stages[3].parameters():\n",
        "            param.requires_grad = True\n",
        "    \n",
        "    def forward(self, x):\n",
        "        x = self.model.forward_features(x)\n",
        "        x = self.model.head(x)\n",
        "        x = self.classifier(x)\n",
        "        return x\n",
        "\n",
        "# feature_extract is a boolean that defines if we are finetuning or feature extracting. \n",
        "# If feature_extract = False, the model is finetuned and all model parameters are updated. \n",
        "# If feature_extract = True, only the last layer parameters are updated, the others remain fixed.\n",
        "def set_parameter_requires_grad(model, feature_extracting):\n",
        "    if feature_extracting:\n",
        "        for param in model.parameters():\n",
        "            param.requires_grad = False\n",
        "\n",
        "            \n",
        "def initialize_model(model_name, num_classes, feature_extract, use_pretrained=True):\n",
        "    # Initialize these variables which will be set in this if statement. Each of these\n",
        "    #   variables is model specific.\n",
        "    model_ft = None\n",
        "    input_size = 0\n",
        "      \n",
        "    if model_name == \"efficientnet\":\n",
        "        \"\"\" Efficient Net B1 modified \"\"\"\n",
        "        model_ft = EfficientModel()\n",
        "        input_size =224\n",
        "    if model_name == \"resnet\":\n",
        "        \"\"\" Resnet18, resnet34, resnet50, resnet101\n",
        "        \"\"\"\n",
        "        model_ft = models.resnet50(pretrained=use_pretrained)\n",
        "        set_parameter_requires_grad(model_ft, feature_extract)\n",
        "        num_ftrs = model_ft.fc.in_features\n",
        "        model_ft.fc = nn.Sequential(nn.Linear(num_ftrs, 256),\n",
        "                                    nn.ReLU(),\n",
        "                                    nn.Linear(256, 1),\n",
        "                                    nn.Sigmoid())\n",
        "        for param in model_ft.fc.parameters():\n",
        "                param.requires_grad = True\n",
        "    \n",
        "        input_size = 224\n",
        "\n",
        "    elif model_name == \"convnext\":\n",
        "          model_ft = ConvnextModel()\n",
        "          \n",
        "          input_size = 224        \n",
        "    else:\n",
        "        print(\"Invalid model name, exiting...\")\n",
        "        exit()\n",
        "    return model_ft, input_size"
      ]
    },
    {
      "cell_type": "code",
      "execution_count": 17,
      "metadata": {
        "id": "LPCjfl8JFBXH"
      },
      "outputs": [],
      "source": [
        "class Lesion_Dataset(Dataset):\n",
        "    def __init__(self, img_data,img_path=None,resize=True, transform=None):\n",
        "        self.img_path = img_path\n",
        "        self.transform = transform\n",
        "        self.resize = resize\n",
        "        self.img_data = img_data\n",
        "        \n",
        "    def __len__(self):\n",
        "        return len(self.img_data)\n",
        "    \n",
        "    def __getitem__(self, index):\n",
        "        img_name = os.path.join(\"jpeg\",self.img_data.loc[index, 'images'])\n",
        "        image = Image.open(img_name)      \n",
        "        label = torch.tensor(self.img_data.loc[index, 'target'],dtype=torch.long)\n",
        "        if self.resize:\n",
        "            image = image.resize(\n",
        "                (WIDTH, HEIGHT), resample=Image.BILINEAR\n",
        "            )\n",
        "        image = np.array(image)\n",
        "        \n",
        "        if self.transform is not None:\n",
        "            augmented = self.transform(image=image)\n",
        "            image = augmented['image']\n",
        "        \n",
        "        image = np.transpose(image, (2, 0, 1)).astype(np.float32)\n",
        "        \n",
        "        return {\n",
        "            'image': torch.tensor(image, dtype=torch.float),\n",
        "            'targets': label,\n",
        "            'index': index\n",
        "        }\n",
        "\n",
        "train_transforms = albumentations.Compose([\n",
        "    albumentations.ShiftScaleRotate(p=0.9),\n",
        "    albumentations.CLAHE(p=0.5),\n",
        "    albumentations.HorizontalFlip(p=0.5),\n",
        "    albumentations.VerticalFlip(p=0.5),\n",
        "    albumentations.RandomBrightnessContrast(p=0.9),\n",
        "    albumentations.Normalize(mean=MEAN, std=STD, always_apply=True)\n",
        "])\n",
        "\n",
        "test_transforms = albumentations.Compose([\n",
        "    albumentations.Normalize(mean=MEAN, std=STD, always_apply=True)\n",
        "])"
      ]
    },
    {
      "cell_type": "markdown",
      "source": [
        "### Model Utils\n"
      ],
      "metadata": {
        "id": "oBcIhgRREZjy"
      }
    },
    {
      "cell_type": "code",
      "source": [
        "class AverageMeter:\n",
        "    def __init__(self):\n",
        "        self.reset()\n",
        "    \n",
        "    def reset(self):\n",
        "        self.val = 0\n",
        "        self.avg = 0\n",
        "        self.sum = 0\n",
        "        self.count = 0\n",
        "    \n",
        "    def update(self, val, n=1):\n",
        "        self.val = val\n",
        "        self.sum += val * n\n",
        "        self.count += n\n",
        "        self.avg = self.sum / self.count"
      ],
      "metadata": {
        "id": "DPgY4JqAAWmH"
      },
      "execution_count": 18,
      "outputs": []
    },
    {
      "cell_type": "code",
      "source": [
        "class FocalLoss(nn.Module):\n",
        "    def __init__(self, alpha=1, gamma=2, logits=False, reduce=True):\n",
        "        super(FocalLoss, self).__init__()\n",
        "        self.alpha = alpha\n",
        "        self.gamma = gamma\n",
        "        self.logits = logits\n",
        "        self.reduce = reduce\n",
        "\n",
        "    def forward(self, inputs, targets):\n",
        "        if self.logits:\n",
        "            BCE_loss = F.binary_cross_entropy_with_logits(inputs, targets, reduce=None)\n",
        "        else:\n",
        "            BCE_loss = F.binary_cross_entropy(inputs, targets, reduce=None)\n",
        "        pt = torch.exp(-BCE_loss)\n",
        "        F_loss = self.alpha * (1-pt)**self.gamma * BCE_loss\n",
        "\n",
        "        if self.reduce:\n",
        "            return torch.mean(F_loss)\n",
        "        else:\n",
        "            return F_loss\n",
        "\n",
        "def loss_fn(outputs, targets):\n",
        "    return FocalLoss(logits=False)(outputs, targets)\n",
        "\n",
        "\n",
        "def train_fn(data_loader, model, optimizer, device, scheduler=None):\n",
        "    model.train()\n",
        "    \n",
        "    losses = AverageMeter()\n",
        "\n",
        "    tk0 = tqdm(data_loader, total=len(data_loader))\n",
        "    \n",
        "    for bi, d in enumerate(tk0):\n",
        "        images = d['image']\n",
        "        targets = d['targets']\n",
        "        \n",
        "        images = images.to(device, dtype=torch.float)\n",
        "        targets = targets.to(device, dtype=torch.long)\n",
        "        model.zero_grad()\n",
        "        outputs = model(images)\n",
        "        targets = targets.view(-1, 1).type_as(outputs)\n",
        "        \n",
        "        loss = loss_fn(outputs, targets)\n",
        "        loss.backward()\n",
        "        optimizer.step()\n",
        "        if scheduler:\n",
        "            scheduler.step()\n",
        "        \n",
        "        losses.update(loss.item(), images.size(0))\n",
        "        \n",
        "        tk0.set_postfix(loss=losses.avg)\n",
        "    return losses.avg\n",
        "\n",
        "def eval_fn(data_loader, model, device):\n",
        "    model.eval()\n",
        "    \n",
        "    losses = AverageMeter()\n",
        "    final_preds = []\n",
        "    \n",
        "    with torch.no_grad():\n",
        "        tk0 = tqdm(data_loader, total=len(data_loader))\n",
        "        \n",
        "        for bi, d in enumerate(tk0):\n",
        "            images = d['image']\n",
        "            targets = d['targets']\n",
        "\n",
        "            images = images.to(device, dtype=torch.float)\n",
        "            targets = targets.to(device, dtype=torch.long)\n",
        "            model.zero_grad()\n",
        "            outputs = model(images)\n",
        "            targets = targets.view(-1, 1).type_as(outputs)   \n",
        "\n",
        "            loss = loss_fn(outputs, targets)\n",
        "            losses.update(loss.item(), images.size(0))\n",
        "            \n",
        "            final_preds.extend(outputs.cpu().detach().numpy().tolist())\n",
        "        \n",
        "    return losses.avg, final_preds\n",
        "\n",
        "def run_fold(fold,best_auc):\n",
        "    patience = 0\n",
        "    feature_extract = False\n",
        "    # Initialize the model for this run\n",
        "    model_ft, input_size = initialize_model(MODEL_NAME, NUM_CLASSES, feature_extract, use_pretrained=True)\n",
        "    # Define the device:\n",
        "    device = torch.device('cuda:0')\n",
        "    # Put the model on the device:\n",
        "    model = model_ft.to(device)\n",
        "    \n",
        "    # Selecting fold\n",
        "    train_df = df[df['kfold'] != fold].reset_index(drop=True)\n",
        "    valid_df = df[df['kfold'] == fold].reset_index(drop=True)\n",
        "    \n",
        "    weights = generate_weights(train_df)\n",
        "        \n",
        "    # Loading data\n",
        "     # Create the dataset\n",
        "    train_dataset = Lesion_Dataset(train_df,True,train_transforms)\n",
        "    valid_dataset = Lesion_Dataset(valid_df,True,test_transforms)\n",
        "\n",
        "    train_sampler = WeightedRandomSampler(weights, len(train_df))\n",
        "\n",
        "    train_loader = torch.utils.data.DataLoader(\n",
        "        train_dataset, \n",
        "        batch_size=TRAIN_BATCH_SIZE, \n",
        "        sampler=train_sampler)\n",
        "\n",
        "    valid_loader = torch.utils.data.DataLoader(\n",
        "        valid_dataset, \n",
        "        batch_size=VALID_BATCH_SIZE, \n",
        "        shuffle=False)\n",
        "    \n",
        "    # Optimizer and scheduler\n",
        "    num_train_steps = int(len(train_df) / TRAIN_BATCH_SIZE * EPOCHS)\n",
        "    optimizer = torch.optim.Adam(model.parameters(), lr=LR)\n",
        "    scheduler = torch.optim.lr_scheduler.CosineAnnealingLR(\n",
        "        optimizer,\n",
        "        T_max=num_train_steps,\n",
        "        eta_min=1e-6\n",
        "    )\n",
        "    \n",
        "    # Training loop\n",
        "    for epoch in range(EPOCHS):\n",
        "        train_loss = train_fn(train_loader, model, optimizer, device=device, scheduler=scheduler)\n",
        "        loss, y_pred = eval_fn(valid_loader, model, device=device)\n",
        "        \n",
        "        y_pred = np.array(y_pred)\n",
        "        val_auc = roc_auc_score(valid_df['target'].values, y_pred)      \n",
        "        print(f\"Epoch {epoch}.. \"\n",
        "                f\"Train loss: {train_loss:.3f}.. \"\n",
        "                f\"Validation loss: {loss:.3f}.. \"\n",
        "                f\"Validation auc: {val_auc:.3f}\")\n",
        "        if val_auc > best_auc:\n",
        "            torch.save(model, 'resnet_aug_model.pth')\n",
        "            print('Validation score improved ({} --> {}). Saving model!'.format(best_auc, val_auc))\n",
        "            best_auc = val_auc\n",
        "        else:\n",
        "          patience = patience + 1\n",
        "\n",
        "        if patience >= 1:\n",
        "          break;       \n",
        "\n",
        "    return best_auc      "
      ],
      "metadata": {
        "id": "Vo8NHMrgEd3H"
      },
      "execution_count": 19,
      "outputs": []
    },
    {
      "cell_type": "markdown",
      "source": [
        "## Load the model and prepare the test data"
      ],
      "metadata": {
        "id": "KznTd-qe9pjV"
      }
    },
    {
      "cell_type": "code",
      "execution_count": 20,
      "metadata": {
        "colab": {
          "base_uri": "https://localhost:8080/"
        },
        "id": "cS8H1GrolhGm",
        "outputId": "de99da4d-8d13-4034-8c06-3b472e264e0d"
      },
      "outputs": [
        {
          "output_type": "stream",
          "name": "stdout",
          "text": [
            "Looking in indexes: https://pypi.org/simple, https://us-python.pkg.dev/colab-wheels/public/simple/\n",
            "Collecting timm\n",
            "  Downloading timm-0.6.7-py3-none-any.whl (509 kB)\n",
            "\u001b[K     |████████████████████████████████| 509 kB 28.5 MB/s \n",
            "\u001b[?25hRequirement already satisfied: torchvision in /usr/local/lib/python3.7/dist-packages (from timm) (0.13.1+cu113)\n",
            "Requirement already satisfied: torch>=1.4 in /usr/local/lib/python3.7/dist-packages (from timm) (1.12.1+cu113)\n",
            "Requirement already satisfied: typing-extensions in /usr/local/lib/python3.7/dist-packages (from torch>=1.4->timm) (4.1.1)\n",
            "Requirement already satisfied: numpy in /usr/local/lib/python3.7/dist-packages (from torchvision->timm) (1.21.6)\n",
            "Requirement already satisfied: pillow!=8.3.*,>=5.3.0 in /usr/local/lib/python3.7/dist-packages (from torchvision->timm) (7.1.2)\n",
            "Requirement already satisfied: requests in /usr/local/lib/python3.7/dist-packages (from torchvision->timm) (2.23.0)\n",
            "Requirement already satisfied: chardet<4,>=3.0.2 in /usr/local/lib/python3.7/dist-packages (from requests->torchvision->timm) (3.0.4)\n",
            "Requirement already satisfied: idna<3,>=2.5 in /usr/local/lib/python3.7/dist-packages (from requests->torchvision->timm) (2.10)\n",
            "Requirement already satisfied: urllib3!=1.25.0,!=1.25.1,<1.26,>=1.21.1 in /usr/local/lib/python3.7/dist-packages (from requests->torchvision->timm) (1.24.3)\n",
            "Requirement already satisfied: certifi>=2017.4.17 in /usr/local/lib/python3.7/dist-packages (from requests->torchvision->timm) (2022.6.15)\n",
            "Installing collected packages: timm\n",
            "Successfully installed timm-0.6.7\n"
          ]
        }
      ],
      "source": [
        "!pip install timm"
      ]
    },
    {
      "cell_type": "code",
      "execution_count": 21,
      "metadata": {
        "id": "iMdB6n_SlhGn"
      },
      "outputs": [],
      "source": [
        "import sys\n",
        "import timm\n",
        "sys.path.append('../input/timm-pytorch-image-models/pytorch-image-models-master')\n",
        "from timm.models.layers import trunc_normal_, DropPath\n",
        "from timm.models.registry import register_model"
      ]
    },
    {
      "cell_type": "code",
      "execution_count": 22,
      "metadata": {
        "colab": {
          "base_uri": "https://localhost:8080/"
        },
        "id": "Sim1FgfWlhGu",
        "outputId": "c83b0815-4b1d-4c64-e6e1-cc0c437cc3f6"
      },
      "outputs": [
        {
          "output_type": "stream",
          "name": "stdout",
          "text": [
            " Device is cuda:0\n"
          ]
        }
      ],
      "source": [
        "device = torch.device(\"cuda:0\" if torch.cuda.is_available() else \"cpu\")\n",
        "print(\" Device is {}\".format(device))"
      ]
    },
    {
      "cell_type": "code",
      "execution_count": 23,
      "metadata": {
        "id": "gTi7Qh4ElhHC"
      },
      "outputs": [],
      "source": [
        "model = torch.load('resnet_aug_model.pth')"
      ]
    },
    {
      "cell_type": "markdown",
      "source": [
        "### Test the model"
      ],
      "metadata": {
        "id": "pKzWOapxjbvp"
      }
    },
    {
      "cell_type": "code",
      "source": [
        "def predict(data_loader, model, device):\n",
        "    model.eval()\n",
        "    classes  = (\"benign\", \"malignant\")\n",
        "    final_preds = []\n",
        "    labels = []\n",
        "    indices = []\n",
        "    correct_pred = {classname: 0 for classname in classes}\n",
        "    total_pred = {classname: 0 for classname in classes}\n",
        "    \n",
        "    with torch.no_grad():\n",
        "        tk0 = tqdm(data_loader, total=len(data_loader))\n",
        "        \n",
        "        for bi, d in enumerate(tk0):\n",
        "            images = d['image']\n",
        "            \n",
        "            images = images.to(device, dtype=torch.float)\n",
        "            targets = d['targets'].to(device, dtype=torch.long)\n",
        "\n",
        "            outputs = model(images)\n",
        "            # targets=targets.view(-1, 1).type_as(outputs)\n",
        "            y_probs = outputs.squeeze(-1).cpu().detach().numpy()\n",
        "            # _, predictions = torch.max(outputs, 1)\n",
        "            predictions = y_probs > 0.5\n",
        "            predictions = predictions.astype(int)\n",
        "            targets = targets.data.cpu().numpy()\n",
        "            for label, prediction in zip(targets, predictions):\n",
        "                if label == prediction:\n",
        "                    correct_pred[classes[label]] += 1\n",
        "                total_pred[classes[label]] += 1\n",
        "            indices.extend(d['index'].data.cpu().numpy().tolist())              \n",
        "            final_preds.extend(y_probs.tolist())\n",
        "            labels.extend(targets.tolist())\n",
        "    return correct_pred, total_pred, labels, final_preds,indices\n"
      ],
      "metadata": {
        "id": "ORkqlGYplk6D"
      },
      "execution_count": 24,
      "outputs": []
    },
    {
      "cell_type": "code",
      "source": [
        "model = torch.load('resnet_aug_model.pth')\n"
      ],
      "metadata": {
        "id": "N1b0GbxAmIM3"
      },
      "execution_count": 25,
      "outputs": []
    },
    {
      "cell_type": "code",
      "source": [
        "train_ds = train_df.reset_index(drop=True)\n",
        "train_dataset = Lesion_Dataset(train_ds,True,test_transforms)\n",
        "\n",
        "train_loader = torch.utils.data.DataLoader(\n",
        "    train_dataset, \n",
        "    batch_size=VALID_BATCH_SIZE, \n",
        "    shuffle=False\n",
        ")"
      ],
      "metadata": {
        "id": "wwYRtwdwBfeq"
      },
      "execution_count": 26,
      "outputs": []
    },
    {
      "cell_type": "code",
      "source": [
        "test_ds = test_df.reset_index(drop=True)\n",
        "test_dataset = Lesion_Dataset(test_ds,True,test_transforms)\n",
        "\n",
        "test_loader = torch.utils.data.DataLoader(\n",
        "    test_dataset, \n",
        "    batch_size=VALID_BATCH_SIZE, \n",
        "    shuffle=False\n",
        ")"
      ],
      "metadata": {
        "id": "Ov4ekVkVBWrx"
      },
      "execution_count": 27,
      "outputs": []
    },
    {
      "cell_type": "code",
      "execution_count": 28,
      "metadata": {
        "id": "7Hib0R7zlhGi",
        "colab": {
          "base_uri": "https://localhost:8080/",
          "height": 49,
          "referenced_widgets": [
            "daacc9fe0b744a2cb192d04d71392b73",
            "155e249d53054fadb4ef33901db392f4",
            "2323b8164bfc4d978d96088d32c1362a",
            "b561ad29c2b24e2f81dd69351e6713d8",
            "a3ef5d4ccf544a00af765562172deacf",
            "8c87d0be7ac14dbc9793cecf5e3e80ad",
            "f2478c224f8c4473b12952cdbd582e40",
            "931a3312609541f6932bcd8a26ac930b",
            "9f39960a66d6451daa0ca58e9fb75eaa",
            "0cb0243f85b247adb11c11edac049399",
            "66eac4ac5f584326a31f3cda2562419d"
          ]
        },
        "outputId": "1f1de2d1-1cc5-4d6e-86c0-3155e08ffea9"
      },
      "outputs": [
        {
          "output_type": "display_data",
          "data": {
            "text/plain": [
              "  0%|          | 0/69 [00:00<?, ?it/s]"
            ],
            "application/vnd.jupyter.widget-view+json": {
              "version_major": 2,
              "version_minor": 0,
              "model_id": "daacc9fe0b744a2cb192d04d71392b73"
            }
          },
          "metadata": {}
        }
      ],
      "source": [
        "test_correct_pred, test_total_pred, test_y_true, test_y_preds, test_indices = predict(test_loader, model, device)"
      ]
    },
    {
      "cell_type": "code",
      "source": [
        "test_correct_pred"
      ],
      "metadata": {
        "id": "b2fUj6SAuqQB",
        "colab": {
          "base_uri": "https://localhost:8080/"
        },
        "outputId": "fa155fd6-a6be-4df7-a1f3-48f1feca67db"
      },
      "execution_count": 29,
      "outputs": [
        {
          "output_type": "execute_result",
          "data": {
            "text/plain": [
              "{'benign': 1504, 'malignant': 653}"
            ]
          },
          "metadata": {},
          "execution_count": 29
        }
      ]
    },
    {
      "cell_type": "code",
      "source": [
        "test_total_pred"
      ],
      "metadata": {
        "id": "-TS_J3150RH2",
        "colab": {
          "base_uri": "https://localhost:8080/"
        },
        "outputId": "ded0f764-b0b0-4f94-c065-36b1355447b4"
      },
      "execution_count": 30,
      "outputs": [
        {
          "output_type": "execute_result",
          "data": {
            "text/plain": [
              "{'benign': 1526, 'malignant': 674}"
            ]
          },
          "metadata": {},
          "execution_count": 30
        }
      ]
    },
    {
      "cell_type": "code",
      "source": [
        "print(np.array([test_y_true, test_y_preds]))"
      ],
      "metadata": {
        "colab": {
          "base_uri": "https://localhost:8080/"
        },
        "id": "iGVnGXyaeDl9",
        "outputId": "ea8a21f7-5f44-48f6-ad21-cb8377a17464"
      },
      "execution_count": 31,
      "outputs": [
        {
          "output_type": "stream",
          "name": "stdout",
          "text": [
            "[[1.         0.         0.         ... 1.         1.         0.        ]\n",
            " [0.99208575 0.06492733 0.06230615 ... 0.99037278 0.96895087 0.04050332]]\n"
          ]
        }
      ]
    },
    {
      "cell_type": "code",
      "source": [
        "test_preds = np.array(test_y_preds) > 0.5\n",
        "test_preds=test_preds.tolist()"
      ],
      "metadata": {
        "id": "XynkGovJFA-d"
      },
      "execution_count": 32,
      "outputs": []
    },
    {
      "cell_type": "code",
      "execution_count": 33,
      "metadata": {
        "id": "wsZU7yHi6Tpc"
      },
      "outputs": [],
      "source": [
        "classes  = (\"benign\", \"malignant\")"
      ]
    },
    {
      "cell_type": "code",
      "execution_count": 34,
      "metadata": {
        "colab": {
          "base_uri": "https://localhost:8080/"
        },
        "outputId": "8b5364dc-8ba1-4b5a-92ac-bf44c07dbea9",
        "id": "6_g8BAhh6Tpc"
      },
      "outputs": [
        {
          "output_type": "stream",
          "name": "stdout",
          "text": [
            "benign 1504\n",
            "Accuracy for class: benign is 98.6 %\n",
            "malignant 653\n",
            "Accuracy for class: malignant is 96.9 %\n"
          ]
        }
      ],
      "source": [
        "#print accuracy for each class\n",
        "for classname, correct_count in test_correct_pred.items():\n",
        "    print(classname,correct_count)\n",
        "    accuracy = 0 if correct_count == 0 else 100 * float(correct_count) / test_total_pred[classname]\n",
        "    print(f'Accuracy for class: {classname:5s} is {accuracy:.1f} %')"
      ]
    },
    {
      "cell_type": "code",
      "source": [
        "from sklearn.metrics import accuracy_score\n",
        "from sklearn.metrics import precision_score\n",
        "from sklearn.metrics import recall_score\n",
        "from sklearn.metrics import f1_score\n",
        "from sklearn.metrics import cohen_kappa_score\n",
        "from sklearn.metrics import confusion_matrix\n",
        "cf_matrix = confusion_matrix(test_y_true,test_preds)\n",
        "print(cf_matrix)"
      ],
      "metadata": {
        "colab": {
          "base_uri": "https://localhost:8080/"
        },
        "outputId": "5b79ed23-4c9d-4f8b-e637-37d67da457a1",
        "id": "lgMfye804A3y"
      },
      "execution_count": 35,
      "outputs": [
        {
          "output_type": "stream",
          "name": "stdout",
          "text": [
            "[[1504   22]\n",
            " [  21  653]]\n"
          ]
        }
      ]
    },
    {
      "cell_type": "code",
      "source": [
        "np.sum(cf_matrix,axis=0)"
      ],
      "metadata": {
        "colab": {
          "base_uri": "https://localhost:8080/"
        },
        "outputId": "9f02827a-d25f-4317-dab6-1c514e7fc711",
        "id": "-TcRNkhj4A3y"
      },
      "execution_count": 36,
      "outputs": [
        {
          "output_type": "execute_result",
          "data": {
            "text/plain": [
              "array([1525,  675])"
            ]
          },
          "metadata": {},
          "execution_count": 36
        }
      ]
    },
    {
      "cell_type": "code",
      "source": [
        "df_cm = pd.DataFrame(cf_matrix, index = [i for i in classes],\n",
        "                     columns = [i for i in classes])\n",
        "                     \n",
        "plt.figure(figsize = (12,7))\n",
        "sns.heatmap(df_cm, annot=True, fmt='d')\n",
        "plt.show()"
      ],
      "metadata": {
        "colab": {
          "base_uri": "https://localhost:8080/",
          "height": 428
        },
        "outputId": "7ca08ee7-0f00-4a99-8d77-f00b6f4157c7",
        "id": "a60oPq4Z4A3z"
      },
      "execution_count": 37,
      "outputs": [
        {
          "output_type": "display_data",
          "data": {
            "text/plain": [
              "<Figure size 864x504 with 2 Axes>"
            ],
            "image/png": "[encoded data removed]"
          },
          "metadata": {
            "image/png": {
              "width": 651,
              "height": 411
            },
            "needs_background": "light"
          }
        }
      ]
    },
    {
      "cell_type": "code",
      "source": [
        "# Calculate specificity tn / (tn+fp)\n",
        "def calculate_specificity(conf_matrix):\n",
        "   return cf_matrix[0,0]/np.sum(cf_matrix,axis=0)[0]\n"
      ],
      "metadata": {
        "id": "bF5B6zjrDarg"
      },
      "execution_count": 38,
      "outputs": []
    },
    {
      "cell_type": "code",
      "source": [
        "# accuracy: (tp + tn) / (p + n)\n",
        "accuracy = accuracy_score(test_y_true, test_preds)\n",
        "print('Accuracy: %f' % accuracy)\n",
        "# precision tp / (tp + fp)\n",
        "precision = precision_score(test_y_true, test_preds)\n",
        "print('Precision: %f' % precision)\n",
        "# recall or sensitivity: tp / (tp + fn)\n",
        "recall = recall_score(test_y_true, test_preds)\n",
        "print('recall or sensitivity: %f' % recall)\n",
        "# specificity\n",
        "specificity = calculate_specificity(cf_matrix)\n",
        "print('specificity: %f' % specificity)\n",
        "# f1: 2 tp / (2 tp + fp + fn)\n",
        "f1 = f1_score(test_y_true, test_preds)\n",
        "print('F1 score: %f' % f1)"
      ],
      "metadata": {
        "id": "DOftfHwTDarg",
        "colab": {
          "base_uri": "https://localhost:8080/"
        },
        "outputId": "5b301286-eb89-4ec7-d9a7-1d13a19ccfeb"
      },
      "execution_count": 39,
      "outputs": [
        {
          "output_type": "stream",
          "name": "stdout",
          "text": [
            "Accuracy: 0.980455\n",
            "Precision: 0.967407\n",
            "recall or sensitivity: 0.968843\n",
            "specificity: 0.986230\n",
            "F1 score: 0.968125\n"
          ]
        }
      ]
    },
    {
      "cell_type": "code",
      "source": [
        "# PR curve\n",
        "from sklearn.metrics import precision_recall_curve, auc\n",
        "precision, recall, thresholds = precision_recall_curve(test_y_true, test_y_preds)"
      ],
      "metadata": {
        "id": "HniXuOGWDarj"
      },
      "execution_count": 40,
      "outputs": []
    },
    {
      "cell_type": "code",
      "source": [
        "# calculate scores\n",
        "lr_auc = auc(recall, precision)\n",
        "# plot the precision-recall curves\n",
        "plt.plot(recall, precision, marker='.', label='Model Aug(auc: %.3f)' %lr_auc)\n",
        "# axis labels\n",
        "plt.xlabel('Recall')\n",
        "plt.ylabel('Precision')\n",
        "# show the legend\n",
        "plt.legend()\n",
        "# show the plot\n",
        "plt.show()"
      ],
      "metadata": {
        "id": "kRIkJynxDark",
        "colab": {
          "base_uri": "https://localhost:8080/",
          "height": 278
        },
        "outputId": "166f2db8-2e7e-4477-fbec-3ae974d22bbe"
      },
      "execution_count": 41,
      "outputs": [
        {
          "output_type": "display_data",
          "data": {
            "text/plain": [
              "<Figure size 432x288 with 1 Axes>"
            ],
            "image/png": "[encoded data removed]"
          },
          "metadata": {
            "image/png": {
              "width": 392,
              "height": 261
            },
            "needs_background": "light"
          }
        }
      ]
    },
    {
      "cell_type": "markdown",
      "metadata": {
        "id": "TfXQZu-blhGk"
      },
      "source": [
        "Annotations the dataset\n"
      ]
    },
    {
      "cell_type": "code",
      "source": [
        "test_df['quality'] = np.zeros(test_df.shape[0])"
      ],
      "metadata": {
        "id": "L2mY83ALZ0Bf"
      },
      "execution_count": 47,
      "outputs": []
    },
    {
      "cell_type": "code",
      "execution_count": 49,
      "metadata": {
        "id": "gp1qTAq1lhG7"
      },
      "outputs": [],
      "source": [
        "for i in range(len(test_indices)):\n",
        "      if test_y_true[i] == test_preds[i]:\n",
        "          test_df.loc[test_indices[i],'quality'] = \"0\"\n",
        "      else:\n",
        "        test_df.loc[test_indices[i],'quality'] = \"1\""
      ]
    },
    {
      "cell_type": "code",
      "source": [
        "test_df.shape"
      ],
      "metadata": {
        "colab": {
          "base_uri": "https://localhost:8080/"
        },
        "id": "2E0IY4JLelw0",
        "outputId": "cf25ccb2-1856-4f19-de74-388d0491b787"
      },
      "execution_count": 50,
      "outputs": [
        {
          "output_type": "execute_result",
          "data": {
            "text/plain": [
              "(2200, 5)"
            ]
          },
          "metadata": {},
          "execution_count": 50
        }
      ]
    },
    {
      "cell_type": "code",
      "source": [
        "test_df = test_df.astype({\"quality\":\"category\"})"
      ],
      "metadata": {
        "id": "XD_ON8JtSvK5"
      },
      "execution_count": 52,
      "outputs": []
    },
    {
      "cell_type": "code",
      "source": [
        "print(\"Sample length\",len(test_df))\n",
        "print(test_df.groupby('quality').image_name.count())\n",
        "plot_count(test_df.quality, \n",
        "               {\"title\":\"IMAGES BY GROUND TRUTH\",\n",
        "                \"xlabel\":\"QUALITY\",\"ylabel\":\"NUMBER OF IMAGES\",\"x\":\"quality\"})"
      ],
      "metadata": {
        "colab": {
          "base_uri": "https://localhost:8080/",
          "height": 545
        },
        "id": "4TWSKm6fSowS",
        "outputId": "a165d810-9f6c-4fd1-f74f-37d84caddff3"
      },
      "execution_count": 53,
      "outputs": [
        {
          "output_type": "stream",
          "name": "stdout",
          "text": [
            "Sample length 2200\n",
            "quality\n",
            "0    2157\n",
            "1      43\n",
            "Name: image_name, dtype: int64\n"
          ]
        },
        {
          "output_type": "stream",
          "name": "stderr",
          "text": [
            "/usr/local/lib/python3.7/dist-packages/seaborn/_decorators.py:43: FutureWarning: Pass the following variable as a keyword arg: x. From version 0.12, the only valid positional argument will be `data`, and passing other arguments without an explicit keyword will result in an error or misinterpretation.\n",
            "  FutureWarning\n"
          ]
        },
        {
          "output_type": "display_data",
          "data": {
            "text/plain": [
              "<Figure size 720x432 with 1 Axes>"
            ],
            "image/png": "[encoded data removed]"
          },
          "metadata": {
            "image/png": {
              "width": 618,
              "height": 387
            },
            "needs_background": "light"
          }
        }
      ]
    },
    {
      "cell_type": "code",
      "source": [
        "test_df.to_csv('quality_test.csv')"
      ],
      "metadata": {
        "id": "rV5VDF4IeYQp"
      },
      "execution_count": 54,
      "outputs": []
    },
    {
      "cell_type": "markdown",
      "source": [
        "### Annotate the training dataset"
      ],
      "metadata": {
        "id": "yjzSatPsTM22"
      }
    },
    {
      "cell_type": "code",
      "source": [
        "train_ds = train_df.reset_index(drop=True)\n",
        "train_dataset = Lesion_Dataset(train_ds,True,test_transforms)\n",
        "\n",
        "train_loader = torch.utils.data.DataLoader(\n",
        "    train_dataset, \n",
        "    batch_size=VALID_BATCH_SIZE, \n",
        "    shuffle=False\n",
        ")"
      ],
      "metadata": {
        "id": "ZHarMXayTM26"
      },
      "execution_count": 55,
      "outputs": []
    },
    {
      "cell_type": "code",
      "execution_count": 56,
      "metadata": {
        "colab": {
          "base_uri": "https://localhost:8080/",
          "height": 49,
          "referenced_widgets": [
            "454c1142b3834a7297c2264e4ca5dc03",
            "456c5098e19e48c8b77f4b5b996478ea",
            "e89c41aaa0b94214b206fef618e09d7c",
            "79a909e3fd544253a5261c4f20186267",
            "14238b0bfc4a49188caa8b6811881837",
            "73037576ab0743b8a9a0f94384e023bb",
            "a728043d0ca7493b9e42aaa5261c64d4",
            "8960e3c9963d4d20912ed13174a695d8",
            "20ea1d5632654e6f888ba90cc8d5896d",
            "652367a37bb840799c0ad01bdcc5c4a9",
            "5c8991d909514dfbaa4c585c2fd5abcd"
          ]
        },
        "outputId": "3ea41209-7b61-4589-d0bd-8ae74569581d",
        "id": "yk-e_XNNTM27"
      },
      "outputs": [
        {
          "output_type": "display_data",
          "data": {
            "text/plain": [
              "  0%|          | 0/275 [00:00<?, ?it/s]"
            ],
            "application/vnd.jupyter.widget-view+json": {
              "version_major": 2,
              "version_minor": 0,
              "model_id": "454c1142b3834a7297c2264e4ca5dc03"
            }
          },
          "metadata": {}
        }
      ],
      "source": [
        "train_correct_pred, train_total_pred, train_y_true, train_y_preds, train_indices = predict(train_loader, model, device)"
      ]
    },
    {
      "cell_type": "code",
      "source": [
        "train_correct_pred"
      ],
      "metadata": {
        "colab": {
          "base_uri": "https://localhost:8080/"
        },
        "outputId": "db51bae8-8250-4216-fc71-60e3b6875c91",
        "id": "XG3N2qijTM28"
      },
      "execution_count": 57,
      "outputs": [
        {
          "output_type": "execute_result",
          "data": {
            "text/plain": [
              "{'benign': 6096, 'malignant': 2557}"
            ]
          },
          "metadata": {},
          "execution_count": 57
        }
      ]
    },
    {
      "cell_type": "code",
      "source": [
        "train_total_pred"
      ],
      "metadata": {
        "colab": {
          "base_uri": "https://localhost:8080/"
        },
        "outputId": "b2693140-8db5-4bfc-903f-0aa8c51bae27",
        "id": "-WmNqEnGTM29"
      },
      "execution_count": 58,
      "outputs": [
        {
          "output_type": "execute_result",
          "data": {
            "text/plain": [
              "{'benign': 6174, 'malignant': 2626}"
            ]
          },
          "metadata": {},
          "execution_count": 58
        }
      ]
    },
    {
      "cell_type": "code",
      "source": [
        "print(np.array([train_y_true, train_y_preds]))"
      ],
      "metadata": {
        "colab": {
          "base_uri": "https://localhost:8080/"
        },
        "outputId": "cec93062-e0c1-4ed7-fd73-c2f5892bb2f3",
        "id": "1_NLZavFTM2-"
      },
      "execution_count": 59,
      "outputs": [
        {
          "output_type": "stream",
          "name": "stdout",
          "text": [
            "[[0.         0.         0.         ... 0.         0.         0.        ]\n",
            " [0.0433008  0.03144493 0.38843378 ... 0.00663956 0.09459253 0.07712112]]\n"
          ]
        }
      ]
    },
    {
      "cell_type": "code",
      "source": [
        "train_preds = np.array(train_y_preds) > 0.5\n",
        "train_preds=train_preds.tolist()"
      ],
      "metadata": {
        "id": "bp5sXC7kTM2-"
      },
      "execution_count": 60,
      "outputs": []
    },
    {
      "cell_type": "code",
      "execution_count": 61,
      "metadata": {
        "id": "alnEbUHJTM2_"
      },
      "outputs": [],
      "source": [
        "classes  = (\"benign\", \"malignant\")"
      ]
    },
    {
      "cell_type": "code",
      "execution_count": 62,
      "metadata": {
        "colab": {
          "base_uri": "https://localhost:8080/"
        },
        "outputId": "4226b1b3-cb88-4e4e-ffbf-18d03c937141",
        "id": "MVgnz2h-TM3A"
      },
      "outputs": [
        {
          "output_type": "stream",
          "name": "stdout",
          "text": [
            "benign 6096\n",
            "Accuracy for class: benign is 98.7 %\n",
            "malignant 2557\n",
            "Accuracy for class: malignant is 97.4 %\n"
          ]
        }
      ],
      "source": [
        "#print accuracy for each class\n",
        "for classname, correct_count in train_correct_pred.items():\n",
        "    print(classname,correct_count)\n",
        "    accuracy = 0 if correct_count == 0 else 100 * float(correct_count) / train_total_pred[classname]\n",
        "    print(f'Accuracy for class: {classname:5s} is {accuracy:.1f} %')"
      ]
    },
    {
      "cell_type": "code",
      "source": [
        "from sklearn.metrics import accuracy_score\n",
        "from sklearn.metrics import precision_score\n",
        "from sklearn.metrics import recall_score\n",
        "from sklearn.metrics import f1_score\n",
        "from sklearn.metrics import cohen_kappa_score\n",
        "from sklearn.metrics import confusion_matrix\n",
        "cf_matrix = confusion_matrix(train_y_true,train_preds)\n",
        "print(cf_matrix)"
      ],
      "metadata": {
        "colab": {
          "base_uri": "https://localhost:8080/"
        },
        "outputId": "4ba4c898-1efb-4ab0-d1ca-a39b382353df",
        "id": "vNMFcgY-TM3A"
      },
      "execution_count": 63,
      "outputs": [
        {
          "output_type": "stream",
          "name": "stdout",
          "text": [
            "[[6096   78]\n",
            " [  69 2557]]\n"
          ]
        }
      ]
    },
    {
      "cell_type": "code",
      "source": [
        "np.sum(cf_matrix,axis=0)"
      ],
      "metadata": {
        "colab": {
          "base_uri": "https://localhost:8080/"
        },
        "outputId": "845b0d78-77f3-4b58-df2e-a4f8705763f6",
        "id": "2-L00dppTM3B"
      },
      "execution_count": 64,
      "outputs": [
        {
          "output_type": "execute_result",
          "data": {
            "text/plain": [
              "array([6165, 2635])"
            ]
          },
          "metadata": {},
          "execution_count": 64
        }
      ]
    },
    {
      "cell_type": "code",
      "source": [
        "df_cm = pd.DataFrame(cf_matrix, index = [i for i in classes],\n",
        "                     columns = [i for i in classes])\n",
        "                     \n",
        "plt.figure(figsize = (12,7))\n",
        "sns.heatmap(df_cm, annot=True, fmt='d')\n",
        "plt.show()"
      ],
      "metadata": {
        "colab": {
          "base_uri": "https://localhost:8080/",
          "height": 428
        },
        "outputId": "ff01d487-5d5c-4e7a-94b2-19ec1ded73e1",
        "id": "tqO3ilPKTM3C"
      },
      "execution_count": 65,
      "outputs": [
        {
          "output_type": "display_data",
          "data": {
            "text/plain": [
              "<Figure size 864x504 with 2 Axes>"
            ],
            "image/png": "[encoded data removed]"
          },
          "metadata": {
            "image/png": {
              "width": 651,
              "height": 411
            },
            "needs_background": "light"
          }
        }
      ]
    },
    {
      "cell_type": "code",
      "source": [
        "# Calculate specificity tn / (tn+fp)\n",
        "def calculate_specificity(conf_matrix):\n",
        "   return cf_matrix[0,0]/np.sum(cf_matrix,axis=0)[0]\n"
      ],
      "metadata": {
        "id": "ocZs0g30TM3C"
      },
      "execution_count": 66,
      "outputs": []
    },
    {
      "cell_type": "code",
      "source": [
        "# accuracy: (tp + tn) / (p + n)\n",
        "accuracy = accuracy_score(train_y_true, train_preds)\n",
        "print('Accuracy: %f' % accuracy)\n",
        "# precision tp / (tp + fp)\n",
        "precision = precision_score(train_y_true, train_preds)\n",
        "print('Precision: %f' % precision)\n",
        "# recall or sensitivity: tp / (tp + fn)\n",
        "recall = recall_score(train_y_true, train_preds)\n",
        "print('recall or sensitivity: %f' % recall)\n",
        "# specificity\n",
        "specificity = calculate_specificity(cf_matrix)\n",
        "print('specificity: %f' % specificity)\n",
        "# f1: 2 tp / (2 tp + fp + fn)\n",
        "f1 = f1_score(train_y_true, train_preds)\n",
        "print('F1 score: %f' % f1)"
      ],
      "metadata": {
        "colab": {
          "base_uri": "https://localhost:8080/"
        },
        "outputId": "f1d35c0b-aa2c-43a8-9809-619ddacfb1ae",
        "id": "CpayBiLvTM3D"
      },
      "execution_count": 67,
      "outputs": [
        {
          "output_type": "stream",
          "name": "stdout",
          "text": [
            "Accuracy: 0.983295\n",
            "Precision: 0.970398\n",
            "recall or sensitivity: 0.973724\n",
            "specificity: 0.988808\n",
            "F1 score: 0.972059\n"
          ]
        }
      ]
    },
    {
      "cell_type": "code",
      "source": [
        "# PR curve\n",
        "from sklearn.metrics import precision_recall_curve, auc\n",
        "precision, recall, thresholds = precision_recall_curve(train_y_true, train_y_preds)"
      ],
      "metadata": {
        "id": "YMwj8wwhTM3D"
      },
      "execution_count": 68,
      "outputs": []
    },
    {
      "cell_type": "code",
      "source": [
        "# calculate scores\n",
        "lr_auc = auc(recall, precision)\n",
        "# plot the precision-recall curves\n",
        "plt.plot(recall, precision, marker='.', label='Model Aug(auc: %.3f)' %lr_auc)\n",
        "# axis labels\n",
        "plt.xlabel('Recall')\n",
        "plt.ylabel('Precision')\n",
        "# show the legend\n",
        "plt.legend()\n",
        "# show the plot\n",
        "plt.show()"
      ],
      "metadata": {
        "colab": {
          "base_uri": "https://localhost:8080/",
          "height": 278
        },
        "outputId": "295892f7-7495-48b5-cdd0-ddd0bf8ce872",
        "id": "7hw8XWRNTM3E"
      },
      "execution_count": 69,
      "outputs": [
        {
          "output_type": "display_data",
          "data": {
            "text/plain": [
              "<Figure size 432x288 with 1 Axes>"
            ],
            "image/png": "[encoded data removed]"
          },
          "metadata": {
            "image/png": {
              "width": 392,
              "height": 261
            },
            "needs_background": "light"
          }
        }
      ]
    },
    {
      "cell_type": "markdown",
      "metadata": {
        "id": "HeANWQmGTM3E"
      },
      "source": [
        "Annotate dataset\n"
      ]
    },
    {
      "cell_type": "code",
      "source": [
        "train_df['quality'] = np.zeros(train_df.shape[0])"
      ],
      "metadata": {
        "id": "tkNuRsSeTM3H"
      },
      "execution_count": 75,
      "outputs": []
    },
    {
      "cell_type": "code",
      "execution_count": 77,
      "metadata": {
        "id": "eb_kD87ATM3H"
      },
      "outputs": [],
      "source": [
        "for i in range(len(train_indices)):\n",
        "      if train_y_true[i] == train_preds[i]:\n",
        "          train_df.loc[train_indices[i],'quality'] = \"0\"\n",
        "      else:\n",
        "        train_df.loc[train_indices[i],'quality'] = \"1\""
      ]
    },
    {
      "cell_type": "code",
      "source": [
        "train_df.shape"
      ],
      "metadata": {
        "colab": {
          "base_uri": "https://localhost:8080/"
        },
        "outputId": "82050c9d-9ab8-47df-b0a8-e7c76eb7a158",
        "id": "URIqeD60TM3I"
      },
      "execution_count": 78,
      "outputs": [
        {
          "output_type": "execute_result",
          "data": {
            "text/plain": [
              "(8800, 5)"
            ]
          },
          "metadata": {},
          "execution_count": 78
        }
      ]
    },
    {
      "cell_type": "code",
      "source": [
        "train_df = train_df.astype({\"quality\":\"category\"})"
      ],
      "metadata": {
        "id": "tjJidJ81TM3I"
      },
      "execution_count": 80,
      "outputs": []
    },
    {
      "cell_type": "code",
      "source": [
        "print(\"Sample length\",len(train_df))\n",
        "print(train_df.groupby('quality').image_name.count())\n",
        "plot_count(train_df.quality, \n",
        "               {\"title\":\"IMAGES BY GROUND TRUTH\",\n",
        "                \"xlabel\":\"QUALITY\",\"ylabel\":\"NUMBER OF IMAGES\",\"x\":\"quality\"})"
      ],
      "metadata": {
        "colab": {
          "base_uri": "https://localhost:8080/",
          "height": 545
        },
        "outputId": "be4e576a-be1a-45c2-8f71-341a1153fd5a",
        "id": "CZAvRLvvTM3J"
      },
      "execution_count": 81,
      "outputs": [
        {
          "output_type": "stream",
          "name": "stdout",
          "text": [
            "Sample length 8800\n",
            "quality\n",
            "0    8653\n",
            "1     147\n",
            "Name: image_name, dtype: int64\n"
          ]
        },
        {
          "output_type": "stream",
          "name": "stderr",
          "text": [
            "/usr/local/lib/python3.7/dist-packages/seaborn/_decorators.py:43: FutureWarning: Pass the following variable as a keyword arg: x. From version 0.12, the only valid positional argument will be `data`, and passing other arguments without an explicit keyword will result in an error or misinterpretation.\n",
            "  FutureWarning\n"
          ]
        },
        {
          "output_type": "display_data",
          "data": {
            "text/plain": [
              "<Figure size 720x432 with 1 Axes>"
            ],
            "image/png": "[encoded data removed]"
          },
          "metadata": {
            "image/png": {
              "width": 618,
              "height": 387
            },
            "needs_background": "light"
          }
        }
      ]
    },
    {
      "cell_type": "code",
      "source": [
        "train_df.to_csv('quality_train.csv')"
      ],
      "metadata": {
        "id": "bmJEu2qzTM3J"
      },
      "execution_count": 82,
      "outputs": []
    }
  ]
}